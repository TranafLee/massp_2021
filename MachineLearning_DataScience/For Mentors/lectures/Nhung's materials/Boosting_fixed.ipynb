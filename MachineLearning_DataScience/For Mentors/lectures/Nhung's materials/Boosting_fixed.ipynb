{
 "cells": [
  {
   "cell_type": "code",
   "execution_count": 1,
   "metadata": {},
   "outputs": [],
   "source": [
    "import pandas as pd\n",
    "import numpy as np"
   ]
  },
  {
   "cell_type": "markdown",
   "metadata": {},
   "source": [
    "# Goals"
   ]
  },
  {
   "cell_type": "markdown",
   "metadata": {},
   "source": [
    "## Bagging vs. Boosting"
   ]
  },
  {
   "cell_type": "markdown",
   "metadata": {},
   "source": [
    "### Bagging\n",
    "\n",
    "Bagging = Boostrap Averaging\n",
    "\n",
    "- Boostrap:\n",
    "\n",
    "    - Suppose we have 1000 data points → $D = 1000$\n",
    "    - We get 15 datasets, each has 700 randomly chosen data points from our pool of 1000 data points → $B = 15, n = 700$\n",
    "    - Learning algorithm gives B decision functions: $\\hat{f_1}(x)$, $\\hat{f_2}(x)$, ..., $\\hat{f_B}(x).$\n",
    "\n",
    "- Averaging:\n",
    "    - We fix some particular $x_0$\n",
    "    - Then we have: $\\hat{f_{avg}}(x_0)$ = $\\frac{1}{B} \\sum_{b=1}^{B} \\hat{f_{b}}(x_0).$\n"
   ]
  },
  {
   "cell_type": "markdown",
   "metadata": {},
   "source": [
    "## Boosting\n",
    "\n",
    "Improving weak learners by building weak learn sequentially (i.e., the next weak learning is built upon the previous weak learner with some improvement)\n",
    "\n",
    "- Boosting Steps: \n",
    "    - A weak learner: a classifier that does better than random\n",
    "    - Combine a set of weak learner to form a single classifier that makes accurate predictions \n"
   ]
  },
  {
   "cell_type": "markdown",
   "metadata": {},
   "source": [
    "### Boosting - Adaboost\n"
   ]
  },
  {
   "cell_type": "markdown",
   "metadata": {},
   "source": [
    "- Binary classification: $Y = \\{-1, 1\\}$\n",
    "- Training set: $D = \\{ \\{x_1, y_1\\}, \\{x_2, y_2\\}, ..., \\{x_n, y_n\\}\\}$\n",
    "- Weights: $W = \\{ w_1, w_2, w_3, ..., w_n \\}$\n",
    "- At the begining $m = 1$, $w_1 = w_2 =... w_n = \\frac{1}{n}$\n",
    "\n",
    "- For each round $m = 1,...,M$, we have a base learner $G_m(x)$\n",
    "\n",
    "    - Calculate error: \n",
    "$err_m = \\frac{\\sum_{i=1}^{n} (w_i * terror_i)}{\\sum_{i=1}^{n} (w_i)} = \\frac{A}{B}, $\n",
    "\n",
    "        where:\n",
    "$$\n",
    "\\begin{eqnarray*}\n",
    "&& A = \\sum_{i=1}^{n} (w_i * terror_i)\n",
    "\\\\\n",
    "&& B = \\sum_{i=1}^{n} (w_i)\n",
    "\\\\\n",
    "&& terror_i = 1 * ( y_i \\# G_m(x_i) )\n",
    "\\end{eqnarray*}\n",
    "$$\n",
    "\n",
    "    - Calculate rate of the learner:\n",
    "$\\alpha_m = ln \\big(\\frac{1 - err_m}{err_m}\\big)$ \n",
    "\n",
    "    - Update weight $w_i,$ for $i = 1,2,...,n$:  The idea is to give more weights to the wrongly classified data\n",
    "$$w_i = w_i * e^{\\alpha_m} = w_i * \\frac{1 - err_m}{err_m}$$\n",
    "\n",
    "\n",
    "- After M rounds, we have \n",
    "    - $M$ classifiers: $G_1(x), G_1(x), ..., G_M(x)$\n",
    "    - $M$ rates of the learners: $\\alpha_1, \\alpha_2, ..., \\alpha_M$\n",
    "    \n",
    "- Final classifier: $G(x) = sign[\\sum_{m=1}^{M} (\\alpha_m * G_m(x))] $"
   ]
  },
  {
   "cell_type": "markdown",
   "metadata": {},
   "source": [
    "### Boosting - Gradient Boosting"
   ]
  },
  {
   "cell_type": "markdown",
   "metadata": {},
   "source": [
    "Three elements:\n",
    "  - Loss Function: \n",
    "      - This depends on the problem we are solving. For example, regression problems often use MSE loss, while classification may use log loss.\n",
    "      - This loss function must be differentiable\n",
    "        \n",
    "  - Weak Learner:\n",
    "      - Each decision tree is a weak learner\n",
    "      - Trees are built in a greedy maner (each time, we go through every possible spliting point, and find the best spliting points, depending on the performance metric we use such as Information Gain)\n",
    "   \n",
    "  - Additive Model:\n",
    "      - A new tree is added in each round\n",
    "      - A gradient descent procedure is used to minimize the loss when adding a new tree\n",
    "      - The output of the newly added tree is added to the output of the existing sequene of tree previously built"
   ]
  },
  {
   "cell_type": "markdown",
   "metadata": {},
   "source": [
    "## Practice\n",
    "\n",
    "Using sklearn's Gradient Boosting & Adaboost for classification"
   ]
  },
  {
   "cell_type": "code",
   "execution_count": 74,
   "metadata": {},
   "outputs": [],
   "source": [
    "import sklearn\n",
    "from sklearn.datasets import load_iris\n",
    "from sklearn.datasets import make_classification\n",
    "from sklearn.ensemble import AdaBoostClassifier\n",
    "from sklearn.ensemble import GradientBoostingClassifier\n",
    "from sklearn.model_selection import cross_val_score\n",
    "from sklearn.datasets import make_classification\n",
    "from matplotlib import pyplot as plt\n",
    "from numpy import arange"
   ]
  },
  {
   "cell_type": "code",
   "execution_count": 59,
   "metadata": {},
   "outputs": [],
   "source": [
    "X, y = make_classification(n_samples=1000, \n",
    "                           n_features=20,\n",
    "                            n_informative=10, \n",
    "                           n_redundant=0,\n",
    "                            random_state=19, \n",
    "                           shuffle=False)"
   ]
  },
  {
   "cell_type": "code",
   "execution_count": 60,
   "metadata": {},
   "outputs": [],
   "source": [
    "def evaluate_model(model, X, y):\n",
    "    '''\n",
    "    Ref: https://scikit-learn.org/stable/modules/generated/sklearn.model_selection.cross_val_score.html\n",
    "    '''\n",
    "    scores = cross_val_score(model, \n",
    "                             X, y, \n",
    "                             scoring='accuracy', \n",
    "                             n_jobs=-1)\n",
    "    return scores"
   ]
  },
  {
   "cell_type": "markdown",
   "metadata": {},
   "source": [
    "#### Adaboost - Number of Trees"
   ]
  },
  {
   "cell_type": "code",
   "execution_count": 61,
   "metadata": {},
   "outputs": [],
   "source": [
    "results = []\n",
    "model_names = []\n",
    "for num_trees in [5, 10, 15, 50, 100]:\n",
    "    model = AdaBoostClassifier(n_estimators=num_trees)\n",
    "    scores = evaluate_model(model, X, y)\n",
    "    results.append(scores)\n",
    "    model_names.append('{}'.format(num_trees))"
   ]
  },
  {
   "cell_type": "code",
   "execution_count": 62,
   "metadata": {},
   "outputs": [
    {
     "data": {
      "text/plain": [
       "[array([0.785, 0.765, 0.825, 0.735, 0.69 ]),\n",
       " array([0.8  , 0.82 , 0.86 , 0.85 , 0.805]),\n",
       " array([0.815, 0.84 , 0.87 , 0.91 , 0.895]),\n",
       " array([0.86, 0.89, 0.9 , 0.91, 0.88]),\n",
       " array([0.87 , 0.89 , 0.905, 0.92 , 0.9  ])]"
      ]
     },
     "execution_count": 62,
     "metadata": {},
     "output_type": "execute_result"
    }
   ],
   "source": [
    "results"
   ]
  },
  {
   "cell_type": "code",
   "execution_count": 63,
   "metadata": {},
   "outputs": [
    {
     "data": {
      "text/plain": [
       "['5', '10', '15', '50', '100']"
      ]
     },
     "execution_count": 63,
     "metadata": {},
     "output_type": "execute_result"
    }
   ],
   "source": [
    "model_names"
   ]
  },
  {
   "cell_type": "code",
   "execution_count": 64,
   "metadata": {},
   "outputs": [
    {
     "data": {
      "image/png": "[encoded data removed]",
      "text/plain": [
       "<Figure size 432x288 with 1 Axes>"
      ]
     },
     "metadata": {
      "needs_background": "light"
     },
     "output_type": "display_data"
    }
   ],
   "source": [
    "plt.boxplot(results, labels=model_names, showmeans=True)\n",
    "plt.title('Adaboost performance comparison - Num Trees')\n",
    "plt.xlabel('num_trees')\n",
    "plt.ylabel('accuracy')\n",
    "plt.show()"
   ]
  },
  {
   "cell_type": "markdown",
   "metadata": {},
   "source": [
    "#### Adaboost - Learning Rate"
   ]
  },
  {
   "cell_type": "code",
   "execution_count": 65,
   "metadata": {},
   "outputs": [],
   "source": [
    "results = []\n",
    "model_names = []\n",
    "for lr in [0.0001, 0.001, 0.01, 0.1, 1.0]:\n",
    "    model = AdaBoostClassifier(n_estimators=10,\n",
    "                              learning_rate=lr)\n",
    "    scores = evaluate_model(model, X, y)\n",
    "    results.append(scores)\n",
    "    model_names.append('{}'.format(lr))"
   ]
  },
  {
   "cell_type": "code",
   "execution_count": 66,
   "metadata": {},
   "outputs": [
    {
     "data": {
      "image/png": "[encoded data removed]",
      "text/plain": [
       "<Figure size 432x288 with 1 Axes>"
      ]
     },
     "metadata": {
      "needs_background": "light"
     },
     "output_type": "display_data"
    }
   ],
   "source": [
    "plt.boxplot(results, labels=model_names, showmeans=True)\n",
    "plt.title('Adaboost performance comparison - Learning Rates')\n",
    "plt.xlabel('lr')\n",
    "plt.ylabel('accuracy')\n",
    "plt.show()"
   ]
  },
  {
   "cell_type": "code",
   "execution_count": 85,
   "metadata": {},
   "outputs": [],
   "source": [
    "results = []\n",
    "model_names = []\n",
    "for subsample in arange(0.1, 1, 0.1):\n",
    "    model = GradientBoostingClassifier(subsample=subsample)\n",
    "    scores = evaluate_model(model, X, y)\n",
    "    results.append(scores)\n",
    "    model_names.append('{}'.format(round(subsample, 2)))"
   ]
  },
  {
   "cell_type": "code",
   "execution_count": 86,
   "metadata": {
    "scrolled": true
   },
   "outputs": [
    {
     "data": {
      "image/png": "[encoded data removed]",
      "text/plain": [
       "<Figure size 432x288 with 1 Axes>"
      ]
     },
     "metadata": {
      "needs_background": "light"
     },
     "output_type": "display_data"
    }
   ],
   "source": [
    "plt.boxplot(results, labels=model_names, showmeans=True)\n",
    "plt.title('Gradient Boosting performance comparison - Subsample')\n",
    "plt.xlabel('subsample')\n",
    "plt.ylabel('accuracy')\n",
    "plt.xticks(rotation=90)\n",
    "plt.show()"
   ]
  },
  {
   "cell_type": "markdown",
   "metadata": {},
   "source": [
    "## Overfitting in Tree Methods\n",
    "\n",
    "- Happens when model's performance is high in training while low in validation --> Poor generalization of the model\n",
    "\n",
    "\n",
    "## Dealing with overfitting\n",
    "- Tree Shrinkage:\n",
    "    - Lower number of trees\n",
    "    - Lower depth\n",
    "    - Decrease number of samples for each tree to fit\n",
    "    "
   ]
  },
  {
   "cell_type": "code",
   "execution_count": null,
   "metadata": {},
   "outputs": [],
   "source": []
  }
 ],
 "metadata": {
  "kernelspec": {
   "display_name": "Python 3",
   "language": "python",
   "name": "python3"
  },
  "language_info": {
   "codemirror_mode": {
    "name": "ipython",
    "version": 3
   },
   "file_extension": ".py",
   "mimetype": "text/x-python",
   "name": "python",
   "nbconvert_exporter": "python",
   "pygments_lexer": "ipython3",
   "version": "3.7.3"
  }
 },
 "nbformat": 4,
 "nbformat_minor": 4
}
