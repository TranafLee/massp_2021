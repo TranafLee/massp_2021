{
 "cells": [
  {
   "cell_type": "markdown",
   "metadata": {},
   "source": [
    "# 1. Distance and Norm\n",
    "\n",
    "- **Purpose for distance**: a numerical quantitative measure of the physical properties between two object or the process of measuring the differences.\n",
    "- **Norm**: a\n",
    "\n",
    "## 1.1 Distance:\n",
    "- **Defition**: a function $d:X\\times X \\longrightarrow \\mathbb{R}^+$ that defines a non-negative numerical value between each pair of point elements of a set and satisfies the following properties.\n",
    "    1.\t**identity of indiscernibles**: $d(x,y)=0\\Leftrightarrow x=y$.\n",
    "    2.\t**symmetry**: $d(x,y)=d(y,x)$.\t\n",
    "    3.\t**subadditivity or triangle inequality**: $d(x,y)\\leq d(x,z)+d(z,y)$\t\n",
    "\n",
    "## 1.2 Norm:\n",
    "- **Defition**: a function $||\\cdot||:X\\longrightarrow \\mathbb{R}^+$ that also defines a non-negative numerical value for each element in the vector space $X$, intuitively, it measures the distance between an element and the origin. Hence, we have mostly the same properties as a distance for norm.\n",
    "\n",
    "    1. **non-negativity**: $||x||\\geq0 \\forall x \\in X$\n",
    "    2. **zero vector**: $||x|| = 0 \\longrightarrow x =0$ is called the zero vector.\n",
    "    3. **absolutely scalable**: $||\\alpha x|| = |\\alpha|||x|| \\forall x \\in X, \\alpha \\in \\mathbb{R}$.\n",
    "    4. **subadditivity or triangle inequality**: $||x|| + ||y||\\geq ||x+y|| \\forall x,y \\in X$.\n",
    "    \n",
    "- **Note**: every norm induces a distance function but not the converse. Why?\n",
    "    \n",
    "## 1.3 Some common norm/distance function:\n",
    "\n",
    "- **Euclidean**: the most popular type of norm/distance function in real world as well as in the academic literature which is defined as for $x,y \\in \\mathbb{R}^n$\n",
    "$$d(x,y) = \\sum_{i=1}^n \\left(|x_i-y_i|^2\\right)^{1/2}$$\n",
    "and for vector $\\overline{x} \\in \\mathbb{R}^n$\n",
    "$$||\\overline{x}||_2 = \\sum_{i=1}^n \\left(|\\overline{x}_i|^2\\right)^{1/2}$$\n",
    "It is also called $L_2$ norm or root mean squared error (rmse).\n",
    "\n",
    "- **Absolute value**: the norm/distance function is defined solely based on the absolute value\n",
    "$$d(x,y) = \\sum_{i=1}^n |x_i-y_i|$$\n",
    "$$||\\overline{x}||_1 = \\sum_{i=1}^n |\\overline{x}_i|$$\n",
    "\n",
    "    - Notes: it is also called **Manhattan/Taxi-cab distance/$L_1$/mean absolute error**\n",
    "- **Minkowski**: is a metric in a normed vector space which can be considered as a generalization of both the Euclidean distance and the Manhattan distance. It is named after the German mathematician Hermann Minkowski and is defined with $p\\geq 1$\n",
    "$$d(x,y) = \\sum_{i=1}^n \\left(|x_i-y_i|^p\\right)^{1/p}$$\n",
    "$$||\\overline{x}||_2 = \\sum_{i=1}^n \\left(|\\overline{x}_i|^p\\right)^{1/p}$$\n"
   ]
  },
  {
   "cell_type": "code",
   "execution_count": null,
   "metadata": {},
   "outputs": [],
   "source": []
  }
 ],
 "metadata": {
  "kernelspec": {
   "display_name": "Python 3",
   "language": "python",
   "name": "python3"
  },
  "language_info": {
   "codemirror_mode": {
    "name": "ipython",
    "version": 3
   },
   "file_extension": ".py",
   "mimetype": "text/x-python",
   "name": "python",
   "nbconvert_exporter": "python",
   "pygments_lexer": "ipython3",
   "version": "3.7.6"
  }
 },
 "nbformat": 4,
 "nbformat_minor": 4
}
