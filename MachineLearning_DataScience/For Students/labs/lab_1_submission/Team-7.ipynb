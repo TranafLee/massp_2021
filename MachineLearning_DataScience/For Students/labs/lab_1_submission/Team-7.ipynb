{
 "cells": [
  {
   "cell_type": "code",
   "execution_count": 1,
   "metadata": {
    "id": "M0569XVpsgw3"
   },
   "outputs": [],
   "source": [
    "import numpy as np\n",
    "import pandas as pd\n",
    "import scipy\n",
    "import tensorflow as tf\n",
    "import matplotlib.pyplot as plt\n",
    "import seaborn as sns\n",
    "import sys\n",
    "import time\n",
    "import tqdm\n",
    "import sklearn\n",
    "from sklearn import datasets\n",
    "from sklearn import svm\n",
    "from typing import Optional"
   ]
  },
  {
   "cell_type": "markdown",
   "metadata": {
    "id": "CHqYMg2vtfo_"
   },
   "source": [
    "# Linear Regression\n",
    "\n",
    "\n",
    "*   Dataset: house price from boston\n",
    "*   Objective: implement both numerical + analytical solutions\n",
    "*   PLot and check for convergence\n",
    "*   Compare with Linear Regression using sklearn\n",
    "\n",
    "\n",
    "1.   Analytical solution: $\\beta = (X^TX)^{-1}X^T y$\n",
    "2.   Numerical solution:\n",
    "\n",
    "      *   Loss function (MSE): $\\mathcal{L} (y, \\hat{y}) = \\frac{1}{N}\\sum_{i=1}^N (y-\\hat{y})^2$\n",
    "      *   Update rule: $\\beta_{t+1} = \\beta_t - \\gamma \\nabla \\mathcal{L} (\\beta_t)$\n",
    "      *   Momentum: $\\Delta \\beta_{t+1} = -\\gamma \\nabla \\mathcal{L}(\\beta_{t+1}) + \\alpha\\Delta \\beta_{t}$\n",
    "      *   Update rule for momentum:  $\\beta_{t+1} = \\beta_t + \\Delta \\beta_{t}$\n",
    "\n",
    "\n",
    "\n",
    "\n",
    "\n",
    "\n",
    "\n"
   ]
  },
  {
   "cell_type": "code",
   "execution_count": 2,
   "metadata": {
    "colab": {
     "base_uri": "https://localhost:8080/"
    },
    "id": "fdWNzkrwssnA",
    "outputId": "09d1ddc5-4c07-4b4c-d631-a5a7d57c2860"
   },
   "outputs": [
    {
     "data": {
      "text/plain": [
       "((506, 14), (506,))"
      ]
     },
     "execution_count": 2,
     "metadata": {},
     "output_type": "execute_result"
    }
   ],
   "source": [
    "# LOAD DATA\n",
    "X, y = datasets.load_boston(return_X_y=True)\n",
    "X = np.hstack((\n",
    "    np.ones(shape=(X.shape[0], 1)), X,\n",
    "))\n",
    "X.shape, y.shape"
   ]
  },
  {
   "cell_type": "code",
   "execution_count": 3,
   "metadata": {
    "id": "1s0IEdnl3hZO"
   },
   "outputs": [],
   "source": [
    "def timer(f):\n",
    "  def helper(*args, **kwargs):\n",
    "    print(f\"function: {f.__name__}\")\n",
    "    t1 = time.time()\n",
    "    out = f(*args, **kwargs)\n",
    "    t2 = time.time()\n",
    "    print(f\"elapsed time: {t2-t1}\")\n",
    "    return out\n",
    "  return helper\n"
   ]
  },
  {
   "cell_type": "code",
   "execution_count": 4,
   "metadata": {
    "id": "kgngjIvHuZ0C"
   },
   "outputs": [],
   "source": [
    "# IMPLEMENT NUMERICAL SOLUTION HERE\n",
    "@timer\n",
    "def analytical_solution(X: np.ndarray, y: np.ndarray) -> np.ndarray:\n",
    "  assert len(X.shape) == 2, \"X must be a matrix\"\n",
    "  assert len(y.shape) == 1, \"y must be a vector\"\n",
    "  assert X.shape[0] == y.shape[0], \"X.shape[0] must equal y.shape[0]\"\n",
    "  beta = np.linalg.inv(X.T @ X) @ X.T @ y\n",
    "  return beta"
   ]
  },
  {
   "cell_type": "code",
   "execution_count": 5,
   "metadata": {
    "id": "Ge7BMeZrucN3"
   },
   "outputs": [],
   "source": [
    "# IMPLEMENT GRADIENT DESCENT HERE\n",
    "# REQUIREMENTS: a function to calculate the gradient , a function to calculate the loss function, a function to excecute gradient descent\n",
    "class LinearRegression:\n",
    "  def predict(self, X: np.ndarray) -> np.ndarray:\n",
    "    assert len(X.shape) == 2, \"X must be a matrix\"\n",
    "    assert X.shape[1] == self.num_features, \"X.shape[1] must equal num_features\"\n",
    "    return X @ self.beta\n",
    "\n",
    "  @staticmethod\n",
    "  def cost_function(X: np.ndarray, y: np.ndarray, beta: np.ndarray) -> np.ndarray:\n",
    "    assert len(X.shape) == 2, \"X must be a matrix\"\n",
    "    assert len(y.shape) == 1, \"y must be a vector\"\n",
    "    assert len(beta.shape) == 1, \"beta must be a vector\"\n",
    "    assert X.shape[1] == beta.shape[0], \"X.shape[1] must equal beta.shape[0]\"\n",
    "    assert X.shape[0] == y.shape[0], \"X.shape[0] must equal y.shape[0]\"\n",
    "    y_ = X @ beta\n",
    "    return np.mean((y_ - y)**2)\n",
    "\n",
    "  @staticmethod\n",
    "  def gradient(X: np.ndarray, y: np.ndarray, beta: np.ndarray) -> np.ndarray:\n",
    "    assert len(X.shape) == 2, \"X must be a matrix\"\n",
    "    assert len(y.shape) == 1, \"y must be a vector\"\n",
    "    assert len(beta.shape) == 1, \"beta must be a vector\"\n",
    "    assert X.shape[1] == beta.shape[0], \"X.shape[1] must equal beta.shape[0]\"\n",
    "    assert X.shape[0] == y.shape[0], \"X.shape[0] must equal y.shape[0]\"\n",
    "    y_ = X @ beta\n",
    "    return 2 * np.mean((y_ - y).reshape(y.shape[0], 1) * X, axis=0)\n",
    "        \n",
    "  def fit(self, X: np.ndarray, y: np.ndarray, tau: float = 0.01, gamma: float = 0.05):\n",
    "    assert len(X.shape) == 2, \"X must be a matrix\"\n",
    "    assert len(y.shape) == 1, \"y must be a vector\"\n",
    "    assert X.shape[0] == y.shape[0], \"X.shape[0] must equal y.shape[0]\"\n",
    "    loss = []\n",
    "    beta = np.random.normal(loc=0, scale=1/X.shape[1], size=(X.shape[1], ))\n",
    "\n",
    "    while True:\n",
    "      if len(loss) >= 2 and abs(loss[-1] - loss[-2]) >= tau:\n",
    "        break\n",
    "      # update parameter\n",
    "      beta -= gamma * self.gradient(X, y, beta)\n",
    "      # save progress\n",
    "      loss.append(self.cost_function(X, y, beta))\n",
    "      if np.isnan(loss[-1]).any():\n",
    "        print(loss)\n",
    "        raise Exception(\"NaN\")\n",
    "      if np.isinf(loss[-1]).any():\n",
    "        print(loss)\n",
    "        raise Exception(\"Inf\")\n",
    "\n",
    "    self.beta = beta\n",
    "    self.loss = loss\n",
    "\n",
    "\n",
    "  def fit_momentum(self, X: np.ndarray, y: np.ndarray, tau: float = 0.01, gamma: float =0.05, alpha: float = 0.05, nesterov: bool=True):\n",
    "    assert len(X.shape) == 2, \"X must be a matrix\"\n",
    "    assert len(y.shape) == 1, \"y must be a vector\"\n",
    "    assert X.shape[0] == y.shape[0], \"X.shape[0] must equal y.shape[0]\"\n",
    "    loss = []\n",
    "    beta = np.random.normal(loc=0, scale=1/X.shape[1], size=(X.shape[1], ))\n",
    "    beta_d = np.zeros_like(beta)\n",
    "    while True:\n",
    "      if len(loss) >= 2 and abs(loss[-1] - loss[-2]) < tau:\n",
    "        break\n",
    "      # update parameter\n",
    "      if not nesterov:\n",
    "        grad = self.gradient(X, y, beta)\n",
    "      else:\n",
    "        grad = self.gradient(X, y, beta + alpha * beta_d)\n",
    "      beta_d = alpha * beta_d - gamma * grad\n",
    "      beta += beta_d\n",
    "      # save progress\n",
    "      loss.append(self.cost_function(X, y, beta))\n",
    "      if np.isnan(loss[-1]).any():\n",
    "        print(loss)\n",
    "        raise Exception(\"NaN\")\n",
    "      if np.isinf(loss[-1]).any():\n",
    "        print(loss)\n",
    "        raise Exception(\"Inf\")\n",
    "      \n",
    "    self.beta = beta\n",
    "    self.loss = loss\n",
    "\n",
    "@timer\n",
    "def gradient_descent(X: np.ndarray, y: np.ndarray) -> np.ndarray:\n",
    "  assert len(X.shape) == 2, \"X must be a matrix\"\n",
    "  assert len(y.shape) == 1, \"y must be a vector\"\n",
    "  assert X.shape[0] == y.shape[0], \"X.shape[0] must equal y.shape[0]\"\n",
    "  model = LinearRegression()\n",
    "  model.fit_momentum(X, y, gamma=0.000001, tau=0.00001, nesterov=True)\n",
    "  fig, ax = plt.subplots(nrows=1, ncols=1)\n",
    "  ax.plot(np.arange(1, 1+len(model.loss)), model.loss)\n",
    "  ax.set_title(\"gradient descent\")\n",
    "  ax.set_xlabel(\"iteration\")\n",
    "  ax.set_ylabel(\"loss\")\n",
    "  return model.beta"
   ]
  },
  {
   "cell_type": "code",
   "execution_count": 6,
   "metadata": {
    "id": "qOt5WEgCyoGj"
   },
   "outputs": [],
   "source": [
    "# SOLUTION FROM SKLEARN\n",
    "@timer\n",
    "def sklearn_gradient_descent(X: np.ndarray, y: np.ndarray) -> np.ndarray:\n",
    "  assert len(X.shape) == 2, \"X must be a matrix\"\n",
    "  assert len(y.shape) == 1, \"y must be a vector\"\n",
    "  assert X.shape[0] == y.shape[0], \"X.shape[0] must equal y.shape[0]\"\n",
    "  from sklearn.linear_model import LinearRegression\n",
    "  model = LinearRegression()\n",
    "  model.fit(X[:, 1:], y)\n",
    "  beta = np.empty(shape=(X.shape[1], ))\n",
    "  beta[0], beta[1:] = model.intercept_, model.coef_\n",
    "  return beta"
   ]
  },
  {
   "cell_type": "code",
   "execution_count": 7,
   "metadata": {
    "id": "X8aFWwgD1bX-"
   },
   "outputs": [],
   "source": [
    "def mse(X: np.ndarray, y: np.ndarray, beta: np.ndarray) -> float:\n",
    "  return float(np.mean((X @ beta - y)**2))"
   ]
  },
  {
   "cell_type": "code",
   "execution_count": 8,
   "metadata": {
    "colab": {
     "base_uri": "https://localhost:8080/",
     "height": 451
    },
    "id": "FT0WZzUoudvU",
    "outputId": "36890a7c-6f19-4c5f-a780-bfddfdcb043a"
   },
   "outputs": [
    {
     "name": "stdout",
     "output_type": "stream",
     "text": [
      "function: analytical_solution\n",
      "elapsed time: 0.0003409385681152344\n",
      "function: gradient_descent\n",
      "elapsed time: 72.07220196723938\n",
      "function: sklearn_gradient_descent\n",
      "elapsed time: 0.0016129016876220703\n",
      "21.8948311817292\n",
      "28.112797412374807\n",
      "21.894831181729202\n"
     ]
    },
    {
     "data": {
      "image/png": "[encoded data removed]",
      "text/plain": [
       "<Figure size 432x288 with 1 Axes>"
      ]
     },
     "metadata": {
      "needs_background": "light"
     },
     "output_type": "display_data"
    }
   ],
   "source": [
    "# VISUALIZATION\n",
    "beta1 = analytical_solution(X, y)\n",
    "beta2 = gradient_descent(X, y)\n",
    "beta3 = sklearn_gradient_descent(X, y)\n",
    "print(mse(X, y, beta1))\n",
    "print(mse(X, y, beta2))\n",
    "print(mse(X, y, beta3))"
   ]
  },
  {
   "cell_type": "markdown",
   "metadata": {
    "id": "DeLtzkXj2QAd"
   },
   "source": [
    "# Logistic Regression\n",
    "\n",
    "*   Dataset: breast cancer dataset\n",
    "*   Objective: implement both numerical solution\n",
    "*   PLot and check for convergence\n",
    "*   Compare with Linear Regression using sklearn\n",
    "\n",
    "\n",
    "#   Numerical solution:\n",
    "\n",
    "*   Loss function (Maximum Likelihood Estimator): $\\mathcal{L} (y,\\hat{y}) = -\\frac{1}{N}\\sum_{i=1}^N \\left[y_i\\cdot\\log(\\hat{y}_i)+(1-y_i)\\log(1-\\hat{y}_i)\\right]$\n",
    "      "
   ]
  },
  {
   "cell_type": "code",
   "execution_count": 9,
   "metadata": {
    "colab": {
     "base_uri": "https://localhost:8080/"
    },
    "id": "Z0V5nm804p8B",
    "outputId": "634f303d-1d7e-4e5b-fb16-141203aeae9a"
   },
   "outputs": [
    {
     "data": {
      "text/plain": [
       "((569, 31), (569,))"
      ]
     },
     "execution_count": 9,
     "metadata": {},
     "output_type": "execute_result"
    }
   ],
   "source": [
    "X,y = datasets.load_breast_cancer(return_X_y = True)\n",
    "# Normalized X\n",
    "X = X - np.mean(X, axis=0)\n",
    "X = X / np.std(X, axis=0)\n",
    "np.mean(X, axis=0), np.std(X, axis=0)\n",
    "# add one\n",
    "X = np.hstack((\n",
    "    np.ones(shape=(X.shape[0], 1)), X,\n",
    "))\n",
    "X.shape, y.shape"
   ]
  },
  {
   "cell_type": "code",
   "execution_count": 10,
   "metadata": {
    "id": "GvoAVRjS2m7v"
   },
   "outputs": [],
   "source": [
    "class LogisticRegression:\n",
    "  def predict(self, X: np.ndarray) -> np.ndarray:\n",
    "    assert len(X.shape) == 2, \"X must be a matrix\"\n",
    "    return LogisticRegression.logistic_function(X @ self.beta)\n",
    "\n",
    "  @staticmethod\n",
    "  def logistic_function(t: np.ndarray) -> np.ndarray:\n",
    "    return 1 / (1 + np.exp(-t))\n",
    "    \n",
    "  @staticmethod\n",
    "  def cost_function(X: np.ndarray, y: np.ndarray, beta: np.ndarray) -> np.ndarray:\n",
    "    assert len(X.shape) == 2, \"X must be a matrix\"\n",
    "    assert len(y.shape) == 1, \"y must be a vector\"\n",
    "    assert X.shape[0] == y.shape[0], \"X.shape[0] must equal y.shape[0]\"\n",
    "    y_ = LogisticRegression.logistic_function(X @ beta)\n",
    "    return - np.mean(y * np.log(y_) + (1-y) * np.log(1-y_))\n",
    "\n",
    "  @staticmethod\n",
    "  def gradient(X: np.ndarray, y: np.ndarray, beta: np.ndarray):\n",
    "    assert len(X.shape) == 2, \"X must be a matrix\"\n",
    "    assert len(y.shape) == 1, \"y must be a vector\"\n",
    "    assert len(beta.shape) == 1, \"beta must be a vector\"\n",
    "    assert X.shape[1] == beta.shape[0], \"X.shape[1] must equal beta.shape[0]\"\n",
    "    assert X.shape[0] == y.shape[0], \"X.shape[0] must equal y.shape[0]\"\n",
    "    y_ = X @ beta\n",
    "    g =  np.mean((y_ - y).reshape(y.shape[0], 1) * X, axis=0)\n",
    "    return g\n",
    "    \n",
    "  def fit(self, X: np.ndarray, y: np.ndarray, tau: float = 0.01, gamma: float = 0.05):        \n",
    "    assert len(X.shape) == 2, \"X must be a matrix\"\n",
    "    assert len(y.shape) == 1, \"y must be a vector\"\n",
    "    assert X.shape[0] == y.shape[0], \"X.shape[0] must equal y.shape[0]\"\n",
    "    loss = []\n",
    "    beta = np.random.normal(loc=0, scale=1/X.shape[1], size=(X.shape[1], ))\n",
    "    \n",
    "    while True:\n",
    "      if len(loss) >= 2 and abs(loss[-1] - loss[-2]) >= tau:\n",
    "        break\n",
    "      # update parameter\n",
    "      beta -= gamma * self.gradient(X, y, beta)\n",
    "      # save progress\n",
    "      loss.append(self.cost_function(X, y, beta))\n",
    "      if np.isnan(loss[-1]).any():\n",
    "        print(loss)\n",
    "        raise Exception(\"NaN\")\n",
    "      if np.isinf(loss[-1]).any():\n",
    "        print(loss)\n",
    "        raise Exception(\"Inf\")\n",
    "\n",
    "    self.beta = beta\n",
    "    self.loss = loss\n",
    "\n",
    "  def fit_momentum(self, X: np.ndarray, y: np.ndarray, tau: float = 0.01, gamma: float =0.05, alpha: float = 0.05, nesterov: bool=True):\n",
    "    assert len(X.shape) == 2, \"X must be a matrix\"\n",
    "    assert len(y.shape) == 1, \"y must be a vector\"\n",
    "    assert X.shape[0] == y.shape[0], \"X.shape[0] must equal y.shape[0]\"\n",
    "    loss = []\n",
    "    beta = np.random.normal(loc=0, scale=1/X.shape[1], size=(X.shape[1], ))\n",
    "    beta_d = np.zeros_like(beta)\n",
    "\n",
    "    self.cost_function(X, y, beta)\n",
    "\n",
    "    while True:\n",
    "      if len(loss) >= 2 and abs(loss[-1] - loss[-2]) < tau:\n",
    "        break\n",
    "      # update parameter\n",
    "      if not nesterov:\n",
    "        grad = self.gradient(X, y, beta)\n",
    "      else:\n",
    "        grad = self.gradient(X, y, beta + alpha * beta_d)\n",
    "      beta_d = alpha * beta_d - gamma * grad\n",
    "      beta += beta_d\n",
    "      # save progress\n",
    "      loss.append(self.cost_function(X, y, beta))\n",
    "      if np.isnan(loss[-1]).any():\n",
    "        print(loss)\n",
    "        raise Exception(\"NaN\")\n",
    "      if np.isinf(loss[-1]).any():\n",
    "        print(loss)\n",
    "        raise Exception(\"Inf\")\n",
    "\n",
    "    self.beta = beta\n",
    "    self.loss = loss\n",
    "@timer\n",
    "def gradient_descent(X: np.ndarray, y: np.ndarray) -> np.ndarray:\n",
    "  assert len(X.shape) == 2, \"X must be a matrix\"\n",
    "  assert len(y.shape) == 1, \"y must be a vector\"\n",
    "  assert X.shape[0] == y.shape[0], \"X.shape[0] must equal y.shape[0]\"\n",
    "  model = LogisticRegression()\n",
    "  model.fit_momentum(X, y, gamma=0.000001, tau=0.0000001, nesterov=True)\n",
    "  fig, ax = plt.subplots(nrows=1, ncols=1)\n",
    "  ax.plot(np.arange(1, 1+len(model.loss)), model.loss)\n",
    "  ax.set_title(\"gradient descent\")\n",
    "  ax.set_xlabel(\"iteration\")\n",
    "  ax.set_ylabel(\"loss\")\n",
    "  return model.beta"
   ]
  },
  {
   "cell_type": "code",
   "execution_count": 11,
   "metadata": {
    "id": "dPl6cd_i-MLa"
   },
   "outputs": [],
   "source": [
    "# SOLUTION FROM SKLEARN\n",
    "@timer\n",
    "def sklearn_gradient_descent(X: np.ndarray, y: np.ndarray) -> np.ndarray:\n",
    "  assert len(X.shape) == 2, \"X must be a matrix\"\n",
    "  assert len(y.shape) == 1, \"y must be a vector\"\n",
    "  assert X.shape[0] == y.shape[0], \"X.shape[0] must equal y.shape[0]\"\n",
    "  from sklearn.linear_model import LogisticRegression\n",
    "  model = LogisticRegression()\n",
    "  model.fit(X[:, 1:], y)\n",
    "  beta = np.empty(shape=(X.shape[1], ))\n",
    "  beta[0], beta[1:] = model.intercept_, model.coef_\n",
    "  return beta"
   ]
  },
  {
   "cell_type": "code",
   "execution_count": 12,
   "metadata": {
    "id": "TVElXzny-2_k"
   },
   "outputs": [],
   "source": [
    "def eval(X, y, beta):\n",
    "  from sklearn.metrics import classification_report\n",
    "  y_ = LogisticRegression.logistic_function(X @ beta) > 0.5\n",
    "  print(classification_report(y, y_))"
   ]
  },
  {
   "cell_type": "code",
   "execution_count": 13,
   "metadata": {
    "colab": {
     "base_uri": "https://localhost:8080/",
     "height": 677
    },
    "id": "woJ3kmbf-RGf",
    "outputId": "3b6d2df9-bfb9-4b16-a4b9-81beb8039070"
   },
   "outputs": [
    {
     "name": "stdout",
     "output_type": "stream",
     "text": [
      "function: gradient_descent\n",
      "elapsed time: 75.59607076644897\n",
      "function: sklearn_gradient_descent\n",
      "elapsed time: 0.01868581771850586\n",
      "              precision    recall  f1-score   support\n",
      "\n",
      "           0       0.99      0.84      0.91       212\n",
      "           1       0.91      0.99      0.95       357\n",
      "\n",
      "    accuracy                           0.94       569\n",
      "   macro avg       0.95      0.92      0.93       569\n",
      "weighted avg       0.94      0.94      0.94       569\n",
      "\n",
      "              precision    recall  f1-score   support\n",
      "\n",
      "           0       0.99      0.98      0.98       212\n",
      "           1       0.99      0.99      0.99       357\n",
      "\n",
      "    accuracy                           0.99       569\n",
      "   macro avg       0.99      0.99      0.99       569\n",
      "weighted avg       0.99      0.99      0.99       569\n",
      "\n"
     ]
    },
    {
     "data": {
      "image/png": "[encoded data removed]",
      "text/plain": [
       "<Figure size 432x288 with 1 Axes>"
      ]
     },
     "metadata": {
      "needs_background": "light"
     },
     "output_type": "display_data"
    }
   ],
   "source": [
    "# VISUALIZATION\n",
    "beta2 = gradient_descent(X, y)\n",
    "beta3 = sklearn_gradient_descent(X, y)\n",
    "eval(X, y, beta2)\n",
    "eval(X, y, beta3)"
   ]
  },
  {
   "cell_type": "markdown",
   "metadata": {
    "id": "GP9yBJO1518M"
   },
   "source": [
    "# Support Vector Machine\n",
    "\n",
    "\n",
    "*   Dataset: breast cancer\n",
    "*   Objective: understand how SVM work/ the effects of choosing kernels on dataset\n",
    "\n"
   ]
  },
  {
   "cell_type": "code",
   "execution_count": 14,
   "metadata": {
    "colab": {
     "base_uri": "https://localhost:8080/",
     "height": 265
    },
    "id": "PhZLyJoG63OE",
    "outputId": "cefc4f51-5030-4a82-f701-7623197c253a"
   },
   "outputs": [
    {
     "data": {
      "image/png": "[encoded data removed]",
      "text/plain": [
       "<Figure size 432x288 with 1 Axes>"
      ]
     },
     "metadata": {
      "needs_background": "light"
     },
     "output_type": "display_data"
    }
   ],
   "source": [
    "X, y = datasets.load_breast_cancer(return_X_y = True)\n",
    "X = X[:,:2]\n",
    "\n",
    "# fit the model, don't regularize for illustration purposes\n",
    "clf = svm.SVC(kernel='linear', C=1000)\n",
    "clf.fit(X, y)\n",
    "\n",
    "plt.scatter(X[:, 0], X[:, 1], c=y, s=30, cmap=plt.cm.Paired)\n",
    "\n",
    "# plot the decision function\n",
    "ax = plt.gca()\n",
    "xlim = ax.get_xlim()\n",
    "ylim = ax.get_ylim()\n",
    "\n",
    "# create grid to evaluate model\n",
    "xx = np.linspace(xlim[0], xlim[1], 30)\n",
    "yy = np.linspace(ylim[0], ylim[1], 30)\n",
    "YY, XX = np.meshgrid(yy, xx)\n",
    "xy = np.vstack([XX.ravel(), YY.ravel()]).T\n",
    "Z = clf.decision_function(xy).reshape(XX.shape)\n",
    "\n",
    "# plot decision boundary and margins\n",
    "ax.contour(XX, YY, Z, colors='k', levels=[-1, 0, 1], alpha=0.5,\n",
    "           linestyles=['--', '-', '--'])\n",
    "# plot support vectors\n",
    "ax.scatter(clf.support_vectors_[:, 0], clf.support_vectors_[:, 1], s=100,\n",
    "           linewidth=1, facecolors='none', edgecolors='k')\n",
    "plt.show()"
   ]
  },
  {
   "cell_type": "code",
   "execution_count": null,
   "metadata": {},
   "outputs": [],
   "source": []
  }
 ],
 "metadata": {
  "colab": {
   "collapsed_sections": [],
   "name": "Copy of Review.ipynb",
   "provenance": []
  },
  "kernelspec": {
   "display_name": "Python 3",
   "language": "python",
   "name": "python3"
  },
  "language_info": {
   "codemirror_mode": {
    "name": "ipython",
    "version": 3
   },
   "file_extension": ".py",
   "mimetype": "text/x-python",
   "name": "python",
   "nbconvert_exporter": "python",
   "pygments_lexer": "ipython3",
   "version": "3.8.7"
  }
 },
 "nbformat": 4,
 "nbformat_minor": 1
}
