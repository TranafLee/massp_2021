{
 "cells": [
  {
   "cell_type": "code",
   "execution_count": 2,
   "metadata": {
    "id": "M0569XVpsgw3"
   },
   "outputs": [],
   "source": [
    "import numpy as np\n",
    "import scipy\n",
    "import matplotlib.pyplot as plt\n",
    "import sys\n",
    "import time\n",
    "import tqdm\n",
    "import sklearn\n",
    "from sklearn import datasets\n",
    "from sklearn import svm"
   ]
  },
  {
   "cell_type": "markdown",
   "metadata": {
    "id": "CHqYMg2vtfo_"
   },
   "source": [
    "# Linear Regression\n",
    "\n",
    "\n",
    "*   Dataset: house price from boston\n",
    "*   Objective: implement both numerical + analytical solutions\n",
    "*   PLot and check for convergence\n",
    "*   Compare with Linear Regression using sklearn\n",
    "\n",
    "\n",
    "1.   Analytical solution: $\\beta = (X^TX)^{-1}X^T y$\n",
    "2.   Numerical solution:\n",
    "\n",
    "      *   Loss function (MSE): $\\mathcal{L} (y, \\hat{y}) = \\frac{1}{N}\\sum_{i=1}^N (y-\\hat{y})^2$\n",
    "      *   Update rule: $\\beta_{t+1} = \\beta_t - \\gamma \\nabla \\mathcal{L} (\\beta_t)$\n",
    "      *   Momentum: $\\Delta \\beta_{t+1} = -\\gamma \\nabla \\mathcal{L}(\\beta_{t+1}) + \\alpha\\Delta \\beta_{t}$\n",
    "      *   Update rule for momentum:  $\\beta_{t+1} = \\beta_t + \\Delta \\beta_{t}$\n",
    "\n",
    "\n",
    "*  Visualize loss convergent\n",
    "*  Plot linear regression line \n",
    "*  Comparison:\n",
    "    -  Time \n",
    "    -  MSE\n",
    "    -  Matching parameter vectors $\\beta$\n",
    "\n",
    "\n",
    "\n",
    "\n",
    "\n",
    "\n",
    "\n"
   ]
  },
  {
   "cell_type": "code",
   "execution_count": 3,
   "metadata": {
    "id": "fdWNzkrwssnA"
   },
   "outputs": [],
   "source": [
    "# LOAD DATA\n",
    "X, y = datasets.load_boston(return_X_y=True)\n",
    "X = np.append(np.ones((X.shape[0],1)),X,axis=1)"
   ]
  },
  {
   "cell_type": "code",
   "execution_count": 4,
   "metadata": {
    "id": "kgngjIvHuZ0C"
   },
   "outputs": [
    {
     "name": "stdout",
     "output_type": "stream",
     "text": [
      "Run time:  0.0004992485046386719\n",
      "21.8948311817292\n"
     ]
    }
   ],
   "source": [
    "# Analytical solution\n",
    "begin = time.time()\n",
    "Xt= np.transpose(X)\n",
    "beta = np.linalg.inv(np.matmul(Xt,X))\n",
    "beta = np.matmul(beta,np.matmul(Xt,y))\n",
    "\n",
    "print('Run time: ',time.time()-begin)\n",
    "\n",
    "print(np.mean((y-np.matmul(X,beta))**2)) #MSE"
   ]
  },
  {
   "cell_type": "code",
   "execution_count": 5,
   "metadata": {
    "id": "Ge7BMeZrucN3",
    "tags": [
     "outputPrepend"
    ]
   },
   "outputs": [
    {
     "name": "stdout",
     "output_type": "stream",
     "text": [
      "Run time:  2.6285951137542725\n",
      "60.260731151124595\n"
     ]
    }
   ],
   "source": [
    "# IMPLEMENT GRADIENT DESCENT HERE\n",
    "# REQUIREMENTS: a function to calculate the gradient , a function to calculate the loss function, a function to excecute gradient descent\n",
    "class LinearRegression:\n",
    "    loss = 0\n",
    "    beta = np.ones(X.shape[1])\n",
    "    loss_history = np.array([])\n",
    "    iterator = np.array([])\n",
    "\n",
    "    def cost_function(self, X, y):  #MSE\n",
    "        return np.mean((y-np.matmul(X,self.beta))**2)\n",
    "\n",
    "    def gradient(self, X, y): #L2(X*beta-y)^2\n",
    "        yy = np.matmul(X,self.beta)-y\n",
    "        return 2*np.matmul(X.T,yy)\n",
    "\n",
    "    def fit(self, X, y, tau = 0.001, gamma = 0.000000001):    \n",
    "        loss = 0\n",
    "        cost_dif = 100000000000000\n",
    "        cnt = 0\n",
    "                 \n",
    "        while cost_dif >= tau:\n",
    "            # Gradient Descent\n",
    "            self.beta -= gamma*self.gradient(X,y)\n",
    "            loss = self.cost_function(X,y)\n",
    "            cost_dif = abs(self.loss - loss)\n",
    "            self.loss = loss\n",
    "                \n",
    "            # Saving Progress\n",
    "            if cnt>=100:\n",
    "                self.loss_history = np.append(self.loss_history,loss)\n",
    "                self.iterator = np.append(self.iterator,cnt)\n",
    "            cnt += 1\n",
    "    \n",
    "    def predict(self, X):        \n",
    "        return np.matmul(X,self.beta)\n",
    "\n",
    "    def fit_momentum(self, X, y, tau = 0.000001, gamma = 0.000000001, alpha = 0.9):\n",
    "        loss = 0\n",
    "        gradient = np.zeros(X.shape[1])\n",
    "        cost_dif = 1000000000\n",
    "        while cost_dif >= tau:\n",
    "            # Gradient Descent with momentum\n",
    "            gradient = -gamma*self.gradient(X,y) + alpha*gradient\n",
    "            self.beta = self.beta + gradient\n",
    "            loss = self.cost_function(X,y)\n",
    "            cost_dif = abs(self.loss - loss)\n",
    "            self.loss = loss\n",
    "                \n",
    "            # Saving Progress\n",
    "\n",
    "begin = time.time()\n",
    "model = LinearRegression()\n",
    "model.fit(X,y)\n",
    "#y_predict = model.predict(X)\n",
    "#print(y,y_predict)\n",
    "print('Run time: ',time.time()-begin)\n",
    "print(model.loss)"
   ]
  },
  {
   "cell_type": "code",
   "execution_count": 6,
   "metadata": {
    "id": "FT0WZzUoudvU"
   },
   "outputs": [
    {
     "data": {
      "text/plain": [
       "[<matplotlib.lines.Line2D at 0x7f9f009a5610>]"
      ]
     },
     "execution_count": 6,
     "metadata": {},
     "output_type": "execute_result"
    },
    {
     "data": {
      "image/png": "[encoded data removed]",
      "text/plain": [
       "<Figure size 432x288 with 1 Axes>"
      ]
     },
     "metadata": {
      "needs_background": "light"
     },
     "output_type": "display_data"
    }
   ],
   "source": [
    "# VISUALIZATION\n",
    "plt.plot(model.iterator,model.loss_history)"
   ]
  },
  {
   "cell_type": "code",
   "execution_count": 7,
   "metadata": {
    "id": "qOt5WEgCyoGj"
   },
   "outputs": [
    {
     "name": "stdout",
     "output_type": "stream",
     "text": [
      "21.894831181729202\n"
     ]
    }
   ],
   "source": [
    "# SOLUTION FROM SKLEARN\n",
    "sk_model = sklearn.linear_model.LinearRegression()\n",
    "sk_model.fit(X, y)\n",
    "response = sk_model.predict(X)\n",
    "\n",
    "print(np.mean((y-response)**2))"
   ]
  },
  {
   "cell_type": "markdown",
   "metadata": {
    "id": "DeLtzkXj2QAd"
   },
   "source": [
    "# Logistic Regression\n",
    "\n",
    "*   Dataset: breast cancer dataset\n",
    "*   Objective: implement both numerical solution\n",
    "*   PLot and check for convergence\n",
    "*   Compare with Linear Regression using sklearn\n",
    "\n",
    "\n",
    "##   Numerical solution:\n",
    "\n",
    "*   Loss function (Maximum Likelihood Estimator): $\\mathcal{L} (y,\\hat{y}) = -\\frac{1}{N}\\sum_{i=1}^N \\left[y_i\\cdot\\log(\\hat{y}_i)+(1-y_i)\\log(1-\\hat{y}_i)\\right]$\n",
    "\n",
    "*   Logistic function : $\\sigma(t) = \\frac{1}{1+e^{-t}}$\n",
    "      "
   ]
  },
  {
   "cell_type": "code",
   "execution_count": 8,
   "metadata": {
    "id": "Z0V5nm804p8B"
   },
   "outputs": [],
   "source": [
    "X,y = datasets.load_breast_cancer(return_X_y = True)"
   ]
  },
  {
   "cell_type": "code",
   "execution_count": 9,
   "metadata": {
    "id": "GvoAVRjS2m7v"
   },
   "outputs": [
    {
     "name": "stderr",
     "output_type": "stream",
     "text": [
      "<ipython-input-9-3296a314cb33>:13: RuntimeWarning: divide by zero encountered in log\n",
      "  return -np.mean(y*np.log(self.prob(X))+(1-y)*np.log(1-self.prob(X)))\n"
     ]
    },
    {
     "name": "stdout",
     "output_type": "stream",
     "text": [
      "0.9209138840070299\n"
     ]
    }
   ],
   "source": [
    "class LogisticRegression:\n",
    "\n",
    "    beta = np.zeros(X.shape[1])\n",
    "    cost = 0\n",
    "\n",
    "    def logistic_function(self, t):\n",
    "        return 1/(1+np.exp(-t))\n",
    "\n",
    "    def prob(self, X):\n",
    "        return self.logistic_function(np.dot(self.beta, X.T))\n",
    "\n",
    "    def cost_function(self, X, y): \n",
    "        return -np.mean(y*np.log(self.prob(X))+(1-y)*np.log(1-self.prob(X)))\n",
    "\n",
    "    def grad_function(self, X, y):\n",
    "        N = X.shape[0]\n",
    "        return np.dot(X.T, self.logistic_function(np.dot(self.beta, X.T)) - y)/N\n",
    "\n",
    "    def fit(self, X, y, tau=0.000001, lr=0.00005):\n",
    "        cost = 0\n",
    "        cost_dif=1000000000\n",
    "                 \n",
    "        while cost_dif >= tau:        \n",
    "            # Gradient Descent\n",
    "            self.beta -= lr*self.grad_function(X,y)\n",
    "            cost = self.cost_function(X,y)\n",
    "            cost_dif = abs(self.cost - cost)\n",
    "            self.cost = cost\n",
    "            # Saving Progress\n",
    "    \n",
    "    def predict(self, X):        \n",
    "        return self.prob(X)\n",
    "\n",
    "    def accuracy(self, x, actual_classes, probab_threshold=0.5):\n",
    "        predicted_classes = (self.predict(X) >= probab_threshold).astype(int)\n",
    "        predicted_classes = predicted_classes.flatten()\n",
    "        accuracy = np.mean(predicted_classes == actual_classes)\n",
    "        return accuracy\n",
    "\n",
    "\n",
    "model = LogisticRegression()\n",
    "model.fit(X,y)\n",
    "#y_predict = model.predict(X)\n",
    "#print(y,y_predict)\n",
    "print(model.accuracy(X,y))"
   ]
  },
  {
   "cell_type": "code",
   "execution_count": 10,
   "metadata": {},
   "outputs": [
    {
     "name": "stdout",
     "output_type": "stream",
     "text": [
      "0.9578207381370826\n"
     ]
    }
   ],
   "source": [
    "skmodel = sklearn.linear_model.LogisticRegression(max_iter=10000)\n",
    "skmodel.fit(X,y)\n",
    "print(skmodel.score(X,y))"
   ]
  },
  {
   "cell_type": "markdown",
   "metadata": {
    "id": "GP9yBJO1518M"
   },
   "source": [
    "# Support Vector Machine\n",
    "\n",
    "\n",
    "*   Dataset: breast cancer\n",
    "*   Objective: understand how SVM work/ the effects of choosing kernels on dataset\n",
    "\n"
   ]
  },
  {
   "cell_type": "code",
   "execution_count": 10,
   "metadata": {
    "colab": {
     "base_uri": "https://localhost:8080/",
     "height": 265
    },
    "id": "PhZLyJoG63OE",
    "outputId": "a8839210-21dc-4241-93dd-bb9f85e46d51"
   },
   "outputs": [
    {
     "data": {
      "image/png": "[encoded data removed]",
      "text/plain": [
       "<Figure size 432x288 with 1 Axes>"
      ]
     },
     "metadata": {
      "needs_background": "light"
     },
     "output_type": "display_data"
    }
   ],
   "source": [
    "X, y = datasets.load_breast_cancer(return_X_y = True)\n",
    "X = X[:,:2]\n",
    "\n",
    "# fit the model, don't regularize for illustration purposes\n",
    "clf = svm.SVC(kernel='linear', C=1000)\n",
    "clf.fit(X, y)\n",
    "\n",
    "plt.scatter(X[:, 0], X[:, 1], c=y, s=30, cmap=plt.cm.Paired)\n",
    "\n",
    "# plot the decision function\n",
    "ax = plt.gca()\n",
    "xlim = ax.get_xlim()\n",
    "ylim = ax.get_ylim()\n",
    "\n",
    "# create grid to evaluate model\n",
    "xx = np.linspace(xlim[0], xlim[1], 30)\n",
    "yy = np.linspace(ylim[0], ylim[1], 30)\n",
    "YY, XX = np.meshgrid(yy, xx)\n",
    "xy = np.vstack([XX.ravel(), YY.ravel()]).T\n",
    "Z = clf.decision_function(xy).reshape(XX.shape)\n",
    "\n",
    "# plot decision boundary and margins\n",
    "ax.contour(XX, YY, Z, colors='k', levels=[-1, 0, 1], alpha=0.5,\n",
    "           linestyles=['--', '-', '--'])\n",
    "# plot support vectors\n",
    "ax.scatter(clf.support_vectors_[:, 0], clf.support_vectors_[:, 1], s=100,\n",
    "           linewidth=1, facecolors='none', edgecolors='k')\n",
    "plt.show()"
   ]
  },
  {
   "cell_type": "code",
   "execution_count": null,
   "metadata": {
    "id": "EIgI-24c64_U"
   },
   "outputs": [],
   "source": []
  }
 ],
 "metadata": {
  "colab": {
   "name": "Review.ipynb",
   "provenance": []
  },
  "interpreter": {
   "hash": "5a35f51a7ca98a203add114f6a7740df7a07bed604b91463a624220d78aeef2a"
  },
  "kernelspec": {
   "display_name": "Python 3",
   "language": "python",
   "name": "python3"
  },
  "language_info": {
   "codemirror_mode": {
    "name": "ipython",
    "version": 3
   },
   "file_extension": ".py",
   "mimetype": "text/x-python",
   "name": "python",
   "nbconvert_exporter": "python",
   "pygments_lexer": "ipython3",
   "version": "3.8.7"
  }
 },
 "nbformat": 4,
 "nbformat_minor": 1
}
