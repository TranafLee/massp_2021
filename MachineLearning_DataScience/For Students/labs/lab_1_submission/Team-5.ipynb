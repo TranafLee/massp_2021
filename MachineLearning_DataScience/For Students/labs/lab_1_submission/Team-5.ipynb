{
 "cells": [
  {
   "cell_type": "code",
   "execution_count": null,
   "metadata": {
    "id": "jjPhglSHECvU"
   },
   "outputs": [],
   "source": [
    "import numpy as np\n",
    "import pandas as pd\n",
    "import scipy\n",
    "import tensorflow as tf\n",
    "import matplotlib.pyplot as plt\n",
    "import seaborn as sns\n",
    "import sys\n",
    "import time\n",
    "import tqdm\n",
    "import sklearn\n",
    "from sklearn import datasets\n",
    "from sklearn import svm\n",
    "from typing import Optional"
   ]
  },
  {
   "cell_type": "code",
   "execution_count": null,
   "metadata": {
    "id": "JfHsDcZNnYKj"
   },
   "outputs": [],
   "source": [
    "# MÔ HÌNH HỒI QUY TUYẾN TÍNH"
   ]
  },
  {
   "cell_type": "code",
   "execution_count": null,
   "metadata": {
    "colab": {
     "base_uri": "https://localhost:8080/"
    },
    "id": "0iMxKp4fEE9k",
    "outputId": "ffb21c4c-c1e8-4ab3-c05b-5eba19fe9616"
   },
   "outputs": [
    {
     "data": {
      "text/plain": [
       "((506, 14), (506,))"
      ]
     },
     "execution_count": 3,
     "metadata": {
      "tags": []
     },
     "output_type": "execute_result"
    }
   ],
   "source": [
    "# LOAD DATA\n",
    "X, y = datasets.load_boston(return_X_y=True)\n",
    "X = np.hstack((np.ones(shape=(X.shape[0], 1)), X))\n",
    "X.shape, y.shape"
   ]
  },
  {
   "cell_type": "code",
   "execution_count": null,
   "metadata": {
    "id": "ugHT2puQEGjL"
   },
   "outputs": [],
   "source": [
    "def run_time(f):\n",
    "  def caller(*args, **kwargs):\n",
    "    print(f\"Phương pháp: {f.__name__}\")\n",
    "    t1 = time.time()\n",
    "    out = f(*args, **kwargs)\n",
    "    t2 = time.time()\n",
    "    print(f\"Thời gian chạy ước tính: {t2-t1}\")\n",
    "    return out\n",
    "  return caller"
   ]
  },
  {
   "cell_type": "code",
   "execution_count": null,
   "metadata": {
    "id": "C4wypHw-EH6k"
   },
   "outputs": [],
   "source": [
    "# IMPLEMENT NUMERICAL SOLUTION HERE\n",
    "@run_time\n",
    "def analytical_solution(X: np.ndarray, y: np.ndarray) -> np.ndarray:\n",
    "    beta = np.linalg.inv(X.T @ X) @ X.T @ y\n",
    "    return beta"
   ]
  },
  {
   "cell_type": "code",
   "execution_count": null,
   "metadata": {
    "id": "UjN-bzX4EJXF"
   },
   "outputs": [],
   "source": [
    "# IMPLEMENT GRADIENT DESCENT HERE\n",
    "# REQUIREMENTS: a function to calculate the gradient , a function to calculate the loss function, a function to excecute gradient descent\n",
    "\n",
    "class LinearRegression:\n",
    "  def predict(self, X: np.ndarray) -> np.ndarray:\n",
    "      return X @ self.beta\n",
    "\n",
    "  @staticmethod\n",
    "  def cost_function(X: np.ndarray, y: np.ndarray, beta: np.ndarray) -> np.ndarray:\n",
    "      y_ = X @ beta\n",
    "      return np.mean((y_ - y)**2)\n",
    "\n",
    "  @staticmethod\n",
    "  def gradient(X: np.ndarray, y: np.ndarray, beta: np.ndarray) -> np.ndarray:\n",
    "      y_ = X @ beta\n",
    "      return 2 * np.mean((y_ - y).reshape(y.shape[0], 1) * X, axis=0)\n",
    "        \n",
    "  def fit(self, X: np.ndarray, y: np.ndarray, tau: float = 0.01, gamma: float = 0.05):\n",
    "    loss = []\n",
    "    beta = np.random.normal(loc=0, scale=1/X.shape[1], size=(X.shape[1], ))\n",
    "\n",
    "    while True:\n",
    "      if len(loss) >= 2 and abs(loss[-1] - loss[-2]) >= tau:\n",
    "        break\n",
    "      \n",
    "      # Update rule (Update parameter)\n",
    "      beta = beta - gamma * self.gradient(X, y, beta)\n",
    "      \n",
    "      # Save progress\n",
    "      loss.append(self.cost_function(X, y, beta))\n",
    "\n",
    "    self.beta = beta\n",
    "    self.loss = loss\n",
    "\n",
    "\n",
    "  def fit_momentum(self, X: np.ndarray, y: np.ndarray, tau: float = 0.01, gamma: float =0.05, alpha: float = 0.05, nesterov: bool=True):\n",
    "    loss = []\n",
    "    beta = np.random.normal(loc=0, scale=1/X.shape[1], size=(X.shape[1], ))\n",
    "    delta_beta = np.zeros_like(beta)\n",
    "    while True:\n",
    "      if len(loss) >= 2 and abs(loss[-1] - loss[-2]) < tau:\n",
    "          break\n",
    "      # Update rule (Update parameter)\n",
    "      if not nesterov:\n",
    "          grad = self.gradient(X, y, beta)\n",
    "      else:\n",
    "          grad = self.gradient(X, y, beta + alpha * delta_beta)\n",
    "      delta_beta = alpha * delta_beta - gamma * grad\n",
    "      beta = beta + delta_beta\n",
    "      \n",
    "      # Save progress\n",
    "      loss.append(self.cost_function(X, y, beta))\n",
    "      \n",
    "    self.beta = beta\n",
    "    self.loss = loss\n",
    "\n",
    "@run_time\n",
    "def gradient_descent(X: np.ndarray, y: np.ndarray) -> np.ndarray:\n",
    "    model = LinearRegression()\n",
    "    model.fit_momentum(X, y, gamma=0.000001, tau=0.00001, nesterov=True)\n",
    "    fig, ax = plt.subplots(nrows=1, ncols=1)\n",
    "    ax.plot(np.arange(1, 1+len(model.loss)), model.loss)\n",
    "    ax.set_title(\"Gradient descent\")\n",
    "    ax.set_xlabel(\"Iteration\")\n",
    "    ax.set_ylabel(\"Loss\")\n",
    "    return model.beta"
   ]
  },
  {
   "cell_type": "code",
   "execution_count": null,
   "metadata": {
    "id": "xUD03eAlELa8"
   },
   "outputs": [],
   "source": [
    "# SOLUTION FROM SKLEARN\n",
    "@run_time\n",
    "def sklearn_solution(X: np.ndarray, y: np.ndarray) -> np.ndarray:\n",
    "    from sklearn.linear_model import LinearRegression\n",
    "    model = LinearRegression()\n",
    "    model.fit(X[:, 1:], y)\n",
    "    beta = np.empty(shape=(X.shape[1], ))\n",
    "    beta[0], beta[1:] = model.intercept_, model.coef_\n",
    "    return beta"
   ]
  },
  {
   "cell_type": "code",
   "execution_count": null,
   "metadata": {
    "id": "hBRkvoxvEM_s"
   },
   "outputs": [],
   "source": [
    "def mse(X: np.ndarray, y: np.ndarray, beta: np.ndarray) -> float:\n",
    "    return float(np.mean((X @ beta - y)**2))"
   ]
  },
  {
   "cell_type": "code",
   "execution_count": null,
   "metadata": {
    "colab": {
     "base_uri": "https://localhost:8080/",
     "height": 635
    },
    "id": "NIXASN9BEOhe",
    "outputId": "831372dd-2fa6-4352-a50b-26f8f7795a32"
   },
   "outputs": [
    {
     "name": "stdout",
     "output_type": "stream",
     "text": [
      "Phương pháp: analytical_solution\n",
      "Thời gian chạy ước tính: 0.00795435905456543\n",
      "Phương pháp: gradient_descent\n",
      "Thời gian chạy ước tính: 43.32070827484131\n",
      "Phương pháp: sklearn_solution\n",
      "Thời gian chạy ước tính: 0.017885446548461914\n",
      "[ 3.64594884e+01 -1.08011358e-01  4.64204584e-02  2.05586264e-02\n",
      "  2.68673382e+00 -1.77666112e+01  3.80986521e+00  6.92224640e-04\n",
      " -1.47556685e+00  3.06049479e-01 -1.23345939e-02 -9.52747232e-01\n",
      "  9.31168327e-03 -5.24758378e-01]\n",
      "[ 0.41382391 -0.09020565  0.07666535 -0.00384337  0.24046584  0.21038689\n",
      "  3.58688766  0.04218756 -0.56604515  0.16257374 -0.00923631  0.06071726\n",
      "  0.01951824 -0.61882557]\n",
      "[ 3.64594884e+01 -1.08011358e-01  4.64204584e-02  2.05586264e-02\n",
      "  2.68673382e+00 -1.77666112e+01  3.80986521e+00  6.92224640e-04\n",
      " -1.47556685e+00  3.06049479e-01 -1.23345939e-02 -9.52747232e-01\n",
      "  9.31168327e-03 -5.24758378e-01]\n",
      "21.894831181729202\n",
      "28.12035926611364\n",
      "21.894831181729202\n"
     ]
    },
    {
     "data": {
      "image/png": "[encoded data removed]",
      "text/plain": [
       "<Figure size 432x288 with 1 Axes>"
      ]
     },
     "metadata": {
      "needs_background": "light",
      "tags": []
     },
     "output_type": "display_data"
    }
   ],
   "source": [
    "# VISUALIZATION\n",
    "beta1 = analytical_solution(X, y)\n",
    "beta2 = gradient_descent(X, y)\n",
    "beta3 = sklearn_solution(X, y)\n",
    "\n",
    "print(beta1)\n",
    "print(beta2)\n",
    "print(beta3)\n",
    "\n",
    "print(mse(X, y, beta1))\n",
    "print(mse(X, y, beta2))\n",
    "print(mse(X, y, beta3))"
   ]
  },
  {
   "cell_type": "code",
   "execution_count": null,
   "metadata": {
    "id": "wBvOdU_IvdJ_"
   },
   "outputs": [],
   "source": [
    "# Nhận xét về sự giống và khác nhau của các thông số thời gian chạy, MSE và giá trị beta của 3 phương pháp trong mô hình hồi quy tuyến tính trên:\n",
    "# Thời gian (analytical_solution) < thời gian (sklearn package) < thời gian (numerical solution)\n",
    "# Do giá trị của beta như nhau nên MSE (analytical_solution) = MSE (sklearn package)\n",
    "# Nguyên nhân: Tùy vào thời điểm bắt đầu của vector beta thì thời gian chạy và mse của phương pháp numerical cũng khác 2 phương pháp còn lại\n",
    "# Sai số khác nhau kéo theo beta cũng sẽ khác nhau, do phương pháp chưa đi đến global minimal mà chỉ đang tìm đến các điểm gần nhau, điểm xuất phát cũng không\n",
    "# cố định, ngoài ra cũng một phần do dữ liệu được sinh ngẫu nhiên"
   ]
  },
  {
   "cell_type": "code",
   "execution_count": null,
   "metadata": {
    "id": "6vvHdwsphk0k"
   },
   "outputs": [],
   "source": [
    "# MÔ HÌNH HỒI QUY LOGISTIC"
   ]
  },
  {
   "cell_type": "code",
   "execution_count": null,
   "metadata": {
    "colab": {
     "base_uri": "https://localhost:8080/"
    },
    "id": "boPEO3_pFzZ3",
    "outputId": "ca403c38-e732-4c23-b325-a68f5b4d70fb"
   },
   "outputs": [
    {
     "data": {
      "text/plain": [
       "((569, 31), (569,))"
      ]
     },
     "execution_count": 12,
     "metadata": {
      "tags": []
     },
     "output_type": "execute_result"
    }
   ],
   "source": [
    "X, y = datasets.load_breast_cancer(return_X_y=True)\n",
    "\n",
    "# Normalized X\n",
    "X = X - np.mean(X, axis=0)\n",
    "X = X / np.std(X, axis=0)\n",
    "np.mean(X, axis=0), np.std(X, axis=0)\n",
    "\n",
    "# Add one\n",
    "X = np.hstack((np.ones(shape=(X.shape[0], 1)), X))\n",
    "X.shape, y.shape\n"
   ]
  },
  {
   "cell_type": "code",
   "execution_count": null,
   "metadata": {
    "id": "swwYb86XF2dl"
   },
   "outputs": [],
   "source": [
    "class LogisticRegression:\n",
    "  def predict(self, X: np.ndarray) -> np.ndarray:\n",
    "    return LogisticRegression.logistic_function(X @ self.beta)\n",
    "\n",
    "  @staticmethod\n",
    "  def logistic_function(t: np.ndarray) -> np.ndarray:\n",
    "    return 1 / (1 + np.exp(-t))\n",
    "    \n",
    "  @staticmethod\n",
    "  def cost_function(X: np.ndarray, y: np.ndarray, beta: np.ndarray) -> np.ndarray:\n",
    "      y_ = LogisticRegression.logistic_function(X @ beta)\n",
    "      return - np.mean(y * np.log(y_) + (1-y) * np.log(1-y_))\n",
    "\n",
    "  @staticmethod\n",
    "  def gradient(X: np.ndarray, y: np.ndarray, beta: np.ndarray):\n",
    "    y_ = X @ beta\n",
    "    g =  np.mean((y_ - y).reshape(y.shape[0], 1) * X, axis=0)\n",
    "    return g\n",
    "    \n",
    "  def fit(self, X: np.ndarray, y: np.ndarray, tau: float = 0.01, gamma: float = 0.05):        \n",
    "    loss = []\n",
    "    beta = np.random.normal(loc=0, scale=1/X.shape[1], size=(X.shape[1], ))\n",
    "    \n",
    "    while True:\n",
    "      if len(loss) >= 2 and abs(loss[-1] - loss[-2]) >= tau:\n",
    "          break\n",
    "\n",
    "      # Update parameter\n",
    "      beta = beta - gamma * self.gradient(X, y, beta)\n",
    "      \n",
    "      # Save progress\n",
    "      loss.append(self.cost_function(X, y, beta))\n",
    "\n",
    "    self.beta = beta\n",
    "    self.loss = loss\n",
    "\n",
    "  def fit_momentum(self, X: np.ndarray, y: np.ndarray, tau: float = 0.01, gamma: float =0.05, alpha: float = 0.05, nesterov: bool=True):\n",
    "    loss = []\n",
    "    beta = np.random.normal(loc=0, scale=1/X.shape[1], size=(X.shape[1], ))\n",
    "    delta_beta = np.zeros_like(beta)\n",
    "    self.cost_function(X, y, beta)\n",
    "\n",
    "    while True:\n",
    "      if len(loss) >= 2 and abs(loss[-1] - loss[-2]) < tau:\n",
    "        break\n",
    "\n",
    "      # Update rule (Update parameter)\n",
    "      if not nesterov:\n",
    "          grad = self.gradient(X, y, beta)\n",
    "      else:\n",
    "          grad = self.gradient(X, y, beta + alpha * delta_beta)\n",
    "      delta_beta = alpha * delta_beta - gamma * grad\n",
    "      beta = beta + delta_beta\n",
    "      \n",
    "      # Save progress\n",
    "      loss.append(self.cost_function(X, y, beta))\n",
    "\n",
    "    self.beta = beta\n",
    "    self.loss = loss\n",
    "\n",
    "@run_time\n",
    "def gradient_descent(X: np.ndarray, y: np.ndarray) -> np.ndarray:\n",
    "    model = LogisticRegression()\n",
    "    model.fit_momentum(X, y, gamma=0.000001, tau=0.0000001, nesterov=True)\n",
    "    fig, ax = plt.subplots(nrows=1, ncols=1)\n",
    "    ax.plot(np.arange(1, 1+len(model.loss)), model.loss)\n",
    "    ax.set_title(\"Gradient descent\")\n",
    "    ax.set_xlabel(\"Iteration\")\n",
    "    ax.set_ylabel(\"Loss\")\n",
    "    return model.beta"
   ]
  },
  {
   "cell_type": "code",
   "execution_count": null,
   "metadata": {
    "id": "3hshzGR9F5gl"
   },
   "outputs": [],
   "source": [
    "# SOLUTION FROM SKLEARN\n",
    "@run_time\n",
    "def sklearn_solution(X: np.ndarray, y: np.ndarray) -> np.ndarray:\n",
    "    from sklearn.linear_model import LogisticRegression\n",
    "    model = LogisticRegression()\n",
    "    model.fit(X[:, 1:], y)\n",
    "    beta = np.empty(shape=(X.shape[1], ))\n",
    "    beta[0], beta[1:] = model.intercept_, model.coef_\n",
    "    return beta"
   ]
  },
  {
   "cell_type": "code",
   "execution_count": null,
   "metadata": {
    "id": "xmuvaBs8F6_K"
   },
   "outputs": [],
   "source": [
    "def eval(X, y, beta):\n",
    "    from sklearn.metrics import classification_report\n",
    "    y_ = LogisticRegression.logistic_function(X @ beta) > 0.5\n",
    "    print(classification_report(y, y_))"
   ]
  },
  {
   "cell_type": "code",
   "execution_count": null,
   "metadata": {
    "colab": {
     "base_uri": "https://localhost:8080/",
     "height": 873
    },
    "id": "N766qBN0GAJN",
    "outputId": "82d5ae05-fc45-4786-9757-7208feafa08b"
   },
   "outputs": [
    {
     "name": "stdout",
     "output_type": "stream",
     "text": [
      "Phương pháp: gradient_descent\n",
      "Thời gian chạy ước tính: 65.28488421440125\n",
      "Phương pháp: sklearn_solution\n",
      "Thời gian chạy ước tính: 0.013290166854858398\n",
      "[ 0.15503179 -0.04678505 -0.05021178 -0.02351217 -0.01865069 -0.0268687\n",
      " -0.03691786 -0.0429292  -0.07205042  0.03228249  0.02216506 -0.00662461\n",
      " -0.01385126 -0.02623917 -0.04352479 -0.03542327  0.08388218 -0.00674465\n",
      "  0.02315594  0.01277269 -0.0165162  -0.04857655 -0.05014556 -0.00323106\n",
      "  0.03954643 -0.00602589 -0.02763289 -0.077733   -0.01708457  0.0010382\n",
      " -0.02495318]\n",
      "[ 0.21456573 -0.36317072 -0.38770299 -0.35111444 -0.43555896 -0.16176493\n",
      "  0.56259548 -0.85989759 -0.96222175  0.07616775  0.32218585 -1.29103479\n",
      "  0.26892526 -0.65988685 -1.01250087 -0.27717046  0.7362824   0.11052647\n",
      " -0.3335099   0.29590225  0.68091528 -1.02936114 -1.31459312 -0.82331706\n",
      " -1.01059356 -0.67073135  0.04465888 -0.87330064 -0.91195815 -0.88789694\n",
      " -0.47983137]\n",
      "              precision    recall  f1-score   support\n",
      "\n",
      "           0       0.99      0.83      0.90       212\n",
      "           1       0.91      0.99      0.95       357\n",
      "\n",
      "    accuracy                           0.93       569\n",
      "   macro avg       0.95      0.91      0.93       569\n",
      "weighted avg       0.94      0.93      0.93       569\n",
      "\n",
      "              precision    recall  f1-score   support\n",
      "\n",
      "           0       0.99      0.98      0.98       212\n",
      "           1       0.99      0.99      0.99       357\n",
      "\n",
      "    accuracy                           0.99       569\n",
      "   macro avg       0.99      0.99      0.99       569\n",
      "weighted avg       0.99      0.99      0.99       569\n",
      "\n"
     ]
    },
    {
     "data": {
      "image/png": "[encoded data removed]",
      "text/plain": [
       "<Figure size 432x288 with 1 Axes>"
      ]
     },
     "metadata": {
      "needs_background": "light",
      "tags": []
     },
     "output_type": "display_data"
    }
   ],
   "source": [
    "# VISUALIZATION\n",
    "beta1 = gradient_descent(X, y)\n",
    "beta2 = sklearn_solution(X, y)\n",
    "\n",
    "print(beta1)\n",
    "print(beta2)\n",
    "\n",
    "eval(X, y, beta1)\n",
    "eval(X, y, beta2)"
   ]
  },
  {
   "cell_type": "code",
   "execution_count": null,
   "metadata": {
    "id": "8XSLWSmwnCjr"
   },
   "outputs": [],
   "source": [
    "# SỬ DỤNG SUPPORT VECTOR MACHINE"
   ]
  },
  {
   "cell_type": "code",
   "execution_count": null,
   "metadata": {
    "colab": {
     "base_uri": "https://localhost:8080/",
     "height": 265
    },
    "id": "rVTDR5ZOGBie",
    "outputId": "bc3d376b-afc5-4eb2-9fce-067d6c063582"
   },
   "outputs": [
    {
     "data": {
      "image/png": "[encoded data removed]",
      "text/plain": [
       "<Figure size 432x288 with 1 Axes>"
      ]
     },
     "metadata": {
      "needs_background": "light",
      "tags": []
     },
     "output_type": "display_data"
    }
   ],
   "source": [
    "X, y = datasets.load_breast_cancer(return_X_y=True)\n",
    "X = X[:,:2]\n",
    "\n",
    "# Fit the model, don't regularize for illustration purposes\n",
    "clf = svm.SVC(kernel='linear', C=1000)\n",
    "clf.fit(X, y)\n",
    "\n",
    "plt.scatter(X[:, 0], X[:, 1], c=y, s=30, cmap=plt.cm.Paired)\n",
    "\n",
    "# Plot the decision function\n",
    "ax = plt.gca()\n",
    "xlim = ax.get_xlim()\n",
    "ylim = ax.get_ylim()\n",
    "\n",
    "# Create grid to evaluate model\n",
    "xx = np.linspace(xlim[0], xlim[1], 30)\n",
    "yy = np.linspace(ylim[0], ylim[1], 30)\n",
    "YY, XX = np.meshgrid(yy, xx)\n",
    "xy = np.vstack([XX.ravel(), YY.ravel()]).T\n",
    "Z = clf.decision_function(xy).reshape(XX.shape)\n",
    "\n",
    "# Plot decision boundary and margins\n",
    "ax.contour(XX, YY, Z, colors='k', levels=[-1, 0, 1], alpha=0.5,\n",
    "           linestyles=['--', '-', '--'])\n",
    "\n",
    "# Plot support vectors\n",
    "ax.scatter(clf.support_vectors_[:, 0], clf.support_vectors_[:, 1], s=100,\n",
    "           linewidth=1, facecolors='none', edgecolors='k')\n",
    "plt.show()"
   ]
  }
 ],
 "metadata": {
  "colab": {
   "collapsed_sections": [],
   "name": "Lab1_Minh_Team_5.ipynb",
   "provenance": []
  },
  "kernelspec": {
   "display_name": "Python 3",
   "language": "python",
   "name": "python3"
  },
  "language_info": {
   "codemirror_mode": {
    "name": "ipython",
    "version": 3
   },
   "file_extension": ".py",
   "mimetype": "text/x-python",
   "name": "python",
   "nbconvert_exporter": "python",
   "pygments_lexer": "ipython3",
   "version": "3.8.7"
  }
 },
 "nbformat": 4,
 "nbformat_minor": 1
}
