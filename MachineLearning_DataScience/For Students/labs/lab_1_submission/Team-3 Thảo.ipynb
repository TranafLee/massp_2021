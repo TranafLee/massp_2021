{
 "cells": [
  {
   "cell_type": "code",
   "execution_count": null,
   "metadata": {
    "id": "M0569XVpsgw3"
   },
   "outputs": [],
   "source": [
    "import numpy as np\n",
    "import pandas as pd\n",
    "import scipy\n",
    "import tensorflow as tf\n",
    "import matplotlib.pyplot as plt\n",
    "import seaborn as sns\n",
    "import sys\n",
    "import time\n",
    "import tqdm\n",
    "import sklearn\n",
    "from sklearn import datasets\n",
    "from sklearn import svm"
   ]
  },
  {
   "cell_type": "markdown",
   "metadata": {
    "id": "CHqYMg2vtfo_"
   },
   "source": [
    "# Linear Regression\n",
    "\n",
    "\n",
    "*   Dataset: house price from boston\n",
    "*   Objective: implement both numerical + analytical solutions\n",
    "*   PLot and check for convergence\n",
    "*   Compare with Linear Regression using sklearn\n",
    "\n",
    "\n",
    "1.   Analytical solution: $\\beta = (X^TX)^{-1}X^T y$\n",
    "2.   Numerical solution:\n",
    "\n",
    "      *   Loss function (MSE): $\\mathcal{L} (y, \\hat{y}) = \\frac{1}{N}\\sum_{i=1}^N (y-\\hat{y})^2$\n",
    "      *   Update rule: $\\beta_{t+1} = \\beta_t - \\gamma \\nabla \\mathcal{L} (\\beta_t)$\n",
    "      *   Momentum: $\\Delta \\beta_{t+1} = -\\gamma \\nabla \\mathcal{L}(\\beta_{t+1}) + \\alpha\\Delta \\beta_{t}$\n",
    "      *   Update rule for momentum:  $\\beta_{t+1} = \\beta_t + \\Delta \\beta_{t}$\n",
    "\n",
    "\n",
    "\n",
    "\n",
    "\n",
    "\n",
    "\n"
   ]
  },
  {
   "cell_type": "code",
   "execution_count": null,
   "metadata": {
    "id": "fdWNzkrwssnA"
   },
   "outputs": [],
   "source": [
    "# LOAD DATA\n",
    "X, y = datasets.load_boston(return_X_y=True)\n",
    "X = np.insert(X,0,1,axis = 1)"
   ]
  },
  {
   "cell_type": "code",
   "execution_count": null,
   "metadata": {
    "colab": {
     "base_uri": "https://localhost:8080/"
    },
    "id": "kgngjIvHuZ0C",
    "outputId": "63912aa9-01fa-4ed8-9794-c6ff9bf91620"
   },
   "outputs": [
    {
     "name": "stdout",
     "output_type": "stream",
     "text": [
      "[ 3.64594884e+01 -1.08011358e-01  4.64204584e-02  2.05586264e-02\n",
      "  2.68673382e+00 -1.77666112e+01  3.80986521e+00  6.92224640e-04\n",
      " -1.47556685e+00  3.06049479e-01 -1.23345939e-02 -9.52747232e-01\n",
      "  9.31168327e-03 -5.24758378e-01]\n",
      "21.8948311817292\n",
      "Required time for analytical solution:  0.0001404285430908203\n"
     ]
    }
   ],
   "source": [
    "# IMPLEMENT ANALYTICAL SOLUTION HERE\n",
    "start_time = time.time()\n",
    "def coef(X, y):\n",
    "  return np.linalg.inv(X.T.dot(X)).dot(X.T).dot(y)\n",
    "def predict(X, y):\n",
    "  return X.dot(beta(X,y))\n",
    "def cost_function(X, y):\n",
    "  return np.linalg.norm(predict(X,y)-y)**2/506\n",
    "end_time = time.time()\n",
    "\n",
    "print(coef(X,y))\n",
    "print(cost_function(X,y))\n",
    "print('Required time for analytical solution: ', end_time - start_time)"
   ]
  },
  {
   "cell_type": "code",
   "execution_count": null,
   "metadata": {
    "colab": {
     "base_uri": "https://localhost:8080/"
    },
    "id": "Ge7BMeZrucN3",
    "outputId": "375d012b-a26c-4629-8388-3958ec1ec151"
   },
   "outputs": [
    {
     "name": "stdout",
     "output_type": "stream",
     "text": [
      "[ 0.29587213 -0.10279402  0.1148915   0.17073693  0.51503422  0.6224361\n",
      "  0.77536162  0.10091108  0.25746408  0.24423899 -0.01300213  0.42668563\n",
      "  0.02989604 -0.76293644]\n"
     ]
    }
   ],
   "source": [
    "# IMPLEMENT GRADIENT DESCENT \n",
    "class LinearRegression:\n",
    "  def loss_function(self, X, y, beta):                 \n",
    "    N = X.shape[0]\n",
    "    return np.linalg.norm(y - X.dot(beta))**2/ X.shape[0]\n",
    "\n",
    "  def gradient(self, X, y, beta):\n",
    "    N = X.shape[0]\n",
    "    return 2*X.T.dot(X.dot(beta) - y) / X.shape[0]\n",
    "\n",
    "  def fit(self, X, y, tau = 1e-4, gamma = 1e-6):        \n",
    "    beta = [np.random.rand(X.shape[1])]\n",
    "    loss = [self.loss_function(X, y, beta[-1])]\n",
    "    cost_dif = 1000             \n",
    "    while cost_dif >= tau:        \n",
    "      beta_new = beta[-1] - gamma*self.gradient(X, y, beta[-1])\n",
    "      cost_new = self.loss_function(X, y, beta_new)\n",
    "      cost_dif = abs(cost_new - loss[-1])\n",
    "      loss.append(cost_new)\n",
    "      beta.append(beta_new)\n",
    "    self.beta = beta\n",
    "    self.loss = loss\n",
    "    return beta[-1]\n",
    "\n",
    "  def fit_momentum(self, X, y, tau = 1e-4, gamma = 1e-6, alpha = 1e-3): \n",
    "    beta = [np.random.rand(X.shape[1])]       \n",
    "    loss = [self.loss_function(X, y, beta[-1])]\n",
    "    beta_new = self.gradient(X, y, beta[-1])\n",
    "    beta.append(beta_new)\n",
    "    cost_dif = 1000\n",
    "    i = 1\n",
    "    while cost_dif >= tau:        \n",
    "      beta_new += alpha*(beta[-1] - beta[-2]) - gamma*self.gradient(X, y, beta[-1])\n",
    "      cost_new = self.loss_function(X,y,beta_new)\n",
    "      cost_dif = abs(cost_new - loss[-1])\n",
    "      loss.append(cost_new)\n",
    "      beta.append(beta_new)\n",
    "      i += 1    #calculate iteration\n",
    "    self.beta = beta\n",
    "    self.loss = loss\n",
    "    return beta[-1]\n",
    "\n",
    "\n",
    "print(LinearRegression().fit(X, y))\n",
    "\n"
   ]
  },
  {
   "cell_type": "code",
   "execution_count": null,
   "metadata": {
    "colab": {
     "base_uri": "https://localhost:8080/"
    },
    "id": "qOt5WEgCyoGj",
    "outputId": "5d515ef4-6e08-421e-b8e2-85d1f89ef5c9"
   },
   "outputs": [
    {
     "name": "stdout",
     "output_type": "stream",
     "text": [
      "[ 3.64594884e+01 -1.08011358e-01  4.64204584e-02  2.05586264e-02\n",
      "  2.68673382e+00 -1.77666112e+01  3.80986521e+00  6.92224640e-04\n",
      " -1.47556685e+00  3.06049479e-01 -1.23345939e-02 -9.52747232e-01\n",
      "  9.31168327e-03 -5.24758378e-01]\n",
      "21.8948311817292\n",
      "Required time for sklearn:  0.0041391849517822266\n"
     ]
    }
   ],
   "source": [
    "# SOLUTION FROM SKLEARN\n",
    "from sklearn.linear_model import LinearRegression\n",
    "from sklearn.metrics import mean_squared_error\n",
    "start_time = time.time()\n",
    "model = LinearRegression().fit(x, y)\n",
    "# y_pred = model.intercept_ + np.sum(model.coef_ * x, axis=1)\n",
    "y_pred = model.predict(x)\n",
    "\n",
    "model.coef_[0] = model.intercept_\n",
    "mse = mean_squared_error(y_pred, y)\n",
    "end_time = time.time()\n",
    "print(model.coef_)\n",
    "print(mse)\n",
    "print('Required time for sklearn: ', end_time - start_time) "
   ]
  },
  {
   "cell_type": "markdown",
   "metadata": {
    "id": "DeLtzkXj2QAd"
   },
   "source": [
    "# Logistic Regression\n",
    "\n",
    "*   Dataset: breast cancer dataset\n",
    "*   Objective: implement both numerical solution\n",
    "*   PLot and check for convergence\n",
    "*   Compare with Linear Regression using sklearn\n",
    "\n",
    "\n",
    "#   Numerical solution:\n",
    "\n",
    "*   Loss function (Maximum Likelihood Estimator): $\\mathcal{L} (y,\\hat{y}) = -\\frac{1}{N}\\sum_{i=1}^N \\left[y_i\\cdot\\log(\\hat{y}_i)+(1-y_i)\\log(1-\\hat{y}_i)\\right]$\n",
    "      "
   ]
  },
  {
   "cell_type": "code",
   "execution_count": null,
   "metadata": {
    "id": "Z0V5nm804p8B"
   },
   "outputs": [],
   "source": [
    "X,y = datasets.load_breast_cancer(return_X_y = True)\n",
    "X = np.insert(X, 0, 1, axis = 1)"
   ]
  },
  {
   "cell_type": "code",
   "execution_count": null,
   "metadata": {
    "colab": {
     "base_uri": "https://localhost:8080/"
    },
    "id": "GvoAVRjS2m7v",
    "outputId": "69e6c1df-1260-4518-b94b-9467a8ea858f"
   },
   "outputs": [
    {
     "name": "stdout",
     "output_type": "stream",
     "text": [
      "[ 0.95275592 -0.13419094  0.12339747  0.14793811  0.16405975  0.63696411\n",
      "  0.73637154  0.10416876  0.11083533  0.38636659 -0.01871853  0.49343743\n",
      "  0.03047657 -0.78361108]\n"
     ]
    }
   ],
   "source": [
    "class LogisticRegression:\n",
    "\n",
    "    def logistic_function(self, t):\n",
    "        return 1/ (1 + np.exp(-t))\n",
    "    \n",
    "    def cost_function(self, X, y, beta):\n",
    "      yhat = self.logistic_function(X.dot(beta) )                \n",
    "      return - np.sum(y*log(yhat) + (1-y)*log(1-yhat)) / X.shape[0]\n",
    "\n",
    "    def gradient(self, X, y, beta):\n",
    "      yhat = self.logistic_function(X.dot(beta))\n",
    "      return np.dot(x.T, yhat - y) / X.shape[0]\n",
    "\n",
    "    def fit(self, X, y, tau = 1e-3, lr = 1e-6):        \n",
    "      beta = [np.random.rand(X.shape[1])]\n",
    "      loss = [cost_function(X, y, beta[-1])]\n",
    "      cost_dif = 1000                \n",
    "      while cost_dif >= tau:\n",
    "        beta_new = beta[-1] - gamma*self.gradient(X, y, beta[-1])\n",
    "        cost_new = self.loss_function(X, y, beta_new)\n",
    "        cost_dif = abs(cost_new - loss[-1])\n",
    "        loss.append(cost_new)\n",
    "        beta.append(beta_new)           \n",
    "      self.beta = beta\n",
    "      self.loss = loss\n",
    "      return beta[-1]\n",
    "\n",
    "print(LinearRegression().fit(X,y))"
   ]
  },
  {
   "cell_type": "markdown",
   "metadata": {
    "id": "GP9yBJO1518M"
   },
   "source": [
    "# Support Vector Machine\n",
    "\n",
    "\n",
    "*   Dataset: breast cancer\n",
    "*   Objective: understand how SVM work/ the effects of choosing kernels on dataset\n",
    "\n"
   ]
  },
  {
   "cell_type": "code",
   "execution_count": null,
   "metadata": {
    "colab": {
     "base_uri": "https://localhost:8080/",
     "height": 231
    },
    "id": "PhZLyJoG63OE",
    "outputId": "711f0985-15f0-4c1f-d805-5e2a7da12960"
   },
   "outputs": [
    {
     "ename": "NameError",
     "evalue": "ignored",
     "output_type": "error",
     "traceback": [
      "\u001b[0;31m---------------------------------------------------------------------------\u001b[0m",
      "\u001b[0;31mNameError\u001b[0m                                 Traceback (most recent call last)",
      "\u001b[0;32m<ipython-input-1-523f3d2823c6>\u001b[0m in \u001b[0;36m<module>\u001b[0;34m()\u001b[0m\n\u001b[0;32m----> 1\u001b[0;31m \u001b[0mX\u001b[0m\u001b[0;34m,\u001b[0m \u001b[0my\u001b[0m \u001b[0;34m=\u001b[0m \u001b[0mdatasets\u001b[0m\u001b[0;34m.\u001b[0m\u001b[0mload_breast_cancer\u001b[0m\u001b[0;34m(\u001b[0m\u001b[0mreturn_X_y\u001b[0m \u001b[0;34m=\u001b[0m \u001b[0;32mTrue\u001b[0m\u001b[0;34m)\u001b[0m\u001b[0;34m\u001b[0m\u001b[0;34m\u001b[0m\u001b[0m\n\u001b[0m\u001b[1;32m      2\u001b[0m \u001b[0mX\u001b[0m \u001b[0;34m=\u001b[0m \u001b[0mX\u001b[0m\u001b[0;34m[\u001b[0m\u001b[0;34m:\u001b[0m\u001b[0;34m,\u001b[0m\u001b[0;34m:\u001b[0m\u001b[0;36m2\u001b[0m\u001b[0;34m]\u001b[0m\u001b[0;34m\u001b[0m\u001b[0;34m\u001b[0m\u001b[0m\n\u001b[1;32m      3\u001b[0m \u001b[0;34m\u001b[0m\u001b[0m\n\u001b[1;32m      4\u001b[0m \u001b[0;31m# fit the model, don't regularize for illustration purposes\u001b[0m\u001b[0;34m\u001b[0m\u001b[0;34m\u001b[0m\u001b[0;34m\u001b[0m\u001b[0m\n\u001b[1;32m      5\u001b[0m \u001b[0mclf\u001b[0m \u001b[0;34m=\u001b[0m \u001b[0msvm\u001b[0m\u001b[0;34m.\u001b[0m\u001b[0mSVC\u001b[0m\u001b[0;34m(\u001b[0m\u001b[0mkernel\u001b[0m\u001b[0;34m=\u001b[0m\u001b[0;34m'Linear'\u001b[0m\u001b[0;34m,\u001b[0m \u001b[0mC\u001b[0m\u001b[0;34m=\u001b[0m\u001b[0;36m1000\u001b[0m\u001b[0;34m)\u001b[0m\u001b[0;34m\u001b[0m\u001b[0;34m\u001b[0m\u001b[0m\n",
      "\u001b[0;31mNameError\u001b[0m: name 'datasets' is not defined"
     ]
    }
   ],
   "source": [
    "X, y = datasets.load_breast_cancer(return_X_y = True)\n",
    "X = X[:,:2]\n",
    "\n",
    "# fit the model, don't regularize for illustration purposes\n",
    "clf = svm.SVC(kernel='Linear', C=1000)\n",
    "clf.fit(X, y)\n",
    "\n",
    "plt.scatter(X[:, 0], X[:, 1], c=y, s=30, cmap=plt.cm.Paired)\n",
    "\n",
    "# plot the decision function\n",
    "ax = plt.gca()\n",
    "xlim = ax.get_xlim()\n",
    "ylim = ax.get_ylim()\n",
    "\n",
    "# create grid to evaluate model\n",
    "xx = np.linspace(xlim[0], xlim[1], 30)\n",
    "yy = np.linspace(ylim[0], ylim[1], 30)\n",
    "YY, XX = np.meshgrid(yy, xx)\n",
    "xy = np.vstack([XX.ravel(), YY.ravel()]).T\n",
    "Z = clf.decision_function(xy).reshape(XX.shape)\n",
    "\n",
    "# plot decision boundary and margins\n",
    "ax.contour(XX, YY, Z, colors='k', levels=[-1, 0, 1], alpha=0.5,\n",
    "           linestyles=['--', '-', '--'])\n",
    "# plot support vectors\n",
    "ax.scatter(clf.support_vectors_[:, 0], clf.support_vectors_[:, 1], s=100,\n",
    "           linewidth=1, facecolors='none', edgecolors='k')\n",
    "plt.show()"
   ]
  },
  {
   "cell_type": "code",
   "execution_count": null,
   "metadata": {
    "id": "EIgI-24c64_U"
   },
   "outputs": [],
   "source": []
  }
 ],
 "metadata": {
  "colab": {
   "name": "review LG SVM.ipynb",
   "provenance": []
  },
  "kernelspec": {
   "display_name": "Python 3",
   "language": "python",
   "name": "python3"
  },
  "language_info": {
   "codemirror_mode": {
    "name": "ipython",
    "version": 3
   },
   "file_extension": ".py",
   "mimetype": "text/x-python",
   "name": "python",
   "nbconvert_exporter": "python",
   "pygments_lexer": "ipython3",
   "version": "3.8.7"
  }
 },
 "nbformat": 4,
 "nbformat_minor": 1
}
