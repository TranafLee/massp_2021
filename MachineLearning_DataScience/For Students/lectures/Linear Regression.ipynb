{
 "cells": [
  {
   "cell_type": "markdown",
   "metadata": {},
   "source": [
    "# Linear Regression\n",
    "\n",
    "## Introduction\n",
    "\n",
    "- Linear regression may be both the simplest and most popular among the standard tools to regression. Dating back to the dawn of the 19th century, linear regression flows from a few simple assumptions:\n",
    "    1. Linear relationship between independent variables $x$ and dependent variable $y$, in other words, $y$ can be expressed as a weighted sum of elements in $x$ plus some observational noise.\n",
    "    2. The noise follows a Gaussian distribution $Gaussian(\\mu,\\sigma)$\n",
    "\n",
    "## Terminology and formulation\n",
    "\n",
    "- Given the dataset $D := \\{(x_i,y_i)\\}_{i=1}^n$ with the linear relationship assumption can be expressed as\n",
    "$$y_i = \\beta_0 + \\beta_1 x_i^1 + \\beta_2 x_i^2 + ... + \\beta_d x_i^2 + \\epsilon_i = x_i^T \\beta + \\epsilon_i$$\n",
    "For the pair of data $(y_i,x_i)$ and $x_i = [x_i^1,x_i^2,...,x_i^d]$ or equivalently, the independent variable $x$ has $d$ features. In the matrix form\n",
    "$$y = X\\beta + \\epsilon$$\n",
    "Where $y,\\epsilon,\\beta \\in \\mathbb{R}^n, X \\in\\mathbb{R}^{n\\times d}$\n"
   ]
  },
  {
   "cell_type": "code",
   "execution_count": null,
   "metadata": {},
   "outputs": [],
   "source": []
  }
 ],
 "metadata": {
  "kernelspec": {
   "display_name": "Python 3",
   "language": "python",
   "name": "python3"
  },
  "language_info": {
   "codemirror_mode": {
    "name": "ipython",
    "version": 3
   },
   "file_extension": ".py",
   "mimetype": "text/x-python",
   "name": "python",
   "nbconvert_exporter": "python",
   "pygments_lexer": "ipython3",
   "version": "3.7.6"
  }
 },
 "nbformat": 4,
 "nbformat_minor": 4
}
