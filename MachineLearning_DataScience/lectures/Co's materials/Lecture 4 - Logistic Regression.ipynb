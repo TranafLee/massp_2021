{
 "cells": [
  {
   "cell_type": "markdown",
   "metadata": {},
   "source": [
    "# 4. Logistic Regression\n",
    "\n",
    "## 4.1 Odds\n",
    "- **Probability/Chance:**  of an event is a value between 0-1 indicating how likely it will happen.\n",
    "- **Odds:** a ratio between the probabilities the event happens/doesn't happen. \n",
    "\n",
    "## 4.2 Logit (Log odds)\n",
    "- As the name indicating, log odds is defined as\n",
    "$$$$\n",
    "\n",
    "## 4.3 Formulation\n",
    "\n",
    "## 4.4 Solvers"
   ]
  }
 ],
 "metadata": {
  "kernelspec": {
   "display_name": "Python 3",
   "language": "python",
   "name": "python3"
  },
  "language_info": {
   "codemirror_mode": {
    "name": "ipython",
    "version": 3
   },
   "file_extension": ".py",
   "mimetype": "text/x-python",
   "name": "python",
   "nbconvert_exporter": "python",
   "pygments_lexer": "ipython3",
   "version": "3.7.6"
  }
 },
 "nbformat": 4,
 "nbformat_minor": 4
}
