{
 "cells": [
  {
   "cell_type": "markdown",
   "metadata": {},
   "source": [
    "# 4. Logistic Regression\n",
    "\n",
    "## 4.1 Logit\n",
    "- **Probability/Chance:**  of an event is a value between 0-1 indicating how likely it will happen.\n",
    "- **Odds:** a ratio between the probabilities the event happens/doesn't happen. \n",
    "- As the name indicating, log odds is defined as the natural logarithm of the odds\n",
    "$$\\text{logit} p = \\ln\\frac{p}{1-p} \\text{ for $0<p<1$}$$\n",
    "\n",
    "## 4.2 Logistic function\n",
    "- **Sigmoid function:** let's start with the class of sigmoidal function, we will meet again with it. A sigmoid function is a **bounded, differentiable, real** function that has a non negative derivative for each point and exactly one inflection point. The sigmoid function is constrained 1 and 0 as $x \\rightarrow \\pm \\infty$.\n",
    "- **Logistic function:** a common example of sigmoidal function which is defined as the formula\n",
    "\n",
    "$$\\sigma(t) = \\frac{1}{1+e^{-t}} = \\frac{e^t}{1+e^t}$$\n",
    "\n",
    "## 4.3 Logistic Regression\n",
    "- So the name came from the logistic function. Let's observe what does the function do? \n",
    "1. Range of the function: 0-1 implying?\n",
    "2. What can you say about the logit? What its domain, range?\n",
    "- **A generalization of linear regression:** assume that we only have 1 independent variable X, a linear regression model will have the formula\n",
    "$$Y = \\beta_0 + \\beta_1 X$$\n",
    "- Now if we want to model Y as binary dependent variable disregarding whether or not X being binary, what do we need to do?\n",
    "- We need to map a continuous value $Y$ into a value of probability, that's exactly what logit does. Hence\n",
    "$$\\ln\\left(\\frac{P(X)}{1-P(X)}\\right) = \\beta_0 + \\beta_1 X$$\n",
    "- With some algebraic manipulations, we achieve\n",
    "$$P(X) = \\frac{1}{1+e^{-\\beta_0-\\beta_1 X}}$$\n",
    "- So with the way of achieving the probability by a logistic function of the odds, we have the name of logistic regression\n",
    "## 4.4 \n",
    "\n",
    "## 4.4"
   ]
  },
  {
   "cell_type": "code",
   "execution_count": null,
   "metadata": {},
   "outputs": [],
   "source": []
  }
 ],
 "metadata": {
  "kernelspec": {
   "display_name": "Python 3",
   "language": "python",
   "name": "python3"
  },
  "language_info": {
   "codemirror_mode": {
    "name": "ipython",
    "version": 3
   },
   "file_extension": ".py",
   "mimetype": "text/x-python",
   "name": "python",
   "nbconvert_exporter": "python",
   "pygments_lexer": "ipython3",
   "version": "3.8.7"
  }
 },
 "nbformat": 4,
 "nbformat_minor": 4
}
