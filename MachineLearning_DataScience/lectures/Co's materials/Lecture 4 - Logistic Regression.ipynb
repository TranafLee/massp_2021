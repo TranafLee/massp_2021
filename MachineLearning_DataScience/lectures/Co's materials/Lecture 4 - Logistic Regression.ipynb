{
 "cells": [
  {
   "cell_type": "markdown",
   "metadata": {},
   "source": [
    "# 4. Logistic Regression\n",
    "\n",
    "## 4.1 Logit\n",
    "- **Probability/Chance:**  of an event is a value between 0-1 indicating how likely it will happen.\n",
    "- **Odds:** a ratio between the probabilities the event happens/doesn't happen. \n",
    "- As the name indicating, log odds is defined as the natural logarithm of the odds\n",
    "$$\\text{logit} p = \\frac{p}{1-p} \\text{ for $0<p<1$}$$\n",
    "\n",
    "## 4.2 Logistic function\n",
    "- **Sigmoid function:** let's start with the class of sigmoidal function, we will meet again with it. A sigmoid function is a **bounded, differentiable, real** function that has a non negative derivative for each point and exactly one inflection point. The sigmoid function is constrained 1 and 0 as $x \\rightarrow \\pm \\infty$.\n",
    "- **Logistic function:** a common example of sigmoidal function which is defined as the formula\n",
    "\n",
    "$$\\sigma(t) = \\frac{1}{1+e^{-t}} = \\frac{e^t}{1+e^t}$$\n",
    "\n",
    "## 4.3 \n",
    "- A statistical model to model a binary/categorical type of dependent variable \n",
    "\n",
    "## 4.4 Logistic Regression\n",
    "\n",
    "## 4.4"
   ]
  },
  {
   "cell_type": "code",
   "execution_count": null,
   "metadata": {},
   "outputs": [],
   "source": []
  }
 ],
 "metadata": {
  "kernelspec": {
   "display_name": "Python 3",
   "language": "python",
   "name": "python3"
  },
  "language_info": {
   "codemirror_mode": {
    "name": "ipython",
    "version": 3
   },
   "file_extension": ".py",
   "mimetype": "text/x-python",
   "name": "python",
   "nbconvert_exporter": "python",
   "pygments_lexer": "ipython3",
   "version": "3.8.7"
  }
 },
 "nbformat": 4,
 "nbformat_minor": 4
}
