{
 "cells": [
  {
   "cell_type": "markdown",
   "metadata": {},
   "source": [
    "# Distance and Norm\n",
    "\n",
    "- Given the set/space $X$, we have the following functions\n",
    "## Distance\n",
    "\n",
    "- **Defition**: a function $d:X\\times X \\longrightarrow \\mathbb{R}^+$ that defines a non-negative numerical value between each pair of point elements of a set and satisfies the following properties.\n",
    "    1.\t**identity of indiscernibles**: $d(x,y)=0\\Leftrightarrow x=y$.\n",
    "    2.\t**symmetry**: $d(x,y)=d(y,x)$.\t\n",
    "    3.\t**subadditivity or triangle inequality**: $d(x,y)\\leq d(x,z)+d(z,y)$\t\n",
    "\n",
    "## Norm:\n",
    "- **Defition**: a function $n:X\\longrightarrow \\mathbb{R}^+$ that also defines a non-negative numerical value for each element in a vector space, intuitively, it measures the distance between an element and the origin. Hence, we have mostly the same properties as a distance for norm."
   ]
  },
  {
   "cell_type": "code",
   "execution_count": null,
   "metadata": {},
   "outputs": [],
   "source": []
  }
 ],
 "metadata": {
  "kernelspec": {
   "display_name": "Python 3",
   "language": "python",
   "name": "python3"
  },
  "language_info": {
   "codemirror_mode": {
    "name": "ipython",
    "version": 3
   },
   "file_extension": ".py",
   "mimetype": "text/x-python",
   "name": "python",
   "nbconvert_exporter": "python",
   "pygments_lexer": "ipython3",
   "version": "3.7.6"
  }
 },
 "nbformat": 4,
 "nbformat_minor": 4
}
