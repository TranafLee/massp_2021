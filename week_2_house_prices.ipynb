{
 "cells": [
  {
   "cell_type": "markdown",
   "metadata": {},
   "source": [
    "![logo price](./imgs/massp_logo.png)\n"
   ]
  },
  {
   "cell_type": "markdown",
   "metadata": {},
   "source": [
    "## Instructors\n",
    "* Nguyễn Hoàng Phương\n"
   ]
  },
  {
   "cell_type": "markdown",
   "metadata": {},
   "source": [
    "\n",
    "# Phần I - Tuần 2:    Bài toán Regression -  xây dựng mô hình dự đoán giá nhà \n",
    "![home price](./imgs/home_prices.png)\n"
   ]
  },
  {
   "cell_type": "markdown",
   "metadata": {},
   "source": [
    "## Outline\n",
    "- <a href='#1'>1. Xây dựng mô hình Random Forest trên Cross Validation </a>\n",
    "    - <a id='#1-1'>1.1. Cross Validation  </a> \n",
    "    - <a id='#1-1'>1.2. Feature Engineering  </a> \n",
    "    - <a id='#1-1'>1.3. Huấn luyện mô hình Random Forest với Cross Validation  </a>\n",
    "\n",
    "- <a href='#2'>2. Thuật toán Random Forest Regressor và tối ưu bayes (bayesian optimization)  </a>  \n",
    "    - <a id='#2-1'>2.1. Thuật toán Random Forest và các tham số quan trọng </a> \n",
    "    - <a id='#2-1'>2.2. Tối ưu Bayes (Bayesian optimization) </a> \n",
    "    - <a id='#2-1'>3.1. Sử dụng tối ưu bayes để tối ưu tham số thuật toán Random Forest </a>"
   ]
  },
  {
   "cell_type": "markdown",
   "metadata": {},
   "source": [
    "Nhập các gói thư viện "
   ]
  },
  {
   "cell_type": "code",
   "execution_count": 46,
   "metadata": {},
   "outputs": [],
   "source": [
    "# import packages\n",
    "import pandas as pd\n",
    "import matplotlib.pyplot as plt\n",
    "import seaborn as sns\n",
    "import numpy as np\n",
    "from scipy.stats import norm\n",
    "from sklearn.preprocessing import StandardScaler\n",
    "from scipy import stats\n",
    "import warnings\n",
    "import sys\n",
    "import os\n",
    "from sklearn.ensemble import RandomForestRegressor\n",
    "warnings.filterwarnings('ignore')\n",
    "%matplotlib inline\n",
    "from sklearn.preprocessing import RobustScaler\n",
    "from sklearn.model_selection import KFold, cross_val_score\n",
    "from sklearn.metrics import mean_squared_error"
   ]
  },
  {
   "cell_type": "markdown",
   "metadata": {},
   "source": [
    "Đọc dữ liệu "
   ]
  },
  {
   "cell_type": "code",
   "execution_count": 47,
   "metadata": {},
   "outputs": [],
   "source": [
    "train = pd.read_csv('./data/house-prices/train.csv')\n",
    "test  = pd.read_csv('./data/house-prices/test.csv')"
   ]
  },
  {
   "cell_type": "code",
   "execution_count": 48,
   "metadata": {},
   "outputs": [
    {
     "data": {
      "text/html": [
       "<div>\n",
       "<style scoped>\n",
       "    .dataframe tbody tr th:only-of-type {\n",
       "        vertical-align: middle;\n",
       "    }\n",
       "\n",
       "    .dataframe tbody tr th {\n",
       "        vertical-align: top;\n",
       "    }\n",
       "\n",
       "    .dataframe thead th {\n",
       "        text-align: right;\n",
       "    }\n",
       "</style>\n",
       "<table border=\"1\" class=\"dataframe\">\n",
       "  <thead>\n",
       "    <tr style=\"text-align: right;\">\n",
       "      <th></th>\n",
       "      <th>Id</th>\n",
       "      <th>MSSubClass</th>\n",
       "      <th>MSZoning</th>\n",
       "      <th>LotFrontage</th>\n",
       "      <th>LotArea</th>\n",
       "      <th>Street</th>\n",
       "      <th>Alley</th>\n",
       "      <th>LotShape</th>\n",
       "      <th>LandContour</th>\n",
       "      <th>Utilities</th>\n",
       "      <th>...</th>\n",
       "      <th>PoolArea</th>\n",
       "      <th>PoolQC</th>\n",
       "      <th>Fence</th>\n",
       "      <th>MiscFeature</th>\n",
       "      <th>MiscVal</th>\n",
       "      <th>MoSold</th>\n",
       "      <th>YrSold</th>\n",
       "      <th>SaleType</th>\n",
       "      <th>SaleCondition</th>\n",
       "      <th>SalePrice</th>\n",
       "    </tr>\n",
       "  </thead>\n",
       "  <tbody>\n",
       "    <tr>\n",
       "      <th>0</th>\n",
       "      <td>1</td>\n",
       "      <td>60</td>\n",
       "      <td>RL</td>\n",
       "      <td>65.0</td>\n",
       "      <td>8450</td>\n",
       "      <td>Pave</td>\n",
       "      <td>NaN</td>\n",
       "      <td>Reg</td>\n",
       "      <td>Lvl</td>\n",
       "      <td>AllPub</td>\n",
       "      <td>...</td>\n",
       "      <td>0</td>\n",
       "      <td>NaN</td>\n",
       "      <td>NaN</td>\n",
       "      <td>NaN</td>\n",
       "      <td>0</td>\n",
       "      <td>2</td>\n",
       "      <td>2008</td>\n",
       "      <td>WD</td>\n",
       "      <td>Normal</td>\n",
       "      <td>208500</td>\n",
       "    </tr>\n",
       "    <tr>\n",
       "      <th>1</th>\n",
       "      <td>2</td>\n",
       "      <td>20</td>\n",
       "      <td>RL</td>\n",
       "      <td>80.0</td>\n",
       "      <td>9600</td>\n",
       "      <td>Pave</td>\n",
       "      <td>NaN</td>\n",
       "      <td>Reg</td>\n",
       "      <td>Lvl</td>\n",
       "      <td>AllPub</td>\n",
       "      <td>...</td>\n",
       "      <td>0</td>\n",
       "      <td>NaN</td>\n",
       "      <td>NaN</td>\n",
       "      <td>NaN</td>\n",
       "      <td>0</td>\n",
       "      <td>5</td>\n",
       "      <td>2007</td>\n",
       "      <td>WD</td>\n",
       "      <td>Normal</td>\n",
       "      <td>181500</td>\n",
       "    </tr>\n",
       "    <tr>\n",
       "      <th>2</th>\n",
       "      <td>3</td>\n",
       "      <td>60</td>\n",
       "      <td>RL</td>\n",
       "      <td>68.0</td>\n",
       "      <td>11250</td>\n",
       "      <td>Pave</td>\n",
       "      <td>NaN</td>\n",
       "      <td>IR1</td>\n",
       "      <td>Lvl</td>\n",
       "      <td>AllPub</td>\n",
       "      <td>...</td>\n",
       "      <td>0</td>\n",
       "      <td>NaN</td>\n",
       "      <td>NaN</td>\n",
       "      <td>NaN</td>\n",
       "      <td>0</td>\n",
       "      <td>9</td>\n",
       "      <td>2008</td>\n",
       "      <td>WD</td>\n",
       "      <td>Normal</td>\n",
       "      <td>223500</td>\n",
       "    </tr>\n",
       "    <tr>\n",
       "      <th>3</th>\n",
       "      <td>4</td>\n",
       "      <td>70</td>\n",
       "      <td>RL</td>\n",
       "      <td>60.0</td>\n",
       "      <td>9550</td>\n",
       "      <td>Pave</td>\n",
       "      <td>NaN</td>\n",
       "      <td>IR1</td>\n",
       "      <td>Lvl</td>\n",
       "      <td>AllPub</td>\n",
       "      <td>...</td>\n",
       "      <td>0</td>\n",
       "      <td>NaN</td>\n",
       "      <td>NaN</td>\n",
       "      <td>NaN</td>\n",
       "      <td>0</td>\n",
       "      <td>2</td>\n",
       "      <td>2006</td>\n",
       "      <td>WD</td>\n",
       "      <td>Abnorml</td>\n",
       "      <td>140000</td>\n",
       "    </tr>\n",
       "    <tr>\n",
       "      <th>4</th>\n",
       "      <td>5</td>\n",
       "      <td>60</td>\n",
       "      <td>RL</td>\n",
       "      <td>84.0</td>\n",
       "      <td>14260</td>\n",
       "      <td>Pave</td>\n",
       "      <td>NaN</td>\n",
       "      <td>IR1</td>\n",
       "      <td>Lvl</td>\n",
       "      <td>AllPub</td>\n",
       "      <td>...</td>\n",
       "      <td>0</td>\n",
       "      <td>NaN</td>\n",
       "      <td>NaN</td>\n",
       "      <td>NaN</td>\n",
       "      <td>0</td>\n",
       "      <td>12</td>\n",
       "      <td>2008</td>\n",
       "      <td>WD</td>\n",
       "      <td>Normal</td>\n",
       "      <td>250000</td>\n",
       "    </tr>\n",
       "    <tr>\n",
       "      <th>5</th>\n",
       "      <td>6</td>\n",
       "      <td>50</td>\n",
       "      <td>RL</td>\n",
       "      <td>85.0</td>\n",
       "      <td>14115</td>\n",
       "      <td>Pave</td>\n",
       "      <td>NaN</td>\n",
       "      <td>IR1</td>\n",
       "      <td>Lvl</td>\n",
       "      <td>AllPub</td>\n",
       "      <td>...</td>\n",
       "      <td>0</td>\n",
       "      <td>NaN</td>\n",
       "      <td>MnPrv</td>\n",
       "      <td>Shed</td>\n",
       "      <td>700</td>\n",
       "      <td>10</td>\n",
       "      <td>2009</td>\n",
       "      <td>WD</td>\n",
       "      <td>Normal</td>\n",
       "      <td>143000</td>\n",
       "    </tr>\n",
       "    <tr>\n",
       "      <th>6</th>\n",
       "      <td>7</td>\n",
       "      <td>20</td>\n",
       "      <td>RL</td>\n",
       "      <td>75.0</td>\n",
       "      <td>10084</td>\n",
       "      <td>Pave</td>\n",
       "      <td>NaN</td>\n",
       "      <td>Reg</td>\n",
       "      <td>Lvl</td>\n",
       "      <td>AllPub</td>\n",
       "      <td>...</td>\n",
       "      <td>0</td>\n",
       "      <td>NaN</td>\n",
       "      <td>NaN</td>\n",
       "      <td>NaN</td>\n",
       "      <td>0</td>\n",
       "      <td>8</td>\n",
       "      <td>2007</td>\n",
       "      <td>WD</td>\n",
       "      <td>Normal</td>\n",
       "      <td>307000</td>\n",
       "    </tr>\n",
       "    <tr>\n",
       "      <th>7</th>\n",
       "      <td>8</td>\n",
       "      <td>60</td>\n",
       "      <td>RL</td>\n",
       "      <td>NaN</td>\n",
       "      <td>10382</td>\n",
       "      <td>Pave</td>\n",
       "      <td>NaN</td>\n",
       "      <td>IR1</td>\n",
       "      <td>Lvl</td>\n",
       "      <td>AllPub</td>\n",
       "      <td>...</td>\n",
       "      <td>0</td>\n",
       "      <td>NaN</td>\n",
       "      <td>NaN</td>\n",
       "      <td>Shed</td>\n",
       "      <td>350</td>\n",
       "      <td>11</td>\n",
       "      <td>2009</td>\n",
       "      <td>WD</td>\n",
       "      <td>Normal</td>\n",
       "      <td>200000</td>\n",
       "    </tr>\n",
       "    <tr>\n",
       "      <th>8</th>\n",
       "      <td>9</td>\n",
       "      <td>50</td>\n",
       "      <td>RM</td>\n",
       "      <td>51.0</td>\n",
       "      <td>6120</td>\n",
       "      <td>Pave</td>\n",
       "      <td>NaN</td>\n",
       "      <td>Reg</td>\n",
       "      <td>Lvl</td>\n",
       "      <td>AllPub</td>\n",
       "      <td>...</td>\n",
       "      <td>0</td>\n",
       "      <td>NaN</td>\n",
       "      <td>NaN</td>\n",
       "      <td>NaN</td>\n",
       "      <td>0</td>\n",
       "      <td>4</td>\n",
       "      <td>2008</td>\n",
       "      <td>WD</td>\n",
       "      <td>Abnorml</td>\n",
       "      <td>129900</td>\n",
       "    </tr>\n",
       "    <tr>\n",
       "      <th>9</th>\n",
       "      <td>10</td>\n",
       "      <td>190</td>\n",
       "      <td>RL</td>\n",
       "      <td>50.0</td>\n",
       "      <td>7420</td>\n",
       "      <td>Pave</td>\n",
       "      <td>NaN</td>\n",
       "      <td>Reg</td>\n",
       "      <td>Lvl</td>\n",
       "      <td>AllPub</td>\n",
       "      <td>...</td>\n",
       "      <td>0</td>\n",
       "      <td>NaN</td>\n",
       "      <td>NaN</td>\n",
       "      <td>NaN</td>\n",
       "      <td>0</td>\n",
       "      <td>1</td>\n",
       "      <td>2008</td>\n",
       "      <td>WD</td>\n",
       "      <td>Normal</td>\n",
       "      <td>118000</td>\n",
       "    </tr>\n",
       "  </tbody>\n",
       "</table>\n",
       "<p>10 rows × 81 columns</p>\n",
       "</div>"
      ],
      "text/plain": [
       "   Id  MSSubClass MSZoning  LotFrontage  LotArea Street Alley LotShape  \\\n",
       "0   1          60       RL         65.0     8450   Pave   NaN      Reg   \n",
       "1   2          20       RL         80.0     9600   Pave   NaN      Reg   \n",
       "2   3          60       RL         68.0    11250   Pave   NaN      IR1   \n",
       "3   4          70       RL         60.0     9550   Pave   NaN      IR1   \n",
       "4   5          60       RL         84.0    14260   Pave   NaN      IR1   \n",
       "5   6          50       RL         85.0    14115   Pave   NaN      IR1   \n",
       "6   7          20       RL         75.0    10084   Pave   NaN      Reg   \n",
       "7   8          60       RL          NaN    10382   Pave   NaN      IR1   \n",
       "8   9          50       RM         51.0     6120   Pave   NaN      Reg   \n",
       "9  10         190       RL         50.0     7420   Pave   NaN      Reg   \n",
       "\n",
       "  LandContour Utilities  ... PoolArea PoolQC  Fence MiscFeature MiscVal  \\\n",
       "0         Lvl    AllPub  ...        0    NaN    NaN         NaN       0   \n",
       "1         Lvl    AllPub  ...        0    NaN    NaN         NaN       0   \n",
       "2         Lvl    AllPub  ...        0    NaN    NaN         NaN       0   \n",
       "3         Lvl    AllPub  ...        0    NaN    NaN         NaN       0   \n",
       "4         Lvl    AllPub  ...        0    NaN    NaN         NaN       0   \n",
       "5         Lvl    AllPub  ...        0    NaN  MnPrv        Shed     700   \n",
       "6         Lvl    AllPub  ...        0    NaN    NaN         NaN       0   \n",
       "7         Lvl    AllPub  ...        0    NaN    NaN        Shed     350   \n",
       "8         Lvl    AllPub  ...        0    NaN    NaN         NaN       0   \n",
       "9         Lvl    AllPub  ...        0    NaN    NaN         NaN       0   \n",
       "\n",
       "  MoSold YrSold  SaleType  SaleCondition  SalePrice  \n",
       "0      2   2008        WD         Normal     208500  \n",
       "1      5   2007        WD         Normal     181500  \n",
       "2      9   2008        WD         Normal     223500  \n",
       "3      2   2006        WD        Abnorml     140000  \n",
       "4     12   2008        WD         Normal     250000  \n",
       "5     10   2009        WD         Normal     143000  \n",
       "6      8   2007        WD         Normal     307000  \n",
       "7     11   2009        WD         Normal     200000  \n",
       "8      4   2008        WD        Abnorml     129900  \n",
       "9      1   2008        WD         Normal     118000  \n",
       "\n",
       "[10 rows x 81 columns]"
      ]
     },
     "execution_count": 48,
     "metadata": {},
     "output_type": "execute_result"
    }
   ],
   "source": [
    "train.head(10)"
   ]
  },
  {
   "cell_type": "markdown",
   "metadata": {},
   "source": [
    "# <a id='1'>1. Xây dựng mô hình Random Forest trên Cross Validation </a>\n"
   ]
  },
  {
   "cell_type": "markdown",
   "metadata": {},
   "source": [
    "# <a id='1.1'>1.1. Xây dựng cross validation </a> "
   ]
  },
  {
   "cell_type": "markdown",
   "metadata": {},
   "source": [
    "Cross-validation là quy trình phân chia dữ liệu để đánh giá độ chính xác của mô hình trong trường hợp dữ liệu ít\n",
    "\n",
    "Ví dụ: Chúng ta chia tập dữ liệu ra 5 phần, mỗi phần chiếm 20% dữ liệu\n",
    "\n",
    "![tut5_crossval](https://i.imgur.com/9k60cVA.png)\n",
    "\n",
    "Tiến hành huấn luyện sử dụng cùng một loại mô hình.\n",
    "\n",
    "**Mô hình 1**: Sử dụng phần đầu tiên của dữ liệu làm tập validation thứ 1, 4 phần còn lại làm dữ liệu huấn luyện \n",
    "\n",
    "**Mô hình 2**: Sử dụng phần thứ hai của dữ liệu làm tập validation thứ 2, 4 phần còn lại làm dữ liệu huấn luyện, mô hình được sử dụng với cùng một loại tham số với mô hình 1. \n",
    "\n",
    "Tiếp tục xây dựng các mô hình. Kết hợp các validation thứ  $i$ của mô hình $i$, chúng ta được tập validation trên toàn bộ $100\\%$ dữ liệu. \n",
    "\n",
    "\n",
    "**Ưu điểm của việc sử dụng Cross-validation**:\n",
    "\n",
    " + Validation trên tập dữ liệu lớn hơn (100% dữ liệu thay vì chỉ 20% dữ liệu) giúp cho thước đo mức độ chính xác của mô hình đảm bảo tin tưởng hơn\n",
    " + Tránh được trường hợp overfitting\n",
    " + Khi thực hiện dự đoán với tổng hợp của cả 5 mô hình thì độ chính xác cao hơn, vì mô hình được học trên toàn bộ dữ liệu \n",
    "\n",
    "**Nhược điểm của việc sử dụng Cross-validation**: \n",
    "\n",
    " + Để đánh giá một loại mô hình cần sử dụng 5 lần huấn luyện (tốn thời gian huấn luyện)\n",
    " \n",
    "**Vậy khi nào nên sử dụng Cross-validation**: \n",
    "\n",
    " + Trong trường hợp dữ liệu ít, mô hình không quá cồng kềnh. Trong trường hợp có nhiều dữ liệu, dữ liệu có tính tổng quát cao, không nhất thiết phải dùng cross-validation."
   ]
  },
  {
   "cell_type": "markdown",
   "metadata": {},
   "source": [
    "# <a id='1.2'>1.2. Feature enginering  </a>"
   ]
  },
  {
   "cell_type": "markdown",
   "metadata": {},
   "source": [
    "Ở phần trước chúng ta đã sủ dụng: \n",
    "\n",
    "   + Chúng ta kết hợp cả tập train và test (gọi là data)\n",
    "   + Feature engineeing trên toàn bộ data. Sau đó chia lại 2 tập riêng dựa vào ID. \n",
    "   + Dùng dữ liệu train để xây dựng mô hình, predict trên tập test\n",
    "   + Sử dụng dữ liệu tập train, phân chia validation để đo đạc độ chính xác của mô hình.\n",
    "\n",
    "### Tổng quan các bước xử lý data: \n",
    "\n",
    "   +  Xóa các hàng có dữ liệu bất thường (là các hàng dữ liệu có diện tích lớn hơn 4000 và giá nhà nhỏ hơn 300.000)\n",
    "   +  Xử lý dữ liệu thiếu: \n",
    "        + Tạo cột dữ liệu mới tương ứng với NaN hoặc không Nan tương ứng với các cột dữ liệu thiếu \n",
    "        + Điền NaN bằng các số liệu thích hợp hơn \n",
    "   +  Xử lý dữ liệu dạng số : \n",
    "        + Log transform với các cột dữ liệu có giá trị lớn\n",
    "        + Xử lý các cột dữ liệu thời gian (cột năm xây dựng => cột thời gian sử dụng, tính tới năm 2018)\n",
    "   +  Xử lý dữ liệu dạng phân loại: \n",
    "        + One hot encoding"
   ]
  },
  {
   "cell_type": "code",
   "execution_count": 49,
   "metadata": {},
   "outputs": [],
   "source": [
    "train.drop(\"Id\", axis = 1, inplace = True)\n",
    "test.drop(\"Id\", axis = 1, inplace = True)"
   ]
  },
  {
   "cell_type": "markdown",
   "metadata": {},
   "source": [
    "### Xóa các cột dữ liệu bất thường ở tập train "
   ]
  },
  {
   "cell_type": "code",
   "execution_count": 50,
   "metadata": {},
   "outputs": [],
   "source": [
    "train = train.drop(train[(train['GrLivArea']>4000) & (train['SalePrice']<300000)].index)"
   ]
  },
  {
   "cell_type": "markdown",
   "metadata": {},
   "source": [
    "### Kết hợp cả tập train và test (gọi là data)"
   ]
  },
  {
   "cell_type": "code",
   "execution_count": 51,
   "metadata": {},
   "outputs": [
    {
     "name": "stdout",
     "output_type": "stream",
     "text": [
      "data size is : (2917, 79)\n"
     ]
    }
   ],
   "source": [
    "ntrain = train.shape[0]\n",
    "ntest = test.shape[0]\n",
    "target = train.SalePrice.values\n",
    "data = pd.concat((train, test)).reset_index(drop=True)\n",
    "data.drop(['SalePrice'], axis=1, inplace=True)\n",
    "print(\"data size is : {}\".format(data.shape))"
   ]
  },
  {
   "cell_type": "markdown",
   "metadata": {},
   "source": [
    "### Xử lý missing data"
   ]
  },
  {
   "cell_type": "code",
   "execution_count": 52,
   "metadata": {},
   "outputs": [],
   "source": [
    "def missing_values_table(df):\n",
    "    # Total missing values\n",
    "    mis_val = df.isnull().sum()       \n",
    "    # Percentage of missing values\n",
    "    mis_val_percent = 100 * df.isnull().sum() / len(df)       \n",
    "    # Make a table with the results\n",
    "    mis_val_table = pd.concat([mis_val, mis_val_percent], axis=1)        \n",
    "    # Rename the columns\n",
    "    mis_val_table_ren_columns = mis_val_table.rename(\n",
    "    columns = {0 : 'Missing Values', 1 : '% of Total Values'})        \n",
    "    # Sort the table by percentage of missing descending\n",
    "    mis_val_table_ren_columns = mis_val_table_ren_columns[\n",
    "            mis_val_table_ren_columns.iloc[:,1] != 0].sort_values(\n",
    "    '% of Total Values', ascending=False).round(1)\n",
    "    return mis_val_table_ren_columns"
   ]
  },
  {
   "cell_type": "markdown",
   "metadata": {},
   "source": [
    "#### Tạo thêm cột mới xem cột có NaN hay không "
   ]
  },
  {
   "cell_type": "code",
   "execution_count": 53,
   "metadata": {},
   "outputs": [],
   "source": [
    "create_nan_columns = [\"MiscFeature\", \"FireplaceQu\", \"Fence\", \"FireplaceQu\", \"LotFrontage\"]\n",
    "for feature in create_nan_columns: \n",
    "    data[feature+\"_NAN\"] = data[feature].isnull()*1"
   ]
  },
  {
   "cell_type": "markdown",
   "metadata": {},
   "source": [
    "#### Xử lý các trường dữ liệu có số lượng NaN ít "
   ]
  },
  {
   "cell_type": "code",
   "execution_count": 54,
   "metadata": {},
   "outputs": [],
   "source": [
    "rate_nan_columns = ['MSZoning', 'BsmtFullBath', 'BsmtHalfBath', 'Functional','Utilities', \n",
    "                    'GarageArea','GarageCars','Electrical','KitchenQual','TotalBsmtSF',\n",
    "                    'BsmtUnfSF', 'BsmtFinSF2',  'BsmtFinSF1','Exterior2nd', 'Exterior1st','SaleType']\n",
    "for feature in rate_nan_columns:\n",
    "    data[feature] = data[feature].fillna(data[feature].mode()[0])"
   ]
  },
  {
   "cell_type": "markdown",
   "metadata": {},
   "source": [
    "#### Chia dữ liệu thiếu thành 2 lọai "
   ]
  },
  {
   "cell_type": "code",
   "execution_count": 55,
   "metadata": {},
   "outputs": [],
   "source": [
    "categotical_nan = data[missing_values_table(data).index].select_dtypes(exclude=[np.number])"
   ]
  },
  {
   "cell_type": "code",
   "execution_count": 56,
   "metadata": {},
   "outputs": [],
   "source": [
    "numeric_nan = data[missing_values_table(data).index].select_dtypes(include=[np.number])"
   ]
  },
  {
   "cell_type": "markdown",
   "metadata": {},
   "source": [
    "#### Fillnan cho các trường số "
   ]
  },
  {
   "cell_type": "code",
   "execution_count": 57,
   "metadata": {},
   "outputs": [],
   "source": [
    "for feature in numeric_nan.columns:\n",
    "    data[feature]= data[feature].fillna(0)"
   ]
  },
  {
   "cell_type": "markdown",
   "metadata": {},
   "source": [
    "#### Fillnan cho các trường phân loại "
   ]
  },
  {
   "cell_type": "code",
   "execution_count": 58,
   "metadata": {},
   "outputs": [],
   "source": [
    "for feature in categotical_nan.columns:\n",
    "    data[feature]= data[feature].fillna(\"None\")"
   ]
  },
  {
   "cell_type": "markdown",
   "metadata": {},
   "source": [
    "#### Kiểm tra kết quả sau khi đã điền dữ liệu thiếu"
   ]
  },
  {
   "cell_type": "code",
   "execution_count": 59,
   "metadata": {},
   "outputs": [
    {
     "data": {
      "text/html": [
       "<div>\n",
       "<style scoped>\n",
       "    .dataframe tbody tr th:only-of-type {\n",
       "        vertical-align: middle;\n",
       "    }\n",
       "\n",
       "    .dataframe tbody tr th {\n",
       "        vertical-align: top;\n",
       "    }\n",
       "\n",
       "    .dataframe thead th {\n",
       "        text-align: right;\n",
       "    }\n",
       "</style>\n",
       "<table border=\"1\" class=\"dataframe\">\n",
       "  <thead>\n",
       "    <tr style=\"text-align: right;\">\n",
       "      <th></th>\n",
       "      <th>Missing Values</th>\n",
       "      <th>% of Total Values</th>\n",
       "    </tr>\n",
       "  </thead>\n",
       "  <tbody>\n",
       "  </tbody>\n",
       "</table>\n",
       "</div>"
      ],
      "text/plain": [
       "Empty DataFrame\n",
       "Columns: [Missing Values, % of Total Values]\n",
       "Index: []"
      ]
     },
     "execution_count": 59,
     "metadata": {},
     "output_type": "execute_result"
    }
   ],
   "source": [
    "missing_values_table(data)"
   ]
  },
  {
   "cell_type": "code",
   "execution_count": 60,
   "metadata": {},
   "outputs": [
    {
     "data": {
      "text/html": [
       "<div>\n",
       "<style scoped>\n",
       "    .dataframe tbody tr th:only-of-type {\n",
       "        vertical-align: middle;\n",
       "    }\n",
       "\n",
       "    .dataframe tbody tr th {\n",
       "        vertical-align: top;\n",
       "    }\n",
       "\n",
       "    .dataframe thead th {\n",
       "        text-align: right;\n",
       "    }\n",
       "</style>\n",
       "<table border=\"1\" class=\"dataframe\">\n",
       "  <thead>\n",
       "    <tr style=\"text-align: right;\">\n",
       "      <th></th>\n",
       "      <th>MSSubClass</th>\n",
       "      <th>LotFrontage</th>\n",
       "      <th>LotArea</th>\n",
       "      <th>OverallQual</th>\n",
       "      <th>OverallCond</th>\n",
       "      <th>YearBuilt</th>\n",
       "      <th>YearRemodAdd</th>\n",
       "      <th>MasVnrArea</th>\n",
       "      <th>BsmtFinSF1</th>\n",
       "      <th>BsmtFinSF2</th>\n",
       "      <th>...</th>\n",
       "      <th>3SsnPorch</th>\n",
       "      <th>ScreenPorch</th>\n",
       "      <th>PoolArea</th>\n",
       "      <th>MiscVal</th>\n",
       "      <th>MoSold</th>\n",
       "      <th>YrSold</th>\n",
       "      <th>MiscFeature_NAN</th>\n",
       "      <th>FireplaceQu_NAN</th>\n",
       "      <th>Fence_NAN</th>\n",
       "      <th>LotFrontage_NAN</th>\n",
       "    </tr>\n",
       "  </thead>\n",
       "  <tbody>\n",
       "    <tr>\n",
       "      <th>0</th>\n",
       "      <td>60</td>\n",
       "      <td>65.0</td>\n",
       "      <td>8450</td>\n",
       "      <td>7</td>\n",
       "      <td>5</td>\n",
       "      <td>2003</td>\n",
       "      <td>2003</td>\n",
       "      <td>196.0</td>\n",
       "      <td>706.0</td>\n",
       "      <td>0.0</td>\n",
       "      <td>...</td>\n",
       "      <td>0</td>\n",
       "      <td>0</td>\n",
       "      <td>0</td>\n",
       "      <td>0</td>\n",
       "      <td>2</td>\n",
       "      <td>2008</td>\n",
       "      <td>1</td>\n",
       "      <td>1</td>\n",
       "      <td>1</td>\n",
       "      <td>0</td>\n",
       "    </tr>\n",
       "    <tr>\n",
       "      <th>1</th>\n",
       "      <td>20</td>\n",
       "      <td>80.0</td>\n",
       "      <td>9600</td>\n",
       "      <td>6</td>\n",
       "      <td>8</td>\n",
       "      <td>1976</td>\n",
       "      <td>1976</td>\n",
       "      <td>0.0</td>\n",
       "      <td>978.0</td>\n",
       "      <td>0.0</td>\n",
       "      <td>...</td>\n",
       "      <td>0</td>\n",
       "      <td>0</td>\n",
       "      <td>0</td>\n",
       "      <td>0</td>\n",
       "      <td>5</td>\n",
       "      <td>2007</td>\n",
       "      <td>1</td>\n",
       "      <td>0</td>\n",
       "      <td>1</td>\n",
       "      <td>0</td>\n",
       "    </tr>\n",
       "    <tr>\n",
       "      <th>2</th>\n",
       "      <td>60</td>\n",
       "      <td>68.0</td>\n",
       "      <td>11250</td>\n",
       "      <td>7</td>\n",
       "      <td>5</td>\n",
       "      <td>2001</td>\n",
       "      <td>2002</td>\n",
       "      <td>162.0</td>\n",
       "      <td>486.0</td>\n",
       "      <td>0.0</td>\n",
       "      <td>...</td>\n",
       "      <td>0</td>\n",
       "      <td>0</td>\n",
       "      <td>0</td>\n",
       "      <td>0</td>\n",
       "      <td>9</td>\n",
       "      <td>2008</td>\n",
       "      <td>1</td>\n",
       "      <td>0</td>\n",
       "      <td>1</td>\n",
       "      <td>0</td>\n",
       "    </tr>\n",
       "    <tr>\n",
       "      <th>3</th>\n",
       "      <td>70</td>\n",
       "      <td>60.0</td>\n",
       "      <td>9550</td>\n",
       "      <td>7</td>\n",
       "      <td>5</td>\n",
       "      <td>1915</td>\n",
       "      <td>1970</td>\n",
       "      <td>0.0</td>\n",
       "      <td>216.0</td>\n",
       "      <td>0.0</td>\n",
       "      <td>...</td>\n",
       "      <td>0</td>\n",
       "      <td>0</td>\n",
       "      <td>0</td>\n",
       "      <td>0</td>\n",
       "      <td>2</td>\n",
       "      <td>2006</td>\n",
       "      <td>1</td>\n",
       "      <td>0</td>\n",
       "      <td>1</td>\n",
       "      <td>0</td>\n",
       "    </tr>\n",
       "    <tr>\n",
       "      <th>4</th>\n",
       "      <td>60</td>\n",
       "      <td>84.0</td>\n",
       "      <td>14260</td>\n",
       "      <td>8</td>\n",
       "      <td>5</td>\n",
       "      <td>2000</td>\n",
       "      <td>2000</td>\n",
       "      <td>350.0</td>\n",
       "      <td>655.0</td>\n",
       "      <td>0.0</td>\n",
       "      <td>...</td>\n",
       "      <td>0</td>\n",
       "      <td>0</td>\n",
       "      <td>0</td>\n",
       "      <td>0</td>\n",
       "      <td>12</td>\n",
       "      <td>2008</td>\n",
       "      <td>1</td>\n",
       "      <td>0</td>\n",
       "      <td>1</td>\n",
       "      <td>0</td>\n",
       "    </tr>\n",
       "  </tbody>\n",
       "</table>\n",
       "<p>5 rows × 40 columns</p>\n",
       "</div>"
      ],
      "text/plain": [
       "   MSSubClass  LotFrontage  LotArea  OverallQual  OverallCond  YearBuilt  \\\n",
       "0          60         65.0     8450            7            5       2003   \n",
       "1          20         80.0     9600            6            8       1976   \n",
       "2          60         68.0    11250            7            5       2001   \n",
       "3          70         60.0     9550            7            5       1915   \n",
       "4          60         84.0    14260            8            5       2000   \n",
       "\n",
       "   YearRemodAdd  MasVnrArea  BsmtFinSF1  BsmtFinSF2  ...  3SsnPorch  \\\n",
       "0          2003       196.0       706.0         0.0  ...          0   \n",
       "1          1976         0.0       978.0         0.0  ...          0   \n",
       "2          2002       162.0       486.0         0.0  ...          0   \n",
       "3          1970         0.0       216.0         0.0  ...          0   \n",
       "4          2000       350.0       655.0         0.0  ...          0   \n",
       "\n",
       "   ScreenPorch  PoolArea  MiscVal  MoSold  YrSold  MiscFeature_NAN  \\\n",
       "0            0         0        0       2    2008                1   \n",
       "1            0         0        0       5    2007                1   \n",
       "2            0         0        0       9    2008                1   \n",
       "3            0         0        0       2    2006                1   \n",
       "4            0         0        0      12    2008                1   \n",
       "\n",
       "   FireplaceQu_NAN  Fence_NAN  LotFrontage_NAN  \n",
       "0                1          1                0  \n",
       "1                0          1                0  \n",
       "2                0          1                0  \n",
       "3                0          1                0  \n",
       "4                0          1                0  \n",
       "\n",
       "[5 rows x 40 columns]"
      ]
     },
     "execution_count": 60,
     "metadata": {},
     "output_type": "execute_result"
    }
   ],
   "source": [
    "numeric_features = data.select_dtypes(include=[np.number])\n",
    "numeric_columns = numeric_features.columns\n",
    "data[numeric_columns].head()"
   ]
  },
  {
   "cell_type": "markdown",
   "metadata": {},
   "source": [
    "### Xử lý dữ liệu dạng số"
   ]
  },
  {
   "cell_type": "markdown",
   "metadata": {},
   "source": [
    "#### Xử lý với dữ liệu năm "
   ]
  },
  {
   "cell_type": "code",
   "execution_count": 61,
   "metadata": {},
   "outputs": [],
   "source": [
    "data['YearBuiltDur'] = 2018 - data['YearBuilt']\n",
    "data['YearRemodAddDur'] = 2018 - data['YearRemodAdd']\n",
    "data['GarageYrBltDur'] = 2018 - data['GarageYrBlt']"
   ]
  },
  {
   "cell_type": "markdown",
   "metadata": {},
   "source": [
    "#### Sử dụng phép biến đổi log cho những cột chênh lệch lớn"
   ]
  },
  {
   "cell_type": "code",
   "execution_count": 62,
   "metadata": {},
   "outputs": [],
   "source": [
    "transform_columns = [\"LotArea\", \"MasVnrArea\", \"BsmtFinSF1\",\"BsmtUnfSF\", \"TotalBsmtSF\",\n",
    "                     \"1stFlrSF\",\"2ndFlrSF\", \"GrLivArea\",\"GarageArea\", \"WoodDeckSF\", \n",
    "                     \"OpenPorchSF\",\"3SsnPorch\",\"ScreenPorch\", \"PoolArea\"]"
   ]
  },
  {
   "cell_type": "code",
   "execution_count": 63,
   "metadata": {},
   "outputs": [
    {
     "data": {
      "text/html": [
       "<div>\n",
       "<style scoped>\n",
       "    .dataframe tbody tr th:only-of-type {\n",
       "        vertical-align: middle;\n",
       "    }\n",
       "\n",
       "    .dataframe tbody tr th {\n",
       "        vertical-align: top;\n",
       "    }\n",
       "\n",
       "    .dataframe thead th {\n",
       "        text-align: right;\n",
       "    }\n",
       "</style>\n",
       "<table border=\"1\" class=\"dataframe\">\n",
       "  <thead>\n",
       "    <tr style=\"text-align: right;\">\n",
       "      <th></th>\n",
       "      <th>LotArea</th>\n",
       "      <th>MasVnrArea</th>\n",
       "      <th>BsmtFinSF1</th>\n",
       "      <th>BsmtUnfSF</th>\n",
       "      <th>TotalBsmtSF</th>\n",
       "      <th>1stFlrSF</th>\n",
       "      <th>2ndFlrSF</th>\n",
       "      <th>GrLivArea</th>\n",
       "      <th>GarageArea</th>\n",
       "      <th>WoodDeckSF</th>\n",
       "      <th>OpenPorchSF</th>\n",
       "      <th>3SsnPorch</th>\n",
       "      <th>ScreenPorch</th>\n",
       "      <th>PoolArea</th>\n",
       "    </tr>\n",
       "  </thead>\n",
       "  <tbody>\n",
       "    <tr>\n",
       "      <th>0</th>\n",
       "      <td>9.042040</td>\n",
       "      <td>5.283204</td>\n",
       "      <td>6.561031</td>\n",
       "      <td>5.017280</td>\n",
       "      <td>6.753438</td>\n",
       "      <td>6.753438</td>\n",
       "      <td>6.751101</td>\n",
       "      <td>7.444833</td>\n",
       "      <td>6.308098</td>\n",
       "      <td>0.000000</td>\n",
       "      <td>4.127134</td>\n",
       "      <td>0.000000</td>\n",
       "      <td>0.0</td>\n",
       "      <td>0.0</td>\n",
       "    </tr>\n",
       "    <tr>\n",
       "      <th>1</th>\n",
       "      <td>9.169623</td>\n",
       "      <td>0.000000</td>\n",
       "      <td>6.886532</td>\n",
       "      <td>5.652489</td>\n",
       "      <td>7.141245</td>\n",
       "      <td>7.141245</td>\n",
       "      <td>0.000000</td>\n",
       "      <td>7.141245</td>\n",
       "      <td>6.133398</td>\n",
       "      <td>5.700444</td>\n",
       "      <td>0.000000</td>\n",
       "      <td>0.000000</td>\n",
       "      <td>0.0</td>\n",
       "      <td>0.0</td>\n",
       "    </tr>\n",
       "    <tr>\n",
       "      <th>2</th>\n",
       "      <td>9.328212</td>\n",
       "      <td>5.093750</td>\n",
       "      <td>6.188264</td>\n",
       "      <td>6.075346</td>\n",
       "      <td>6.825460</td>\n",
       "      <td>6.825460</td>\n",
       "      <td>6.765039</td>\n",
       "      <td>7.488294</td>\n",
       "      <td>6.411818</td>\n",
       "      <td>0.000000</td>\n",
       "      <td>3.761200</td>\n",
       "      <td>0.000000</td>\n",
       "      <td>0.0</td>\n",
       "      <td>0.0</td>\n",
       "    </tr>\n",
       "    <tr>\n",
       "      <th>3</th>\n",
       "      <td>9.164401</td>\n",
       "      <td>0.000000</td>\n",
       "      <td>5.379897</td>\n",
       "      <td>6.293419</td>\n",
       "      <td>6.629363</td>\n",
       "      <td>6.869014</td>\n",
       "      <td>6.629363</td>\n",
       "      <td>7.448916</td>\n",
       "      <td>6.466145</td>\n",
       "      <td>0.000000</td>\n",
       "      <td>3.583519</td>\n",
       "      <td>0.000000</td>\n",
       "      <td>0.0</td>\n",
       "      <td>0.0</td>\n",
       "    </tr>\n",
       "    <tr>\n",
       "      <th>4</th>\n",
       "      <td>9.565284</td>\n",
       "      <td>5.860786</td>\n",
       "      <td>6.486161</td>\n",
       "      <td>6.196444</td>\n",
       "      <td>7.044033</td>\n",
       "      <td>7.044033</td>\n",
       "      <td>6.960348</td>\n",
       "      <td>7.695758</td>\n",
       "      <td>6.729824</td>\n",
       "      <td>5.262690</td>\n",
       "      <td>4.442651</td>\n",
       "      <td>0.000000</td>\n",
       "      <td>0.0</td>\n",
       "      <td>0.0</td>\n",
       "    </tr>\n",
       "    <tr>\n",
       "      <th>5</th>\n",
       "      <td>9.555064</td>\n",
       "      <td>0.000000</td>\n",
       "      <td>6.597146</td>\n",
       "      <td>4.174387</td>\n",
       "      <td>6.680855</td>\n",
       "      <td>6.680855</td>\n",
       "      <td>6.340359</td>\n",
       "      <td>7.217443</td>\n",
       "      <td>6.175867</td>\n",
       "      <td>3.713572</td>\n",
       "      <td>3.433987</td>\n",
       "      <td>5.771441</td>\n",
       "      <td>0.0</td>\n",
       "      <td>0.0</td>\n",
       "    </tr>\n",
       "    <tr>\n",
       "      <th>6</th>\n",
       "      <td>9.218804</td>\n",
       "      <td>5.231109</td>\n",
       "      <td>7.222566</td>\n",
       "      <td>5.762051</td>\n",
       "      <td>7.430707</td>\n",
       "      <td>7.435438</td>\n",
       "      <td>0.000000</td>\n",
       "      <td>7.435438</td>\n",
       "      <td>6.456770</td>\n",
       "      <td>5.545177</td>\n",
       "      <td>4.060443</td>\n",
       "      <td>0.000000</td>\n",
       "      <td>0.0</td>\n",
       "      <td>0.0</td>\n",
       "    </tr>\n",
       "    <tr>\n",
       "      <th>7</th>\n",
       "      <td>9.247925</td>\n",
       "      <td>5.484797</td>\n",
       "      <td>6.756932</td>\n",
       "      <td>5.379897</td>\n",
       "      <td>7.010312</td>\n",
       "      <td>7.010312</td>\n",
       "      <td>6.891626</td>\n",
       "      <td>7.645398</td>\n",
       "      <td>6.184149</td>\n",
       "      <td>5.463832</td>\n",
       "      <td>5.323010</td>\n",
       "      <td>0.000000</td>\n",
       "      <td>0.0</td>\n",
       "      <td>0.0</td>\n",
       "    </tr>\n",
       "    <tr>\n",
       "      <th>8</th>\n",
       "      <td>8.719481</td>\n",
       "      <td>0.000000</td>\n",
       "      <td>0.000000</td>\n",
       "      <td>6.859615</td>\n",
       "      <td>6.859615</td>\n",
       "      <td>6.930495</td>\n",
       "      <td>6.624065</td>\n",
       "      <td>7.481556</td>\n",
       "      <td>6.150603</td>\n",
       "      <td>4.510860</td>\n",
       "      <td>0.000000</td>\n",
       "      <td>0.000000</td>\n",
       "      <td>0.0</td>\n",
       "      <td>0.0</td>\n",
       "    </tr>\n",
       "    <tr>\n",
       "      <th>9</th>\n",
       "      <td>8.912069</td>\n",
       "      <td>0.000000</td>\n",
       "      <td>6.747587</td>\n",
       "      <td>4.948760</td>\n",
       "      <td>6.899723</td>\n",
       "      <td>6.982863</td>\n",
       "      <td>0.000000</td>\n",
       "      <td>6.982863</td>\n",
       "      <td>5.327876</td>\n",
       "      <td>0.000000</td>\n",
       "      <td>1.609438</td>\n",
       "      <td>0.000000</td>\n",
       "      <td>0.0</td>\n",
       "      <td>0.0</td>\n",
       "    </tr>\n",
       "  </tbody>\n",
       "</table>\n",
       "</div>"
      ],
      "text/plain": [
       "    LotArea  MasVnrArea  BsmtFinSF1  BsmtUnfSF  TotalBsmtSF  1stFlrSF  \\\n",
       "0  9.042040    5.283204    6.561031   5.017280     6.753438  6.753438   \n",
       "1  9.169623    0.000000    6.886532   5.652489     7.141245  7.141245   \n",
       "2  9.328212    5.093750    6.188264   6.075346     6.825460  6.825460   \n",
       "3  9.164401    0.000000    5.379897   6.293419     6.629363  6.869014   \n",
       "4  9.565284    5.860786    6.486161   6.196444     7.044033  7.044033   \n",
       "5  9.555064    0.000000    6.597146   4.174387     6.680855  6.680855   \n",
       "6  9.218804    5.231109    7.222566   5.762051     7.430707  7.435438   \n",
       "7  9.247925    5.484797    6.756932   5.379897     7.010312  7.010312   \n",
       "8  8.719481    0.000000    0.000000   6.859615     6.859615  6.930495   \n",
       "9  8.912069    0.000000    6.747587   4.948760     6.899723  6.982863   \n",
       "\n",
       "   2ndFlrSF  GrLivArea  GarageArea  WoodDeckSF  OpenPorchSF  3SsnPorch  \\\n",
       "0  6.751101   7.444833    6.308098    0.000000     4.127134   0.000000   \n",
       "1  0.000000   7.141245    6.133398    5.700444     0.000000   0.000000   \n",
       "2  6.765039   7.488294    6.411818    0.000000     3.761200   0.000000   \n",
       "3  6.629363   7.448916    6.466145    0.000000     3.583519   0.000000   \n",
       "4  6.960348   7.695758    6.729824    5.262690     4.442651   0.000000   \n",
       "5  6.340359   7.217443    6.175867    3.713572     3.433987   5.771441   \n",
       "6  0.000000   7.435438    6.456770    5.545177     4.060443   0.000000   \n",
       "7  6.891626   7.645398    6.184149    5.463832     5.323010   0.000000   \n",
       "8  6.624065   7.481556    6.150603    4.510860     0.000000   0.000000   \n",
       "9  0.000000   6.982863    5.327876    0.000000     1.609438   0.000000   \n",
       "\n",
       "   ScreenPorch  PoolArea  \n",
       "0          0.0       0.0  \n",
       "1          0.0       0.0  \n",
       "2          0.0       0.0  \n",
       "3          0.0       0.0  \n",
       "4          0.0       0.0  \n",
       "5          0.0       0.0  \n",
       "6          0.0       0.0  \n",
       "7          0.0       0.0  \n",
       "8          0.0       0.0  \n",
       "9          0.0       0.0  "
      ]
     },
     "execution_count": 63,
     "metadata": {},
     "output_type": "execute_result"
    }
   ],
   "source": [
    "#data[transform_columns] = data[transform_columns].replace(0, np.nan)\n",
    "data.loc[:,transform_columns] = np.log1p(data[transform_columns])\n",
    "#data[transform_columns] = data[transform_columns].replace(np.nan, 0)\n",
    "data[transform_columns].head(10)"
   ]
  },
  {
   "cell_type": "code",
   "execution_count": 64,
   "metadata": {},
   "outputs": [],
   "source": [
    "###  Xử lý dữ liệu dạng phân loại"
   ]
  },
  {
   "cell_type": "code",
   "execution_count": 65,
   "metadata": {},
   "outputs": [
    {
     "data": {
      "text/html": [
       "<div>\n",
       "<style scoped>\n",
       "    .dataframe tbody tr th:only-of-type {\n",
       "        vertical-align: middle;\n",
       "    }\n",
       "\n",
       "    .dataframe tbody tr th {\n",
       "        vertical-align: top;\n",
       "    }\n",
       "\n",
       "    .dataframe thead th {\n",
       "        text-align: right;\n",
       "    }\n",
       "</style>\n",
       "<table border=\"1\" class=\"dataframe\">\n",
       "  <thead>\n",
       "    <tr style=\"text-align: right;\">\n",
       "      <th></th>\n",
       "      <th>MSZoning</th>\n",
       "      <th>Street</th>\n",
       "      <th>Alley</th>\n",
       "      <th>LotShape</th>\n",
       "      <th>LandContour</th>\n",
       "      <th>Utilities</th>\n",
       "      <th>LotConfig</th>\n",
       "      <th>LandSlope</th>\n",
       "      <th>Neighborhood</th>\n",
       "      <th>Condition1</th>\n",
       "      <th>...</th>\n",
       "      <th>GarageType</th>\n",
       "      <th>GarageFinish</th>\n",
       "      <th>GarageQual</th>\n",
       "      <th>GarageCond</th>\n",
       "      <th>PavedDrive</th>\n",
       "      <th>PoolQC</th>\n",
       "      <th>Fence</th>\n",
       "      <th>MiscFeature</th>\n",
       "      <th>SaleType</th>\n",
       "      <th>SaleCondition</th>\n",
       "    </tr>\n",
       "  </thead>\n",
       "  <tbody>\n",
       "    <tr>\n",
       "      <th>0</th>\n",
       "      <td>RL</td>\n",
       "      <td>Pave</td>\n",
       "      <td>None</td>\n",
       "      <td>Reg</td>\n",
       "      <td>Lvl</td>\n",
       "      <td>AllPub</td>\n",
       "      <td>Inside</td>\n",
       "      <td>Gtl</td>\n",
       "      <td>CollgCr</td>\n",
       "      <td>Norm</td>\n",
       "      <td>...</td>\n",
       "      <td>Attchd</td>\n",
       "      <td>RFn</td>\n",
       "      <td>TA</td>\n",
       "      <td>TA</td>\n",
       "      <td>Y</td>\n",
       "      <td>None</td>\n",
       "      <td>None</td>\n",
       "      <td>None</td>\n",
       "      <td>WD</td>\n",
       "      <td>Normal</td>\n",
       "    </tr>\n",
       "    <tr>\n",
       "      <th>1</th>\n",
       "      <td>RL</td>\n",
       "      <td>Pave</td>\n",
       "      <td>None</td>\n",
       "      <td>Reg</td>\n",
       "      <td>Lvl</td>\n",
       "      <td>AllPub</td>\n",
       "      <td>FR2</td>\n",
       "      <td>Gtl</td>\n",
       "      <td>Veenker</td>\n",
       "      <td>Feedr</td>\n",
       "      <td>...</td>\n",
       "      <td>Attchd</td>\n",
       "      <td>RFn</td>\n",
       "      <td>TA</td>\n",
       "      <td>TA</td>\n",
       "      <td>Y</td>\n",
       "      <td>None</td>\n",
       "      <td>None</td>\n",
       "      <td>None</td>\n",
       "      <td>WD</td>\n",
       "      <td>Normal</td>\n",
       "    </tr>\n",
       "    <tr>\n",
       "      <th>2</th>\n",
       "      <td>RL</td>\n",
       "      <td>Pave</td>\n",
       "      <td>None</td>\n",
       "      <td>IR1</td>\n",
       "      <td>Lvl</td>\n",
       "      <td>AllPub</td>\n",
       "      <td>Inside</td>\n",
       "      <td>Gtl</td>\n",
       "      <td>CollgCr</td>\n",
       "      <td>Norm</td>\n",
       "      <td>...</td>\n",
       "      <td>Attchd</td>\n",
       "      <td>RFn</td>\n",
       "      <td>TA</td>\n",
       "      <td>TA</td>\n",
       "      <td>Y</td>\n",
       "      <td>None</td>\n",
       "      <td>None</td>\n",
       "      <td>None</td>\n",
       "      <td>WD</td>\n",
       "      <td>Normal</td>\n",
       "    </tr>\n",
       "    <tr>\n",
       "      <th>3</th>\n",
       "      <td>RL</td>\n",
       "      <td>Pave</td>\n",
       "      <td>None</td>\n",
       "      <td>IR1</td>\n",
       "      <td>Lvl</td>\n",
       "      <td>AllPub</td>\n",
       "      <td>Corner</td>\n",
       "      <td>Gtl</td>\n",
       "      <td>Crawfor</td>\n",
       "      <td>Norm</td>\n",
       "      <td>...</td>\n",
       "      <td>Detchd</td>\n",
       "      <td>Unf</td>\n",
       "      <td>TA</td>\n",
       "      <td>TA</td>\n",
       "      <td>Y</td>\n",
       "      <td>None</td>\n",
       "      <td>None</td>\n",
       "      <td>None</td>\n",
       "      <td>WD</td>\n",
       "      <td>Abnorml</td>\n",
       "    </tr>\n",
       "    <tr>\n",
       "      <th>4</th>\n",
       "      <td>RL</td>\n",
       "      <td>Pave</td>\n",
       "      <td>None</td>\n",
       "      <td>IR1</td>\n",
       "      <td>Lvl</td>\n",
       "      <td>AllPub</td>\n",
       "      <td>FR2</td>\n",
       "      <td>Gtl</td>\n",
       "      <td>NoRidge</td>\n",
       "      <td>Norm</td>\n",
       "      <td>...</td>\n",
       "      <td>Attchd</td>\n",
       "      <td>RFn</td>\n",
       "      <td>TA</td>\n",
       "      <td>TA</td>\n",
       "      <td>Y</td>\n",
       "      <td>None</td>\n",
       "      <td>None</td>\n",
       "      <td>None</td>\n",
       "      <td>WD</td>\n",
       "      <td>Normal</td>\n",
       "    </tr>\n",
       "  </tbody>\n",
       "</table>\n",
       "<p>5 rows × 43 columns</p>\n",
       "</div>"
      ],
      "text/plain": [
       "  MSZoning Street Alley LotShape LandContour Utilities LotConfig LandSlope  \\\n",
       "0       RL   Pave  None      Reg         Lvl    AllPub    Inside       Gtl   \n",
       "1       RL   Pave  None      Reg         Lvl    AllPub       FR2       Gtl   \n",
       "2       RL   Pave  None      IR1         Lvl    AllPub    Inside       Gtl   \n",
       "3       RL   Pave  None      IR1         Lvl    AllPub    Corner       Gtl   \n",
       "4       RL   Pave  None      IR1         Lvl    AllPub       FR2       Gtl   \n",
       "\n",
       "  Neighborhood Condition1  ... GarageType GarageFinish GarageQual GarageCond  \\\n",
       "0      CollgCr       Norm  ...     Attchd          RFn         TA         TA   \n",
       "1      Veenker      Feedr  ...     Attchd          RFn         TA         TA   \n",
       "2      CollgCr       Norm  ...     Attchd          RFn         TA         TA   \n",
       "3      Crawfor       Norm  ...     Detchd          Unf         TA         TA   \n",
       "4      NoRidge       Norm  ...     Attchd          RFn         TA         TA   \n",
       "\n",
       "  PavedDrive PoolQC Fence MiscFeature SaleType SaleCondition  \n",
       "0          Y   None  None        None       WD        Normal  \n",
       "1          Y   None  None        None       WD        Normal  \n",
       "2          Y   None  None        None       WD        Normal  \n",
       "3          Y   None  None        None       WD       Abnorml  \n",
       "4          Y   None  None        None       WD        Normal  \n",
       "\n",
       "[5 rows x 43 columns]"
      ]
     },
     "execution_count": 65,
     "metadata": {},
     "output_type": "execute_result"
    }
   ],
   "source": [
    "categorical_features = data.select_dtypes(exclude=[np.number])\n",
    "categorical_columns = categorical_features.columns\n",
    "data[categorical_columns].head()"
   ]
  },
  {
   "cell_type": "code",
   "execution_count": 66,
   "metadata": {},
   "outputs": [],
   "source": [
    "#### One Hot Encoding"
   ]
  },
  {
   "cell_type": "code",
   "execution_count": 67,
   "metadata": {},
   "outputs": [
    {
     "name": "stdout",
     "output_type": "stream",
     "text": [
      "(2917, 308)\n"
     ]
    }
   ],
   "source": [
    "data = pd.get_dummies(data)\n",
    "print(data.shape)"
   ]
  },
  {
   "cell_type": "code",
   "execution_count": 68,
   "metadata": {},
   "outputs": [],
   "source": [
    "target = train['SalePrice'].values"
   ]
  },
  {
   "cell_type": "code",
   "execution_count": 69,
   "metadata": {},
   "outputs": [],
   "source": [
    "train_set = data[:ntrain]\n",
    "test_set = data[ntrain:]"
   ]
  },
  {
   "cell_type": "code",
   "execution_count": 70,
   "metadata": {},
   "outputs": [],
   "source": [
    "target = np.log1p(train['SalePrice'].values)"
   ]
  },
  {
   "cell_type": "markdown",
   "metadata": {},
   "source": [
    "# <a id='1.3'>1.3. Xây dựng mô hình Random Forest Regressor với Cross-Validation   </a>  "
   ]
  },
  {
   "cell_type": "markdown",
   "metadata": {},
   "source": [
    "### Định nghĩa parameter và mô hình RFR trên mỗi fold "
   ]
  },
  {
   "cell_type": "code",
   "execution_count": 71,
   "metadata": {},
   "outputs": [],
   "source": [
    "params = {  'bootstrap': True,\n",
    "            'criterion': 'mse',\n",
    "            'max_depth': 4,\n",
    "            'max_features': 'auto',\n",
    "            'max_leaf_nodes': None,\n",
    "            'min_impurity_decrease': 0.0,\n",
    "            'min_impurity_split': None,\n",
    "            'min_samples_leaf': 1,\n",
    "            'min_samples_split': 2,\n",
    "            'min_weight_fraction_leaf': 0.0,\n",
    "            'n_estimators': 100,\n",
    "            'n_jobs': 1,\n",
    "            'oob_score': False,\n",
    "            'random_state': 42,\n",
    "            'verbose': 0,\n",
    "            'warm_start': False}\n",
    "\n",
    "def run_RFR(X_train, y_train, X_valid, y_valid, params):\n",
    "    \"\"\"\n",
    "    args: \n",
    "    + train_X : training dataset\n",
    "    + valid_X : validataion dataset\n",
    "    + train_y : target of training set\n",
    "    + valid_y : target of validation set\n",
    "    + params : parameters of RandomForestRegressor\n",
    "    \n",
    "    output: \n",
    "    \n",
    "    + model   : The RandomForestRegressor model which is trained by the train_X, train_y\n",
    "    + y_predict : The prediction of valid_X by using the above model\n",
    "    \"\"\"\n",
    "    model = RandomForestRegressor( max_depth = params['max_depth'], random_state=0)\n",
    "    model = model.fit(X_train, y_train)\n",
    "    y_predict =  model.predict(X_valid)\n",
    "    rmse = mean_squared_error(y_valid, y_predict, squared = False)\n",
    "    print(rmse)\n",
    "    return  model, y_predict"
   ]
  },
  {
   "cell_type": "markdown",
   "metadata": {},
   "source": [
    "### Xây dựng tính toán metric trên Cross Validation dựa trên mô hình mỗi single fold "
   ]
  },
  {
   "cell_type": "code",
   "execution_count": 32,
   "metadata": {},
   "outputs": [],
   "source": [
    "def RFR_kfold(train_set, target,test_set, params):   \n",
    "    kf = KFold(n_splits=5, shuffle = True, random_state = 2020) ## định nghĩa k-fold \n",
    "    pred_test_full = 0\n",
    "# Sử dụng loop để huấn luyện mỗi fold\n",
    "    oof_preds = np.zeros(train_set.shape[0]) ## out of fold prediction \n",
    "    for train_index, valid_index in kf.split(train_set):\n",
    "        X_train , X_valid  = train_set.loc[train_index,:], train_set.loc[valid_index,:]\n",
    "        y_train, y_valid = target[train_index], target[valid_index]\n",
    "        model, _ = run_RFR(X_train, y_train, X_valid, y_valid, params) ## get testing prediction and model  \n",
    "        pred_test_full += model.predict(test_set) ## prediction of testing data\n",
    "        oof_preds[valid_index] = model.predict(train_set.loc[valid_index,:])  # prediction of out of fold\n",
    "    print('Full Out-Of-Fold score : %9.6f' \n",
    "          % (mean_squared_error(target, oof_preds) ** .5))\n",
    "    pred_test_full /= 5\n",
    "    pred_test_full = np.expm1(pred_test_full)\n",
    "    return pred_test_full, oof_preds, model"
   ]
  },
  {
   "cell_type": "markdown",
   "metadata": {},
   "source": [
    "### Chạy kết quả "
   ]
  },
  {
   "cell_type": "code",
   "execution_count": 72,
   "metadata": {},
   "outputs": [
    {
     "name": "stdout",
     "output_type": "stream",
     "text": [
      "0.1671231494825477\n",
      "0.18444753518172774\n",
      "0.1639618516777441\n",
      "0.16795476445073826\n",
      "0.189620966382241\n",
      "Full Out-Of-Fold score :  0.174922\n"
     ]
    }
   ],
   "source": [
    "pred_test_full, oof_preds, model = RFR_kfold(train_set, target,test_set,params)"
   ]
  },
  {
   "cell_type": "markdown",
   "metadata": {},
   "source": [
    "### ==>> Kết quả RMSLE trên cross-validation đạt: 0.174922"
   ]
  },
  {
   "cell_type": "markdown",
   "metadata": {},
   "source": [
    "Lưu ý: Kết quả không nói lên sử dụng cross-validation tốt hay xấu hơn sử dụng cách chia train-valid."
   ]
  },
  {
   "cell_type": "markdown",
   "metadata": {},
   "source": [
    "# Các thuật toán thường được dùng khi xây dựng mô hình regression \n",
    "+ [Linear regression](https://www.analyticsvidhya.com/blog/2017/06/a-comprehensive-guide-for-linear-ridge-and-lasso-regression/)\n",
    "+ [Lasso Regression](https://www.analyticsvidhya.com/blog/2017/06/a-comprehensive-guide-for-linear-ridge-and-lasso-regression/)\n",
    "+ [Ridge Regression](https://www.analyticsvidhya.com/blog/2017/06/a-comprehensive-guide-for-linear-ridge-and-lasso-regression/)\n",
    "+ [Elastic Net Regression](https://www.analyticsvidhya.com/blog/2017/06/a-comprehensive-guide-for-linear-ridge-and-lasso-regression/)\n",
    "+ [Gradient Boosting regression](https://scikit-learn.org/stable/auto_examples/ensemble/plot_gradient_boosting_regression.html)\n",
    "+ [CatBoostRegressor](https://catboost.ai/docs/concepts/python-reference_catboostregressor.html)\n",
    "+ [Xgboost](https://xgboost.readthedocs.io/en/latest/parameter.html)\n",
    "+ [Lightgbm](https://lightgbm.readthedocs.io/en/latest/pythonapi/lightgbm.LGBMRegressor.html)"
   ]
  },
  {
   "cell_type": "markdown",
   "metadata": {},
   "source": [
    "# <a id='2'>2. Thuật toán Random Forest Regressor và tối ưu bayes </a> "
   ]
  },
  {
   "cell_type": "markdown",
   "metadata": {},
   "source": [
    "## <a id='2.1*'>2.1. Giới thiệu tổng quan về Random Forest  </a>\n",
    "  "
   ]
  },
  {
   "cell_type": "markdown",
   "metadata": {},
   "source": [
    "### Bagging and Boosting "
   ]
  },
  {
   "cell_type": "markdown",
   "metadata": {},
   "source": [
    "<img src=\"./imgs/bagging-and-boosting.png\" alt=\"drawing\" width=\"500\"/>\n"
   ]
  },
  {
   "cell_type": "markdown",
   "metadata": {},
   "source": [
    "+ **Bagging** và **Boosting** đều là thuật toán học giám sát dựa vào nguyên lý tập hợp (ensembling): Xây dựng thuật toán cuối cùng ( gọi là strong learner) dựa vào tổng hợp các thuạt toán nhỏ hơn ( gọi là weak learners)\n",
    "\n",
    "---\n",
    "\n",
    "+ **Bagging**: các thuật toán con được xây dưng một cách song song không phụ thuộc vào nhau. Dữ liệu huấn luyện của các mô hình con là dữ liệu bất kì trong dữ liệu huấn luyện gốc (lấy một cách bất kì theo cách lấy vật trong túi - **bagging**) \n",
    "\n",
    "---\n",
    "\n",
    "\n",
    "+ **Boosting**: Xây dựng thuật toán mạnh dựa vào chuỗi (sequence) các thuật toán yếu và có cập nhật trọng số (update weight) vào dữ liệu. Mỗi thuật toán con có liên kết với thuật toán trước và sau đó, thúc đẩy độ chính xác hơn (**boosting**)."
   ]
  },
  {
   "cell_type": "markdown",
   "metadata": {},
   "source": [
    "<img src=\"./imgs/boosting.png\" alt=\"drawing\" width=\"600\"/>\n",
    "\n",
    "**Hình mô tả nguyên lý thuật toán Bagging** - các tập dữ liệu được lấy một cách độc lập và mô hình con được huấn luyện độc lập với nhau"
   ]
  },
  {
   "cell_type": "markdown",
   "metadata": {},
   "source": [
    "<img src=\"./imgs/bagging.png\" alt=\"drawing\" width=\"600\"/>\n",
    "\n",
    "**Hình mô tả nguyên lý thuật toán Boosting** -Các mô hình con có mối quan hệ sequence với nhau, dữ liệu được update trọng số sau mỗi lần huấn luyện tập con "
   ]
  },
  {
   "cell_type": "markdown",
   "metadata": {},
   "source": [
    "<img src=\"./imgs/adaboost.png\" alt=\"drawing\" width=\"500\"/>\n",
    "\n",
    "**Ví dụ điển hình nguyên lý bagging: Random forest** là thuật toán dùng nguyên lý  bagging và sử dụng decision tree ở mỗi thuật toán con (weak learners)"
   ]
  },
  {
   "cell_type": "markdown",
   "metadata": {},
   "source": [
    "<img src=\"./imgs/random_foret.png\" alt=\"drawing\" width=\"600\"/>\n",
    "\n",
    "**Ví dụ điển hình nguyên lý boosting : Adaboost** (Adaptive + Boosting) - là thuật toán dùng nguyên lý boosting và sử dụng weak learner là decision tree."
   ]
  },
  {
   "cell_type": "markdown",
   "metadata": {},
   "source": [
    "##  Tổng quan Adaboost and Gradient Boosting"
   ]
  },
  {
   "cell_type": "markdown",
   "metadata": {},
   "source": [
    "+ Giống nhau: Đều dựa vào nguyên lý Boosting \n",
    "+ Khác nhau : Cách tạo ra thuật toán con (weak learners) trong các bước lặp "
   ]
  },
  {
   "cell_type": "markdown",
   "metadata": {},
   "source": [
    "### Adaboost = Adaptive + Boosting                        \n"
   ]
  },
  {
   "cell_type": "markdown",
   "metadata": {},
   "source": [
    "<img src=\"./imgs/adaboost_final.png\" alt=\"drawing\" width=\"600\"/>\n",
    "\n"
   ]
  },
  {
   "cell_type": "markdown",
   "metadata": {},
   "source": [
    "#### Adaboost: Mẫu dữ liệu huấn luyện được thay đổi qua từng bước lặp , tăng trọng số ở mẫu đoán sai, giảm trọng số ở mẫu đoán đúng giúp mô hình con tiếp theo học tốt hơn)"
   ]
  },
  {
   "cell_type": "markdown",
   "metadata": {},
   "source": [
    "#### Adaboost: Mô hình huấn luyện cuối cùng được kết hợp từ những weak learners"
   ]
  },
  {
   "cell_type": "markdown",
   "metadata": {},
   "source": [
    "### Gradient Boosting = Gradient Descent + Boosting "
   ]
  },
  {
   "cell_type": "markdown",
   "metadata": {},
   "source": [
    "Hình mô tả nguyên lý hoạt động của Gradient Boosting \n",
    "\n",
    "<img src=\"./imgs/gradientboosting.png\" alt=\"drawing\" width=\"600\"/>"
   ]
  },
  {
   "cell_type": "markdown",
   "metadata": {},
   "source": [
    "#### Gradient Boosting : Không thay đổi mẫu huấn luyện (không có quá trình update trọng số  của mẫu dữ liệu huấn luyện). \n",
    "#### Định nghĩa hàm loss (để tính toán sai lệch), tại mỗi bước lặp sử dụng gradient descent để update mô hình weak learner. "
   ]
  },
  {
   "cell_type": "markdown",
   "metadata": {},
   "source": [
    "<img src=\"./imgs/gradient boosting.png\" alt=\"drawing\" width=\"400\"/>"
   ]
  },
  {
   "cell_type": "markdown",
   "metadata": {},
   "source": [
    "## Các tham số quan trọng của Random Forest\n"
   ]
  },
  {
   "cell_type": "markdown",
   "metadata": {},
   "source": [
    " + max_depth: Random Forest is defined as the longest path between the root node and the leaf node\n",
    " + min_sample_split: a parameter that tells the decision tree in a random forest the minimum required number of observations in any given node in order to split it.\n",
    " + max_leaf_nodes: This hyperparameter sets a condition on the splitting of the nodes in the tree and hence restricts the growth of the tree.\n",
    " + min_samples_leaf: This Random Forest hyperparameter specifies the minimum number of samples that should be present in the leaf node after splitting a node.\n",
    " + n_estimators\n",
    " + max_sample: The max_samples hyperparameter determines what fraction of the original dataset is given to any individual tree\n",
    " + max_features:  This resembles the number of maximum features provided to each tree in a random forest."
   ]
  },
  {
   "cell_type": "code",
   "execution_count": 73,
   "metadata": {},
   "outputs": [],
   "source": [
    "## the fucntion for hidden print\n",
    "class HiddenPrints:\n",
    "    '''To hide all the printouts'''\n",
    "\n",
    "    def __enter__(self):\n",
    "        self._original_stdout = sys.stdout\n",
    "        sys.stdout = open(os.devnull, 'w')\n",
    "\n",
    "    def __exit__(self, exc_type, exc_val, exc_tb):\n",
    "        sys.stdout.close()\n",
    "        sys.stdout = self._original_stdout"
   ]
  },
  {
   "cell_type": "markdown",
   "metadata": {},
   "source": [
    "## <a id='2.2*'>2.2*. Giới thiệu tổng quan về tối ưu Bayes ([Bayesian Optimization](https://thetalog.com/thetaflow/bayesian-optimization-visualizer/?fbclid=IwAR1soc93sJ-b5nAC5dxxJ95Im3YrA3K3SXTNIoDPzZ3SBag0-jyj4zSHl88))  </a>"
   ]
  },
  {
   "cell_type": "markdown",
   "metadata": {},
   "source": [
    "#### Tối ưu hóa Bayes là một chiến lược thiết kế tuần tự để tối ưu hóa toàn cục của các hàm số mà chúng ta không hiểu rõ tính chất (black-box-function)."
   ]
  },
  {
   "cell_type": "markdown",
   "metadata": {},
   "source": [
    "Sử dụng gói thư viện BayesianOptimization"
   ]
  },
  {
   "cell_type": "code",
   "execution_count": 74,
   "metadata": {},
   "outputs": [],
   "source": [
    "from bayes_opt import BayesianOptimization"
   ]
  },
  {
   "cell_type": "markdown",
   "metadata": {},
   "source": [
    "### Ví dụ cơ bản gói thư viện BayesianOptimization"
   ]
  },
  {
   "cell_type": "markdown",
   "metadata": {},
   "source": [
    "Giả sử chúng ta có black box function như ở dưới. \n",
    "\n",
    "$$ f(x,y) = -x^2 -(y-1)^2 +1 $$\n",
    "\n",
    "Ở đây chúng ta hiểu rõ tính chất hàm \\(f\\). Nhưng ở ví dụ này chúng ta giả sử không biết rõ về hàm \\(f\\) và chúng ta muốn tìm \n",
    "\n",
    "$$Max_{x,y} f(x,y)$$\n",
    "\n",
    " với $x\\in (2,4)$, và $y \\in (-3,3)$"
   ]
  },
  {
   "cell_type": "markdown",
   "metadata": {},
   "source": [
    "Chúng ta định nghĩa black box function và grid_search"
   ]
  },
  {
   "cell_type": "code",
   "execution_count": 75,
   "metadata": {},
   "outputs": [],
   "source": [
    "def black_box_function(x, y):\n",
    "    \"\"\"Function with unknown internals we wish to maximize.\n",
    "\n",
    "    This is just serving as an example, for all intents and\n",
    "    purposes think of the internals of this function, i.e.: the process\n",
    "    which generates its output values, as unknown.\n",
    "    \"\"\"\n",
    "    return -x ** 2 - (y - 1) ** 2 + 1"
   ]
  },
  {
   "cell_type": "code",
   "execution_count": 76,
   "metadata": {},
   "outputs": [],
   "source": [
    "grid_search = {'x': (2, 4), 'y': (-3, 3)}"
   ]
  },
  {
   "cell_type": "markdown",
   "metadata": {},
   "source": [
    "### Sử dụng tối ưu Bayes nhờ thư viện BayesianOptimization. Hàm BayesianOptimization gồm 2 tham số quan trọng: \n",
    "   +  f: Hàm black-box\n",
    "   +  pbounds : Không gian cần tìm kiếm "
   ]
  },
  {
   "cell_type": "code",
   "execution_count": 77,
   "metadata": {},
   "outputs": [],
   "source": [
    "optimizer = BayesianOptimization(\n",
    "    f=black_box_function,\n",
    "    pbounds=grid_search,\n",
    "    random_state=1,\n",
    ")"
   ]
  },
  {
   "cell_type": "markdown",
   "metadata": {},
   "source": [
    "#### Để tìm giá trị max của hàm black-box trong khảng giá trị $(2,4)\\times (-3,3)$ chúng ta  sử dụng lệnh "
   ]
  },
  {
   "cell_type": "code",
   "execution_count": 78,
   "metadata": {},
   "outputs": [
    {
     "name": "stdout",
     "output_type": "stream",
     "text": [
      "|   iter    |  target   |     x     |     y     |\n",
      "-------------------------------------------------\n",
      "| \u001b[0m 1       \u001b[0m | \u001b[0m-7.135   \u001b[0m | \u001b[0m 2.834   \u001b[0m | \u001b[0m 1.322   \u001b[0m |\n",
      "| \u001b[0m 2       \u001b[0m | \u001b[0m-7.78    \u001b[0m | \u001b[0m 2.0     \u001b[0m | \u001b[0m-1.186   \u001b[0m |\n",
      "| \u001b[0m 3       \u001b[0m | \u001b[0m-16.13   \u001b[0m | \u001b[0m 2.294   \u001b[0m | \u001b[0m-2.446   \u001b[0m |\n",
      "| \u001b[0m 4       \u001b[0m | \u001b[0m-8.341   \u001b[0m | \u001b[0m 2.373   \u001b[0m | \u001b[0m-0.9266  \u001b[0m |\n",
      "| \u001b[0m 5       \u001b[0m | \u001b[0m-7.392   \u001b[0m | \u001b[0m 2.794   \u001b[0m | \u001b[0m 0.2329  \u001b[0m |\n",
      "| \u001b[0m 6       \u001b[0m | \u001b[0m-15.02   \u001b[0m | \u001b[0m 4.0     \u001b[0m | \u001b[0m 0.8624  \u001b[0m |\n",
      "| \u001b[95m 7       \u001b[0m | \u001b[95m-3.799   \u001b[0m | \u001b[95m 2.184   \u001b[0m | \u001b[95m 0.83    \u001b[0m |\n",
      "| \u001b[0m 8       \u001b[0m | \u001b[0m-5.343   \u001b[0m | \u001b[0m 2.0     \u001b[0m | \u001b[0m 2.531   \u001b[0m |\n",
      "| \u001b[0m 9       \u001b[0m | \u001b[0m-14.29   \u001b[0m | \u001b[0m 3.36    \u001b[0m | \u001b[0m 3.0     \u001b[0m |\n",
      "| \u001b[95m 10      \u001b[0m | \u001b[95m-3.363   \u001b[0m | \u001b[95m 2.0     \u001b[0m | \u001b[95m 1.603   \u001b[0m |\n",
      "=================================================\n"
     ]
    }
   ],
   "source": [
    "optimizer.maximize(init_points=5,n_iter=5)"
   ]
  },
  {
   "cell_type": "markdown",
   "metadata": {},
   "source": [
    "#### Giá trị tốt nhất sử dụng tối ưu bayes đạt: $-3.363$ khi $x=2$, và $y = 1.6$"
   ]
  },
  {
   "cell_type": "markdown",
   "metadata": {},
   "source": [
    "## <a id='2.2*'>2.2*. Áp dụng tối ưu bayes để tìm kiếm tham số tối ưu cho thuật toán lightgbm  </a>"
   ]
  },
  {
   "cell_type": "markdown",
   "metadata": {},
   "source": [
    "#### Ở đây chúng ta sẽ áp dụng \"giá trị tốt nhất trên cross-validation của thuật toán lightgbm\" như hàm  black-box \n",
    "#### Grid_seach là  không gian các tham số muốn tối ưu cho thuật toán lightgbm\n",
    "\n",
    "Cụ thể: \n",
    "+ hàm black-box sẽ là hàm số \"kfold_model_gbm\" ở mục trước \n",
    "+ grid_seach sẽ bao gồm \n",
    "\n",
    "    + 'max_depth': (4, 8),\n",
    "    + 'min_samples_leaf': (1,10),\n",
    "    + 'min_samples_split': (2,6)"
   ]
  },
  {
   "cell_type": "code",
   "execution_count": 79,
   "metadata": {},
   "outputs": [],
   "source": [
    "def bayes_parameter_opt_RFR(train_set, target, init_round=15, opt_round=25 ,output_process=False):\n",
    "    # prepare data\n",
    "    kf = KFold(n_splits=5, shuffle = True, random_state = 2020)\n",
    "    \n",
    "    def single_fold_RFE(train_X, train_y, valid_X, valid_y, params): \n",
    "        \"\"\"\n",
    "        args: \n",
    "        + train   : training dataset \n",
    "        + train_y : target of training dataset\n",
    "        + valid   : validation dataset\n",
    "        + valid_y : target of validation dataset\n",
    "        +params   : important parameters of RandomForestRegressor model \n",
    "        output:\n",
    "        model after training with training dataset \n",
    "        \"\"\"\n",
    "        model = RandomForestRegressor( max_depth = params['max_depth'], \n",
    "                                       min_samples_leaf =  params['min_samples_leaf'], \n",
    "                                       min_samples_split =  params['min_samples_split'], \n",
    "                                       n_estimators =  params['n_estimators'], \n",
    "                                       random_state=0)\n",
    "        model = model.fit(train_X, train_y)\n",
    "        \n",
    "        return model\n",
    "    \n",
    "    grid_search =      {  'max_depth': (4, 8),\n",
    "                          'min_samples_leaf': (1,10),\n",
    "                          'min_samples_split': (2,6)}\n",
    "    \n",
    "    def kfold_model(max_depth, min_samples_leaf, min_samples_split):\n",
    "        \"\"\"\n",
    "        args: \n",
    "        + all parameters we want to search for the RandomForestRegressor model. Here, we want to tune : \n",
    "        max_depth, min_samples_leaf, min_samples_split, n_estimators\n",
    "        \n",
    "        ouput:\n",
    "        The value we want to get maximum when we apply baysian optimization. \n",
    "        Here we use the MNLSE metric, then the output should be -MNLSE of the validation dataset. \n",
    "    \n",
    "        \"\"\"\n",
    "        oof_preds = np.zeros(train_set.shape[0]) ## out of fold prediction \n",
    "        ## define parameters\n",
    "        params = {  'bootstrap': True,\n",
    "                    'criterion': 'mse',\n",
    "                    'max_depth': 4,\n",
    "                    'max_features': 'auto',\n",
    "                    'max_leaf_nodes': None,\n",
    "                    'min_impurity_decrease': 0.0,\n",
    "                    'min_impurity_split': None,\n",
    "                    'min_samples_leaf': 1,\n",
    "                    'min_samples_split': 2,\n",
    "                    'min_weight_fraction_leaf': 0.0,\n",
    "                    'n_estimators': 100,\n",
    "                    'n_jobs': 1,\n",
    "                    'oob_score': False,\n",
    "                    'random_state': 42,\n",
    "                    'verbose': 0,\n",
    "                    'warm_start': False}\n",
    "        # update parameter search \n",
    "\n",
    "        params['max_depth'] = int(round(max_depth))\n",
    "        params['min_samples_leaf'] = int(round(min_samples_leaf))\n",
    "        params['min_samples_split'] = int(round(min_samples_split))\n",
    "        #params['n_estimators'] = int(round(n_estimators))\n",
    "        \n",
    "        for train_index, valid_index in kf.split(train_set):\n",
    "            X_train , X_valid  = train_set.loc[train_index,:], train_set.loc[valid_index,:]\n",
    "            y_train, y_valid = target[train_index], target[valid_index]\n",
    "            with HiddenPrints():\n",
    "                model = single_fold_RFE(X_train, y_train, X_valid, y_valid, params) ## get testing prediction and model  \n",
    "            oof_preds[valid_index] = model.predict(train_set.loc[valid_index,:])  # prediction of out of fold\n",
    "        score = -(mean_squared_error(target, oof_preds) ** .5)\n",
    "        return score\n",
    "    \n",
    "    optim = BayesianOptimization(kfold_model, grid_search , random_state=0)\n",
    "    # optimize\n",
    "    optim.maximize(init_points=init_round, n_iter=opt_round,acq='ei')\n",
    "    # output optimization process\n",
    "    if output_process == True: optim.points_to_csv(\"./data/bayes_opt_result.csv\")\n",
    "\n",
    "    return optim"
   ]
  },
  {
   "cell_type": "code",
   "execution_count": 80,
   "metadata": {},
   "outputs": [
    {
     "name": "stdout",
     "output_type": "stream",
     "text": [
      "|   iter    |  target   | max_depth | min_sa... | min_sa... |\n",
      "-------------------------------------------------------------\n",
      "| \u001b[0m 1       \u001b[0m | \u001b[0m-0.1523  \u001b[0m | \u001b[0m 6.195   \u001b[0m | \u001b[0m 7.437   \u001b[0m | \u001b[0m 4.411   \u001b[0m |\n",
      "| \u001b[95m 2       \u001b[0m | \u001b[95m-0.1518  \u001b[0m | \u001b[95m 6.18    \u001b[0m | \u001b[95m 4.813   \u001b[0m | \u001b[95m 4.584   \u001b[0m |\n",
      "| \u001b[0m 3       \u001b[0m | \u001b[0m-0.1539  \u001b[0m | \u001b[0m 5.75    \u001b[0m | \u001b[0m 9.026   \u001b[0m | \u001b[0m 5.855   \u001b[0m |\n",
      "| \u001b[0m 4       \u001b[0m | \u001b[0m-0.1529  \u001b[0m | \u001b[0m 5.534   \u001b[0m | \u001b[0m 8.126   \u001b[0m | \u001b[0m 4.116   \u001b[0m |\n",
      "| \u001b[0m 5       \u001b[0m | \u001b[0m-0.1539  \u001b[0m | \u001b[0m 6.272   \u001b[0m | \u001b[0m 9.33    \u001b[0m | \u001b[0m 2.284   \u001b[0m |\n",
      "| \u001b[0m 6       \u001b[0m | \u001b[0m-0.1749  \u001b[0m | \u001b[0m 4.349   \u001b[0m | \u001b[0m 1.182   \u001b[0m | \u001b[0m 5.33    \u001b[0m |\n",
      "| \u001b[95m 7       \u001b[0m | \u001b[95m-0.1508  \u001b[0m | \u001b[95m 7.113   \u001b[0m | \u001b[95m 8.83    \u001b[0m | \u001b[95m 5.914   \u001b[0m |\n",
      "| \u001b[95m 8       \u001b[0m | \u001b[95m-0.1472  \u001b[0m | \u001b[95m 7.197   \u001b[0m | \u001b[95m 5.153   \u001b[0m | \u001b[95m 5.122   \u001b[0m |\n",
      "| \u001b[0m 9       \u001b[0m | \u001b[0m-0.1736  \u001b[0m | \u001b[0m 4.473   \u001b[0m | \u001b[0m 6.759   \u001b[0m | \u001b[0m 2.573   \u001b[0m |\n",
      "| \u001b[95m 10      \u001b[0m | \u001b[95m-0.1457  \u001b[0m | \u001b[95m 7.779   \u001b[0m | \u001b[95m 5.697   \u001b[0m | \u001b[95m 3.659   \u001b[0m |\n",
      "| \u001b[0m 11      \u001b[0m | \u001b[0m-0.1605  \u001b[0m | \u001b[0m 5.058   \u001b[0m | \u001b[0m 7.968   \u001b[0m | \u001b[0m 3.825   \u001b[0m |\n",
      "| \u001b[0m 12      \u001b[0m | \u001b[0m-0.1529  \u001b[0m | \u001b[0m 6.274   \u001b[0m | \u001b[0m 1.169   \u001b[0m | \u001b[0m 4.471   \u001b[0m |\n",
      "| \u001b[0m 13      \u001b[0m | \u001b[0m-0.1523  \u001b[0m | \u001b[0m 6.448   \u001b[0m | \u001b[0m 6.552   \u001b[0m | \u001b[0m 5.775   \u001b[0m |\n",
      "| \u001b[0m 14      \u001b[0m | \u001b[0m-0.1467  \u001b[0m | \u001b[0m 6.727   \u001b[0m | \u001b[0m 4.236   \u001b[0m | \u001b[0m 3.748   \u001b[0m |\n",
      "| \u001b[0m 15      \u001b[0m | \u001b[0m-0.1467  \u001b[0m | \u001b[0m 6.791   \u001b[0m | \u001b[0m 1.542   \u001b[0m | \u001b[0m 4.667   \u001b[0m |\n",
      "| \u001b[95m 16      \u001b[0m | \u001b[95m-0.144   \u001b[0m | \u001b[95m 7.829   \u001b[0m | \u001b[95m 2.714   \u001b[0m | \u001b[95m 4.256   \u001b[0m |\n",
      "| \u001b[0m 17      \u001b[0m | \u001b[0m-0.145   \u001b[0m | \u001b[0m 8.0     \u001b[0m | \u001b[0m 1.359   \u001b[0m | \u001b[0m 4.682   \u001b[0m |\n",
      "| \u001b[0m 18      \u001b[0m | \u001b[0m-0.1444  \u001b[0m | \u001b[0m 8.0     \u001b[0m | \u001b[0m 4.287   \u001b[0m | \u001b[0m 4.002   \u001b[0m |\n",
      "| \u001b[0m 19      \u001b[0m | \u001b[0m-0.144   \u001b[0m | \u001b[0m 7.915   \u001b[0m | \u001b[0m 2.69    \u001b[0m | \u001b[0m 5.72    \u001b[0m |\n",
      "| \u001b[0m 20      \u001b[0m | \u001b[0m-0.1467  \u001b[0m | \u001b[0m 7.453   \u001b[0m | \u001b[0m 2.451   \u001b[0m | \u001b[0m 4.976   \u001b[0m |\n",
      "| \u001b[0m 21      \u001b[0m | \u001b[0m-0.144   \u001b[0m | \u001b[0m 7.887   \u001b[0m | \u001b[0m 2.545   \u001b[0m | \u001b[0m 2.868   \u001b[0m |\n",
      "| \u001b[0m 22      \u001b[0m | \u001b[0m-0.1444  \u001b[0m | \u001b[0m 7.953   \u001b[0m | \u001b[0m 3.96    \u001b[0m | \u001b[0m 5.922   \u001b[0m |\n",
      "| \u001b[95m 23      \u001b[0m | \u001b[95m-0.1435  \u001b[0m | \u001b[95m 7.577   \u001b[0m | \u001b[95m 1.861   \u001b[0m | \u001b[95m 3.606   \u001b[0m |\n",
      "| \u001b[0m 24      \u001b[0m | \u001b[0m-0.1444  \u001b[0m | \u001b[0m 8.0     \u001b[0m | \u001b[0m 4.35    \u001b[0m | \u001b[0m 2.0     \u001b[0m |\n",
      "| \u001b[0m 25      \u001b[0m | \u001b[0m-0.1496  \u001b[0m | \u001b[0m 8.0     \u001b[0m | \u001b[0m 8.968   \u001b[0m | \u001b[0m 3.891   \u001b[0m |\n",
      "| \u001b[0m 26      \u001b[0m | \u001b[0m-0.1444  \u001b[0m | \u001b[0m 8.0     \u001b[0m | \u001b[0m 3.63    \u001b[0m | \u001b[0m 3.085   \u001b[0m |\n",
      "| \u001b[0m 27      \u001b[0m | \u001b[0m-0.1449  \u001b[0m | \u001b[0m 7.914   \u001b[0m | \u001b[0m 1.129   \u001b[0m | \u001b[0m 2.093   \u001b[0m |\n",
      "| \u001b[0m 28      \u001b[0m | \u001b[0m-0.1465  \u001b[0m | \u001b[0m 6.926   \u001b[0m | \u001b[0m 2.725   \u001b[0m | \u001b[0m 2.0     \u001b[0m |\n",
      "| \u001b[0m 29      \u001b[0m | \u001b[0m-0.1448  \u001b[0m | \u001b[0m 7.832   \u001b[0m | \u001b[0m 1.21    \u001b[0m | \u001b[0m 5.927   \u001b[0m |\n",
      "| \u001b[0m 30      \u001b[0m | \u001b[0m-0.1435  \u001b[0m | \u001b[0m 7.934   \u001b[0m | \u001b[0m 2.408   \u001b[0m | \u001b[0m 3.636   \u001b[0m |\n",
      "| \u001b[0m 31      \u001b[0m | \u001b[0m-0.1457  \u001b[0m | \u001b[0m 7.947   \u001b[0m | \u001b[0m 5.631   \u001b[0m | \u001b[0m 2.005   \u001b[0m |\n",
      "| \u001b[0m 32      \u001b[0m | \u001b[0m-0.145   \u001b[0m | \u001b[0m 8.0     \u001b[0m | \u001b[0m 1.0     \u001b[0m | \u001b[0m 3.268   \u001b[0m |\n",
      "| \u001b[0m 33      \u001b[0m | \u001b[0m-0.1465  \u001b[0m | \u001b[0m 7.453   \u001b[0m | \u001b[0m 2.77    \u001b[0m | \u001b[0m 3.565   \u001b[0m |\n",
      "| \u001b[0m 34      \u001b[0m | \u001b[0m-0.1435  \u001b[0m | \u001b[0m 7.98    \u001b[0m | \u001b[0m 1.882   \u001b[0m | \u001b[0m 3.088   \u001b[0m |\n",
      "| \u001b[0m 35      \u001b[0m | \u001b[0m-0.144   \u001b[0m | \u001b[0m 7.887   \u001b[0m | \u001b[0m 2.628   \u001b[0m | \u001b[0m 2.028   \u001b[0m |\n",
      "| \u001b[0m 36      \u001b[0m | \u001b[0m-0.1435  \u001b[0m | \u001b[0m 7.974   \u001b[0m | \u001b[0m 2.013   \u001b[0m | \u001b[0m 3.987   \u001b[0m |\n",
      "| \u001b[0m 37      \u001b[0m | \u001b[0m-0.144   \u001b[0m | \u001b[0m 7.983   \u001b[0m | \u001b[0m 3.468   \u001b[0m | \u001b[0m 4.597   \u001b[0m |\n",
      "| \u001b[0m 38      \u001b[0m | \u001b[0m-0.1452  \u001b[0m | \u001b[0m 7.731   \u001b[0m | \u001b[0m 4.75    \u001b[0m | \u001b[0m 2.927   \u001b[0m |\n",
      "| \u001b[0m 39      \u001b[0m | \u001b[0m-0.1457  \u001b[0m | \u001b[0m 8.0     \u001b[0m | \u001b[0m 5.733   \u001b[0m | \u001b[0m 6.0     \u001b[0m |\n",
      "| \u001b[0m 40      \u001b[0m | \u001b[0m-0.1435  \u001b[0m | \u001b[0m 7.998   \u001b[0m | \u001b[0m 2.209   \u001b[0m | \u001b[0m 3.73    \u001b[0m |\n",
      "=============================================================\n"
     ]
    }
   ],
   "source": [
    "optim = bayes_parameter_opt_RFR(train_set, target, init_round=15, opt_round=25 ,output_process=False)"
   ]
  },
  {
   "cell_type": "markdown",
   "metadata": {},
   "source": [
    "### In ra các các tham số  tối ưu"
   ]
  },
  {
   "cell_type": "code",
   "execution_count": 81,
   "metadata": {},
   "outputs": [
    {
     "name": "stdout",
     "output_type": "stream",
     "text": [
      "{'target': -0.14353196152988612, 'params': {'max_depth': 7.577470226676313, 'min_samples_leaf': 1.8610942045560186, 'min_samples_split': 3.606457696290453}}\n"
     ]
    }
   ],
   "source": [
    "print(optim.max)"
   ]
  },
  {
   "cell_type": "markdown",
   "metadata": {},
   "source": [
    "## Kiểm tra lại kết quả\n",
    "\n",
    "#### Sử dụng lại Kfold và tham số của mô hình tuần 1. "
   ]
  },
  {
   "cell_type": "code",
   "execution_count": 82,
   "metadata": {},
   "outputs": [],
   "source": [
    "kf = KFold(n_splits=5, shuffle = True, random_state = 2020)\n",
    "params = {  'bootstrap': True,\n",
    "            'criterion': 'mse',\n",
    "            'max_depth': 4,\n",
    "            'max_features': 'auto',\n",
    "            'max_leaf_nodes': None,\n",
    "            'min_impurity_decrease': 0.0,\n",
    "            'min_impurity_split': None,\n",
    "            'min_samples_leaf': 1,\n",
    "            'min_samples_split': 2,\n",
    "            'min_weight_fraction_leaf': 0.0,\n",
    "            'n_estimators': 100,\n",
    "            'n_jobs': 1,\n",
    "            'oob_score': False,\n",
    "            'random_state': 42,\n",
    "            'verbose': 0,\n",
    "            'warm_start': False}"
   ]
  },
  {
   "cell_type": "markdown",
   "metadata": {},
   "source": [
    "#### Update tham số cần tối ưu"
   ]
  },
  {
   "cell_type": "code",
   "execution_count": 83,
   "metadata": {},
   "outputs": [],
   "source": [
    "params['max_depth'] = int(round(optim.max[\"params\"][\"max_depth\"]))\n",
    "params['min_samples_leaf'] = int(round(optim.max[\"params\"][\"min_samples_leaf\"]))\n",
    "params['min_samples_split'] = int(round(optim.max[\"params\"][\"min_samples_split\"]))"
   ]
  },
  {
   "cell_type": "markdown",
   "metadata": {},
   "source": [
    "#### Chạy lại mô hình dựa trên Kfold và tham số ở trên "
   ]
  },
  {
   "cell_type": "code",
   "execution_count": 84,
   "metadata": {},
   "outputs": [
    {
     "name": "stdout",
     "output_type": "stream",
     "text": [
      "0.1344003574474378\n",
      "0.15199920983791837\n",
      "0.13681978788315652\n",
      "0.14503508669945614\n",
      "0.15491255684809496\n",
      "Full Out-Of-Fold score :  0.144851\n"
     ]
    }
   ],
   "source": [
    "pred_test_full, oof_preds, model = RFR_kfold(train_set, target,test_set,params)"
   ]
  },
  {
   "cell_type": "markdown",
   "metadata": {},
   "source": [
    "### Sau khi finetune parameter, kết quả trên tập validation đã có những cải thiện đáng kể"
   ]
  },
  {
   "cell_type": "markdown",
   "metadata": {},
   "source": [
    "# QA"
   ]
  }
 ],
 "metadata": {
  "kernelspec": {
   "display_name": "Python 3",
   "language": "python",
   "name": "python3"
  },
  "language_info": {
   "codemirror_mode": {
    "name": "ipython",
    "version": 3
   },
   "file_extension": ".py",
   "mimetype": "text/x-python",
   "name": "python",
   "nbconvert_exporter": "python",
   "pygments_lexer": "ipython3",
   "version": "3.7.6"
  }
 },
 "nbformat": 4,
 "nbformat_minor": 4
}
